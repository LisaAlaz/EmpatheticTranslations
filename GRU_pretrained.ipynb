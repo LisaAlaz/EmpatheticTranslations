{
  "nbformat": 4,
  "nbformat_minor": 0,
  "metadata": {
    "colab": {
      "name": "GRUpretrained.ipynb",
      "provenance": [],
      "collapsed_sections": []
    },
    "kernelspec": {
      "name": "python3",
      "display_name": "Python 3"
    },
    "language_info": {
      "name": "python"
    }
  },
  "cells": [
    {
      "cell_type": "markdown",
      "metadata": {
        "id": "N3A7TtZcrvt1"
      },
      "source": [
        "#2. GRU encoder-decoder with attention (pre-trained embeddings)"
      ]
    },
    {
      "cell_type": "markdown",
      "metadata": {
        "id": "paqiRlAx7SMU"
      },
      "source": [
        "The following architecture is composed of of a GRU encoder and a GRU decoder, with an attention layer. Again we use MLP attention and the energy formula $s_i = a^T tanh (W_d d_t + W_s h_i)$. We use pretrained embeddings from BERT base uncased. The dimension of the embedding layer is 512 for both the encoder and the decoder. Again we use Adam optimiser with a learning rate of 0.001,cross-entropy loss and 0.5 dropout. Both models regardless of their input use the same vocabulary and have 72,848,954 tunable parameters. Both models are trained for 100 epochs."
      ]
    },
    {
      "cell_type": "code",
      "metadata": {
        "id": "6ZLXFKnwu-fM",
        "colab": {
          "base_uri": "https://localhost:8080/"
        },
        "outputId": "5b966db4-058b-49bf-a2bb-bd50ece4c8e5"
      },
      "source": [
        "!pip install transformers\n",
        "!pip install sentencepiece"
      ],
      "execution_count": null,
      "outputs": [
        {
          "output_type": "stream",
          "text": [
            "Collecting transformers\n",
            "\u001b[?25l  Downloading https://files.pythonhosted.org/packages/d5/43/cfe4ee779bbd6a678ac6a97c5a5cdeb03c35f9eaebbb9720b036680f9a2d/transformers-4.6.1-py3-none-any.whl (2.2MB)\n",
            "\r\u001b[K     |▏                               | 10kB 22.6MB/s eta 0:00:01\r\u001b[K     |▎                               | 20kB 30.6MB/s eta 0:00:01\r\u001b[K     |▍                               | 30kB 22.7MB/s eta 0:00:01\r\u001b[K     |▋                               | 40kB 17.9MB/s eta 0:00:01\r\u001b[K     |▊                               | 51kB 15.6MB/s eta 0:00:01\r\u001b[K     |▉                               | 61kB 12.1MB/s eta 0:00:01\r\u001b[K     |█                               | 71kB 13.5MB/s eta 0:00:01\r\u001b[K     |█▏                              | 81kB 14.6MB/s eta 0:00:01\r\u001b[K     |█▎                              | 92kB 13.2MB/s eta 0:00:01\r\u001b[K     |█▌                              | 102kB 14.3MB/s eta 0:00:01\r\u001b[K     |█▋                              | 112kB 14.3MB/s eta 0:00:01\r\u001b[K     |█▊                              | 122kB 14.3MB/s eta 0:00:01\r\u001b[K     |██                              | 133kB 14.3MB/s eta 0:00:01\r\u001b[K     |██                              | 143kB 14.3MB/s eta 0:00:01\r\u001b[K     |██▏                             | 153kB 14.3MB/s eta 0:00:01\r\u001b[K     |██▎                             | 163kB 14.3MB/s eta 0:00:01\r\u001b[K     |██▌                             | 174kB 14.3MB/s eta 0:00:01\r\u001b[K     |██▋                             | 184kB 14.3MB/s eta 0:00:01\r\u001b[K     |██▊                             | 194kB 14.3MB/s eta 0:00:01\r\u001b[K     |███                             | 204kB 14.3MB/s eta 0:00:01\r\u001b[K     |███                             | 215kB 14.3MB/s eta 0:00:01\r\u001b[K     |███▏                            | 225kB 14.3MB/s eta 0:00:01\r\u001b[K     |███▍                            | 235kB 14.3MB/s eta 0:00:01\r\u001b[K     |███▌                            | 245kB 14.3MB/s eta 0:00:01\r\u001b[K     |███▋                            | 256kB 14.3MB/s eta 0:00:01\r\u001b[K     |███▉                            | 266kB 14.3MB/s eta 0:00:01\r\u001b[K     |████                            | 276kB 14.3MB/s eta 0:00:01\r\u001b[K     |████                            | 286kB 14.3MB/s eta 0:00:01\r\u001b[K     |████▎                           | 296kB 14.3MB/s eta 0:00:01\r\u001b[K     |████▍                           | 307kB 14.3MB/s eta 0:00:01\r\u001b[K     |████▌                           | 317kB 14.3MB/s eta 0:00:01\r\u001b[K     |████▋                           | 327kB 14.3MB/s eta 0:00:01\r\u001b[K     |████▉                           | 337kB 14.3MB/s eta 0:00:01\r\u001b[K     |█████                           | 348kB 14.3MB/s eta 0:00:01\r\u001b[K     |█████                           | 358kB 14.3MB/s eta 0:00:01\r\u001b[K     |█████▎                          | 368kB 14.3MB/s eta 0:00:01\r\u001b[K     |█████▍                          | 378kB 14.3MB/s eta 0:00:01\r\u001b[K     |█████▌                          | 389kB 14.3MB/s eta 0:00:01\r\u001b[K     |█████▊                          | 399kB 14.3MB/s eta 0:00:01\r\u001b[K     |█████▉                          | 409kB 14.3MB/s eta 0:00:01\r\u001b[K     |██████                          | 419kB 14.3MB/s eta 0:00:01\r\u001b[K     |██████▏                         | 430kB 14.3MB/s eta 0:00:01\r\u001b[K     |██████▎                         | 440kB 14.3MB/s eta 0:00:01\r\u001b[K     |██████▍                         | 450kB 14.3MB/s eta 0:00:01\r\u001b[K     |██████▌                         | 460kB 14.3MB/s eta 0:00:01\r\u001b[K     |██████▊                         | 471kB 14.3MB/s eta 0:00:01\r\u001b[K     |██████▉                         | 481kB 14.3MB/s eta 0:00:01\r\u001b[K     |███████                         | 491kB 14.3MB/s eta 0:00:01\r\u001b[K     |███████▏                        | 501kB 14.3MB/s eta 0:00:01\r\u001b[K     |███████▎                        | 512kB 14.3MB/s eta 0:00:01\r\u001b[K     |███████▍                        | 522kB 14.3MB/s eta 0:00:01\r\u001b[K     |███████▋                        | 532kB 14.3MB/s eta 0:00:01\r\u001b[K     |███████▊                        | 542kB 14.3MB/s eta 0:00:01\r\u001b[K     |███████▉                        | 552kB 14.3MB/s eta 0:00:01\r\u001b[K     |████████                        | 563kB 14.3MB/s eta 0:00:01\r\u001b[K     |████████▏                       | 573kB 14.3MB/s eta 0:00:01\r\u001b[K     |████████▎                       | 583kB 14.3MB/s eta 0:00:01\r\u001b[K     |████████▌                       | 593kB 14.3MB/s eta 0:00:01\r\u001b[K     |████████▋                       | 604kB 14.3MB/s eta 0:00:01\r\u001b[K     |████████▊                       | 614kB 14.3MB/s eta 0:00:01\r\u001b[K     |████████▉                       | 624kB 14.3MB/s eta 0:00:01\r\u001b[K     |█████████                       | 634kB 14.3MB/s eta 0:00:01\r\u001b[K     |█████████▏                      | 645kB 14.3MB/s eta 0:00:01\r\u001b[K     |█████████▎                      | 655kB 14.3MB/s eta 0:00:01\r\u001b[K     |█████████▌                      | 665kB 14.3MB/s eta 0:00:01\r\u001b[K     |█████████▋                      | 675kB 14.3MB/s eta 0:00:01\r\u001b[K     |█████████▊                      | 686kB 14.3MB/s eta 0:00:01\r\u001b[K     |██████████                      | 696kB 14.3MB/s eta 0:00:01\r\u001b[K     |██████████                      | 706kB 14.3MB/s eta 0:00:01\r\u001b[K     |██████████▏                     | 716kB 14.3MB/s eta 0:00:01\r\u001b[K     |██████████▍                     | 727kB 14.3MB/s eta 0:00:01\r\u001b[K     |██████████▌                     | 737kB 14.3MB/s eta 0:00:01\r\u001b[K     |██████████▋                     | 747kB 14.3MB/s eta 0:00:01\r\u001b[K     |██████████▉                     | 757kB 14.3MB/s eta 0:00:01\r\u001b[K     |███████████                     | 768kB 14.3MB/s eta 0:00:01\r\u001b[K     |███████████                     | 778kB 14.3MB/s eta 0:00:01\r\u001b[K     |███████████▏                    | 788kB 14.3MB/s eta 0:00:01\r\u001b[K     |███████████▍                    | 798kB 14.3MB/s eta 0:00:01\r\u001b[K     |███████████▌                    | 808kB 14.3MB/s eta 0:00:01\r\u001b[K     |███████████▋                    | 819kB 14.3MB/s eta 0:00:01\r\u001b[K     |███████████▉                    | 829kB 14.3MB/s eta 0:00:01\r\u001b[K     |████████████                    | 839kB 14.3MB/s eta 0:00:01\r\u001b[K     |████████████                    | 849kB 14.3MB/s eta 0:00:01\r\u001b[K     |████████████▎                   | 860kB 14.3MB/s eta 0:00:01\r\u001b[K     |████████████▍                   | 870kB 14.3MB/s eta 0:00:01\r\u001b[K     |████████████▌                   | 880kB 14.3MB/s eta 0:00:01\r\u001b[K     |████████████▊                   | 890kB 14.3MB/s eta 0:00:01\r\u001b[K     |████████████▉                   | 901kB 14.3MB/s eta 0:00:01\r\u001b[K     |█████████████                   | 911kB 14.3MB/s eta 0:00:01\r\u001b[K     |█████████████                   | 921kB 14.3MB/s eta 0:00:01\r\u001b[K     |█████████████▎                  | 931kB 14.3MB/s eta 0:00:01\r\u001b[K     |█████████████▍                  | 942kB 14.3MB/s eta 0:00:01\r\u001b[K     |█████████████▌                  | 952kB 14.3MB/s eta 0:00:01\r\u001b[K     |█████████████▊                  | 962kB 14.3MB/s eta 0:00:01\r\u001b[K     |█████████████▉                  | 972kB 14.3MB/s eta 0:00:01\r\u001b[K     |██████████████                  | 983kB 14.3MB/s eta 0:00:01\r\u001b[K     |██████████████▏                 | 993kB 14.3MB/s eta 0:00:01\r\u001b[K     |██████████████▎                 | 1.0MB 14.3MB/s eta 0:00:01\r\u001b[K     |██████████████▍                 | 1.0MB 14.3MB/s eta 0:00:01\r\u001b[K     |██████████████▋                 | 1.0MB 14.3MB/s eta 0:00:01\r\u001b[K     |██████████████▊                 | 1.0MB 14.3MB/s eta 0:00:01\r\u001b[K     |██████████████▉                 | 1.0MB 14.3MB/s eta 0:00:01\r\u001b[K     |███████████████                 | 1.1MB 14.3MB/s eta 0:00:01\r\u001b[K     |███████████████▏                | 1.1MB 14.3MB/s eta 0:00:01\r\u001b[K     |███████████████▎                | 1.1MB 14.3MB/s eta 0:00:01\r\u001b[K     |███████████████▍                | 1.1MB 14.3MB/s eta 0:00:01\r\u001b[K     |███████████████▋                | 1.1MB 14.3MB/s eta 0:00:01\r\u001b[K     |███████████████▊                | 1.1MB 14.3MB/s eta 0:00:01\r\u001b[K     |███████████████▉                | 1.1MB 14.3MB/s eta 0:00:01\r\u001b[K     |████████████████                | 1.1MB 14.3MB/s eta 0:00:01\r\u001b[K     |████████████████▏               | 1.1MB 14.3MB/s eta 0:00:01\r\u001b[K     |████████████████▎               | 1.1MB 14.3MB/s eta 0:00:01\r\u001b[K     |████████████████▌               | 1.2MB 14.3MB/s eta 0:00:01\r\u001b[K     |████████████████▋               | 1.2MB 14.3MB/s eta 0:00:01\r\u001b[K     |████████████████▊               | 1.2MB 14.3MB/s eta 0:00:01\r\u001b[K     |█████████████████               | 1.2MB 14.3MB/s eta 0:00:01\r\u001b[K     |█████████████████               | 1.2MB 14.3MB/s eta 0:00:01\r\u001b[K     |█████████████████▏              | 1.2MB 14.3MB/s eta 0:00:01\r\u001b[K     |█████████████████▎              | 1.2MB 14.3MB/s eta 0:00:01\r\u001b[K     |█████████████████▌              | 1.2MB 14.3MB/s eta 0:00:01\r\u001b[K     |█████████████████▋              | 1.2MB 14.3MB/s eta 0:00:01\r\u001b[K     |█████████████████▊              | 1.2MB 14.3MB/s eta 0:00:01\r\u001b[K     |██████████████████              | 1.3MB 14.3MB/s eta 0:00:01\r\u001b[K     |██████████████████              | 1.3MB 14.3MB/s eta 0:00:01\r\u001b[K     |██████████████████▏             | 1.3MB 14.3MB/s eta 0:00:01\r\u001b[K     |██████████████████▍             | 1.3MB 14.3MB/s eta 0:00:01\r\u001b[K     |██████████████████▌             | 1.3MB 14.3MB/s eta 0:00:01\r\u001b[K     |██████████████████▋             | 1.3MB 14.3MB/s eta 0:00:01\r\u001b[K     |██████████████████▉             | 1.3MB 14.3MB/s eta 0:00:01\r\u001b[K     |███████████████████             | 1.3MB 14.3MB/s eta 0:00:01\r\u001b[K     |███████████████████             | 1.3MB 14.3MB/s eta 0:00:01\r\u001b[K     |███████████████████▎            | 1.4MB 14.3MB/s eta 0:00:01\r\u001b[K     |███████████████████▍            | 1.4MB 14.3MB/s eta 0:00:01\r\u001b[K     |███████████████████▌            | 1.4MB 14.3MB/s eta 0:00:01\r\u001b[K     |███████████████████▋            | 1.4MB 14.3MB/s eta 0:00:01\r\u001b[K     |███████████████████▉            | 1.4MB 14.3MB/s eta 0:00:01\r\u001b[K     |████████████████████            | 1.4MB 14.3MB/s eta 0:00:01\r\u001b[K     |████████████████████            | 1.4MB 14.3MB/s eta 0:00:01\r\u001b[K     |████████████████████▎           | 1.4MB 14.3MB/s eta 0:00:01\r\u001b[K     |████████████████████▍           | 1.4MB 14.3MB/s eta 0:00:01\r\u001b[K     |████████████████████▌           | 1.4MB 14.3MB/s eta 0:00:01\r\u001b[K     |████████████████████▊           | 1.5MB 14.3MB/s eta 0:00:01\r\u001b[K     |████████████████████▉           | 1.5MB 14.3MB/s eta 0:00:01\r\u001b[K     |█████████████████████           | 1.5MB 14.3MB/s eta 0:00:01\r\u001b[K     |█████████████████████▏          | 1.5MB 14.3MB/s eta 0:00:01\r\u001b[K     |█████████████████████▎          | 1.5MB 14.3MB/s eta 0:00:01\r\u001b[K     |█████████████████████▍          | 1.5MB 14.3MB/s eta 0:00:01\r\u001b[K     |█████████████████████▋          | 1.5MB 14.3MB/s eta 0:00:01\r\u001b[K     |█████████████████████▊          | 1.5MB 14.3MB/s eta 0:00:01\r\u001b[K     |█████████████████████▉          | 1.5MB 14.3MB/s eta 0:00:01\r\u001b[K     |██████████████████████          | 1.5MB 14.3MB/s eta 0:00:01\r\u001b[K     |██████████████████████▏         | 1.6MB 14.3MB/s eta 0:00:01\r\u001b[K     |██████████████████████▎         | 1.6MB 14.3MB/s eta 0:00:01\r\u001b[K     |██████████████████████▍         | 1.6MB 14.3MB/s eta 0:00:01\r\u001b[K     |██████████████████████▋         | 1.6MB 14.3MB/s eta 0:00:01\r\u001b[K     |██████████████████████▊         | 1.6MB 14.3MB/s eta 0:00:01\r\u001b[K     |██████████████████████▉         | 1.6MB 14.3MB/s eta 0:00:01\r\u001b[K     |███████████████████████         | 1.6MB 14.3MB/s eta 0:00:01\r\u001b[K     |███████████████████████▏        | 1.6MB 14.3MB/s eta 0:00:01\r\u001b[K     |███████████████████████▎        | 1.6MB 14.3MB/s eta 0:00:01\r\u001b[K     |███████████████████████▌        | 1.6MB 14.3MB/s eta 0:00:01\r\u001b[K     |███████████████████████▋        | 1.7MB 14.3MB/s eta 0:00:01\r\u001b[K     |███████████████████████▊        | 1.7MB 14.3MB/s eta 0:00:01\r\u001b[K     |███████████████████████▉        | 1.7MB 14.3MB/s eta 0:00:01\r\u001b[K     |████████████████████████        | 1.7MB 14.3MB/s eta 0:00:01\r\u001b[K     |████████████████████████▏       | 1.7MB 14.3MB/s eta 0:00:01\r\u001b[K     |████████████████████████▎       | 1.7MB 14.3MB/s eta 0:00:01\r\u001b[K     |████████████████████████▌       | 1.7MB 14.3MB/s eta 0:00:01\r\u001b[K     |████████████████████████▋       | 1.7MB 14.3MB/s eta 0:00:01\r\u001b[K     |████████████████████████▊       | 1.7MB 14.3MB/s eta 0:00:01\r\u001b[K     |█████████████████████████       | 1.8MB 14.3MB/s eta 0:00:01\r\u001b[K     |█████████████████████████       | 1.8MB 14.3MB/s eta 0:00:01\r\u001b[K     |█████████████████████████▏      | 1.8MB 14.3MB/s eta 0:00:01\r\u001b[K     |█████████████████████████▍      | 1.8MB 14.3MB/s eta 0:00:01\r\u001b[K     |█████████████████████████▌      | 1.8MB 14.3MB/s eta 0:00:01\r\u001b[K     |█████████████████████████▋      | 1.8MB 14.3MB/s eta 0:00:01\r\u001b[K     |█████████████████████████▉      | 1.8MB 14.3MB/s eta 0:00:01\r\u001b[K     |██████████████████████████      | 1.8MB 14.3MB/s eta 0:00:01\r\u001b[K     |██████████████████████████      | 1.8MB 14.3MB/s eta 0:00:01\r\u001b[K     |██████████████████████████▏     | 1.8MB 14.3MB/s eta 0:00:01\r\u001b[K     |██████████████████████████▍     | 1.9MB 14.3MB/s eta 0:00:01\r\u001b[K     |██████████████████████████▌     | 1.9MB 14.3MB/s eta 0:00:01\r\u001b[K     |██████████████████████████▋     | 1.9MB 14.3MB/s eta 0:00:01\r\u001b[K     |██████████████████████████▉     | 1.9MB 14.3MB/s eta 0:00:01\r\u001b[K     |███████████████████████████     | 1.9MB 14.3MB/s eta 0:00:01\r\u001b[K     |███████████████████████████     | 1.9MB 14.3MB/s eta 0:00:01\r\u001b[K     |███████████████████████████▎    | 1.9MB 14.3MB/s eta 0:00:01\r\u001b[K     |███████████████████████████▍    | 1.9MB 14.3MB/s eta 0:00:01\r\u001b[K     |███████████████████████████▌    | 1.9MB 14.3MB/s eta 0:00:01\r\u001b[K     |███████████████████████████▊    | 1.9MB 14.3MB/s eta 0:00:01\r\u001b[K     |███████████████████████████▉    | 2.0MB 14.3MB/s eta 0:00:01\r\u001b[K     |████████████████████████████    | 2.0MB 14.3MB/s eta 0:00:01\r\u001b[K     |████████████████████████████▏   | 2.0MB 14.3MB/s eta 0:00:01\r\u001b[K     |████████████████████████████▎   | 2.0MB 14.3MB/s eta 0:00:01\r\u001b[K     |████████████████████████████▍   | 2.0MB 14.3MB/s eta 0:00:01\r\u001b[K     |████████████████████████████▌   | 2.0MB 14.3MB/s eta 0:00:01\r\u001b[K     |████████████████████████████▊   | 2.0MB 14.3MB/s eta 0:00:01\r\u001b[K     |████████████████████████████▉   | 2.0MB 14.3MB/s eta 0:00:01\r\u001b[K     |█████████████████████████████   | 2.0MB 14.3MB/s eta 0:00:01\r\u001b[K     |█████████████████████████████▏  | 2.0MB 14.3MB/s eta 0:00:01\r\u001b[K     |█████████████████████████████▎  | 2.1MB 14.3MB/s eta 0:00:01\r\u001b[K     |█████████████████████████████▍  | 2.1MB 14.3MB/s eta 0:00:01\r\u001b[K     |█████████████████████████████▋  | 2.1MB 14.3MB/s eta 0:00:01\r\u001b[K     |█████████████████████████████▊  | 2.1MB 14.3MB/s eta 0:00:01\r\u001b[K     |█████████████████████████████▉  | 2.1MB 14.3MB/s eta 0:00:01\r\u001b[K     |██████████████████████████████  | 2.1MB 14.3MB/s eta 0:00:01\r\u001b[K     |██████████████████████████████▏ | 2.1MB 14.3MB/s eta 0:00:01\r\u001b[K     |██████████████████████████████▎ | 2.1MB 14.3MB/s eta 0:00:01\r\u001b[K     |██████████████████████████████▍ | 2.1MB 14.3MB/s eta 0:00:01\r\u001b[K     |██████████████████████████████▋ | 2.2MB 14.3MB/s eta 0:00:01\r\u001b[K     |██████████████████████████████▊ | 2.2MB 14.3MB/s eta 0:00:01\r\u001b[K     |██████████████████████████████▉ | 2.2MB 14.3MB/s eta 0:00:01\r\u001b[K     |███████████████████████████████ | 2.2MB 14.3MB/s eta 0:00:01\r\u001b[K     |███████████████████████████████▏| 2.2MB 14.3MB/s eta 0:00:01\r\u001b[K     |███████████████████████████████▎| 2.2MB 14.3MB/s eta 0:00:01\r\u001b[K     |███████████████████████████████▌| 2.2MB 14.3MB/s eta 0:00:01\r\u001b[K     |███████████████████████████████▋| 2.2MB 14.3MB/s eta 0:00:01\r\u001b[K     |███████████████████████████████▊| 2.2MB 14.3MB/s eta 0:00:01\r\u001b[K     |████████████████████████████████| 2.2MB 14.3MB/s eta 0:00:01\r\u001b[K     |████████████████████████████████| 2.3MB 14.3MB/s \n",
            "\u001b[?25hRequirement already satisfied: filelock in /usr/local/lib/python3.7/dist-packages (from transformers) (3.0.12)\n",
            "Requirement already satisfied: numpy>=1.17 in /usr/local/lib/python3.7/dist-packages (from transformers) (1.19.5)\n",
            "Collecting huggingface-hub==0.0.8\n",
            "  Downloading https://files.pythonhosted.org/packages/a1/88/7b1e45720ecf59c6c6737ff332f41c955963090a18e72acbcbeac6b25e86/huggingface_hub-0.0.8-py3-none-any.whl\n",
            "Requirement already satisfied: tqdm>=4.27 in /usr/local/lib/python3.7/dist-packages (from transformers) (4.41.1)\n",
            "Requirement already satisfied: packaging in /usr/local/lib/python3.7/dist-packages (from transformers) (20.9)\n",
            "Requirement already satisfied: regex!=2019.12.17 in /usr/local/lib/python3.7/dist-packages (from transformers) (2019.12.20)\n",
            "Collecting tokenizers<0.11,>=0.10.1\n",
            "\u001b[?25l  Downloading https://files.pythonhosted.org/packages/d4/e2/df3543e8ffdab68f5acc73f613de9c2b155ac47f162e725dcac87c521c11/tokenizers-0.10.3-cp37-cp37m-manylinux_2_5_x86_64.manylinux1_x86_64.manylinux_2_12_x86_64.manylinux2010_x86_64.whl (3.3MB)\n",
            "\u001b[K     |████████████████████████████████| 3.3MB 51.6MB/s \n",
            "\u001b[?25hRequirement already satisfied: requests in /usr/local/lib/python3.7/dist-packages (from transformers) (2.23.0)\n",
            "Requirement already satisfied: importlib-metadata; python_version < \"3.8\" in /usr/local/lib/python3.7/dist-packages (from transformers) (4.0.1)\n",
            "Collecting sacremoses\n",
            "\u001b[?25l  Downloading https://files.pythonhosted.org/packages/75/ee/67241dc87f266093c533a2d4d3d69438e57d7a90abb216fa076e7d475d4a/sacremoses-0.0.45-py3-none-any.whl (895kB)\n",
            "\u001b[K     |████████████████████████████████| 901kB 49.5MB/s \n",
            "\u001b[?25hRequirement already satisfied: pyparsing>=2.0.2 in /usr/local/lib/python3.7/dist-packages (from packaging->transformers) (2.4.7)\n",
            "Requirement already satisfied: urllib3!=1.25.0,!=1.25.1,<1.26,>=1.21.1 in /usr/local/lib/python3.7/dist-packages (from requests->transformers) (1.24.3)\n",
            "Requirement already satisfied: certifi>=2017.4.17 in /usr/local/lib/python3.7/dist-packages (from requests->transformers) (2020.12.5)\n",
            "Requirement already satisfied: idna<3,>=2.5 in /usr/local/lib/python3.7/dist-packages (from requests->transformers) (2.10)\n",
            "Requirement already satisfied: chardet<4,>=3.0.2 in /usr/local/lib/python3.7/dist-packages (from requests->transformers) (3.0.4)\n",
            "Requirement already satisfied: zipp>=0.5 in /usr/local/lib/python3.7/dist-packages (from importlib-metadata; python_version < \"3.8\"->transformers) (3.4.1)\n",
            "Requirement already satisfied: typing-extensions>=3.6.4; python_version < \"3.8\" in /usr/local/lib/python3.7/dist-packages (from importlib-metadata; python_version < \"3.8\"->transformers) (3.7.4.3)\n",
            "Requirement already satisfied: click in /usr/local/lib/python3.7/dist-packages (from sacremoses->transformers) (7.1.2)\n",
            "Requirement already satisfied: six in /usr/local/lib/python3.7/dist-packages (from sacremoses->transformers) (1.15.0)\n",
            "Requirement already satisfied: joblib in /usr/local/lib/python3.7/dist-packages (from sacremoses->transformers) (1.0.1)\n",
            "Installing collected packages: huggingface-hub, tokenizers, sacremoses, transformers\n",
            "Successfully installed huggingface-hub-0.0.8 sacremoses-0.0.45 tokenizers-0.10.3 transformers-4.6.1\n",
            "Collecting sentencepiece\n",
            "\u001b[?25l  Downloading https://files.pythonhosted.org/packages/f5/99/e0808cb947ba10f575839c43e8fafc9cc44e4a7a2c8f79c60db48220a577/sentencepiece-0.1.95-cp37-cp37m-manylinux2014_x86_64.whl (1.2MB)\n",
            "\u001b[K     |████████████████████████████████| 1.2MB 13.4MB/s \n",
            "\u001b[?25hInstalling collected packages: sentencepiece\n",
            "Successfully installed sentencepiece-0.1.95\n"
          ],
          "name": "stdout"
        }
      ]
    },
    {
      "cell_type": "code",
      "metadata": {
        "id": "Y5Yw6Wk1u_c3",
        "colab": {
          "base_uri": "https://localhost:8080/"
        },
        "outputId": "e7da0b35-7656-49f9-9208-72992e022ea9"
      },
      "source": [
        "#import statements\n",
        "import torch\n",
        "import torch.nn as nn\n",
        "import torch.optim as optim\n",
        "import torch.nn.functional as F\n",
        "\n",
        "from torchtext.legacy.data import Field, BucketIterator, Dataset, Example, LabelField\n",
        "\n",
        "import spacy\n",
        "import numpy as np\n",
        "import pandas as pd\n",
        "\n",
        "import random\n",
        "import math\n",
        "import time\n",
        "\n",
        "import nltk\n",
        "nltk.download('punkt')\n",
        "\n",
        "import tensorflow as tf\n",
        "import torch\n",
        "from torch.utils.data import Dataset, TensorDataset, DataLoader, SequentialSampler\n",
        "from keras.preprocessing.sequence import pad_sequences\n",
        "\n",
        "from transformers import BertTokenizer\n",
        "from transformers import BertForSequenceClassification, AdamW, BertConfig, BertPreTrainedModel, BertModel , Adafactor\n",
        "from transformers import get_linear_schedule_with_warmup"
      ],
      "execution_count": null,
      "outputs": [
        {
          "output_type": "stream",
          "text": [
            "[nltk_data] Downloading package punkt to /root/nltk_data...\n",
            "[nltk_data]   Package punkt is already up-to-date!\n"
          ],
          "name": "stdout"
        }
      ]
    },
    {
      "cell_type": "code",
      "metadata": {
        "id": "ayPAcm0qvF86"
      },
      "source": [
        "#set seed\n",
        "SEED = 42\n",
        "\n",
        "random.seed(seed)\n",
        "np.random.seed(seed)\n",
        "torch.manual_seed(seed)\n",
        "torch.cuda.manual_seed(seed)\n",
        "torch.backends.cudnn.deterministic = True"
      ],
      "execution_count": null,
      "outputs": []
    },
    {
      "cell_type": "markdown",
      "metadata": {
        "id": "YPikOKcIxAEX"
      },
      "source": [
        "##2a) Non-empathetic response as input"
      ]
    },
    {
      "cell_type": "code",
      "metadata": {
        "id": "YiQlbG20vJx_"
      },
      "source": [
        "#import csv file into pandas dataframe\n",
        "data_df = pd.read_csv('drive/MyDrive/data.csv', encoding=\"latin1\")"
      ],
      "execution_count": null,
      "outputs": []
    },
    {
      "cell_type": "code",
      "metadata": {
        "id": "C96Hey1xvMjC",
        "colab": {
          "base_uri": "https://localhost:8080/"
        },
        "outputId": "1c5ee553-4bfc-419a-d0d2-09559ff88239"
      },
      "source": [
        "#define device\n",
        "device_name = tf.test.gpu_device_name()\n",
        "if device_name == '/device:GPU:0':\n",
        "    print(f'Found GPU at: {device_name}')\n",
        "\n",
        "if torch.cuda.is_available():    \n",
        "    device = torch.device(\"cuda\")\n",
        "    print('GPU in use:', torch.cuda.get_device_name(0))\n",
        "else:\n",
        "    print('using the CPU')\n",
        "    device = torch.device(\"cpu\")"
      ],
      "execution_count": null,
      "outputs": [
        {
          "output_type": "stream",
          "text": [
            "Found GPU at: /device:GPU:0\n",
            "GPU in use: Tesla P100-PCIE-16GB\n"
          ],
          "name": "stdout"
        }
      ]
    },
    {
      "cell_type": "code",
      "metadata": {
        "id": "n7bKNAyHvVCm",
        "colab": {
          "base_uri": "https://localhost:8080/",
          "height": 181,
          "referenced_widgets": [
            "8340e19291b4444ebfa7a9eed8023391",
            "1f070613710f4768b08d25acff04a29e",
            "34918a93bfac40b3aca191ee31d72ecf",
            "ca1d9b8aef3e4daea30b53177d9ed84c",
            "cfd3cf2934484d2d9c4fca07bf63007e",
            "9ef1efe53c15405eb6ff10adb806b937",
            "c830244cdc234ae8b09548acb7f0f08c",
            "25fa618e225c49febcc916b79694e7f6",
            "cecf9294509f4df48cb568ac6c68e104",
            "7ca6a76bcfea4724a3ab28d04c32850c",
            "d9917d87d6b24895aba88552ecb87abf",
            "8e176ed2e7724459b2df5cd1a1f423e9",
            "90504bceab6044f4b6b27fb591e16bb2",
            "00aa5fc5ac3445d19e90b142bc2fe9bd",
            "28ef7c456d0249bca7ee62f85f29f8dc",
            "b9771021d18440c2a9e589df6a5b03c4",
            "552196318db04a7c962a0d55bcd6152e",
            "8e704ad44a6248cf87407d5a6e3103dd",
            "be2499186ecc46afb77f4b918205e798",
            "f1f1949831e7465d8589c9bc6aace626",
            "9dc472c2e7004f8ba9b89824085b1e90",
            "6237dcc2912f4ec992a854234fae7df4",
            "11c61ddb06344249869945e8c0e1d751",
            "5b4e24b0f23046148f35bad1ad766eaa"
          ]
        },
        "outputId": "69111353-9949-462c-df64-6dfe7193b3dd"
      },
      "source": [
        "#embeddings\n",
        "tokenizer = BertTokenizer.from_pretrained('bert-base-uncased', do_lower_case=True)\n",
        "vocab_size = len( BertTokenizer.from_pretrained('bert-base-uncased', do_lower_case=True).get_vocab() )\n",
        "vocab_size"
      ],
      "execution_count": null,
      "outputs": [
        {
          "output_type": "display_data",
          "data": {
            "application/vnd.jupyter.widget-view+json": {
              "model_id": "8340e19291b4444ebfa7a9eed8023391",
              "version_minor": 0,
              "version_major": 2
            },
            "text/plain": [
              "HBox(children=(FloatProgress(value=0.0, description='Downloading', max=231508.0, style=ProgressStyle(descripti…"
            ]
          },
          "metadata": {
            "tags": []
          }
        },
        {
          "output_type": "stream",
          "text": [
            "\n"
          ],
          "name": "stdout"
        },
        {
          "output_type": "display_data",
          "data": {
            "application/vnd.jupyter.widget-view+json": {
              "model_id": "cecf9294509f4df48cb568ac6c68e104",
              "version_minor": 0,
              "version_major": 2
            },
            "text/plain": [
              "HBox(children=(FloatProgress(value=0.0, description='Downloading', max=28.0, style=ProgressStyle(description_w…"
            ]
          },
          "metadata": {
            "tags": []
          }
        },
        {
          "output_type": "stream",
          "text": [
            "\n"
          ],
          "name": "stdout"
        },
        {
          "output_type": "display_data",
          "data": {
            "application/vnd.jupyter.widget-view+json": {
              "model_id": "552196318db04a7c962a0d55bcd6152e",
              "version_minor": 0,
              "version_major": 2
            },
            "text/plain": [
              "HBox(children=(FloatProgress(value=0.0, description='Downloading', max=466062.0, style=ProgressStyle(descripti…"
            ]
          },
          "metadata": {
            "tags": []
          }
        },
        {
          "output_type": "stream",
          "text": [
            "\n"
          ],
          "name": "stdout"
        },
        {
          "output_type": "execute_result",
          "data": {
            "text/plain": [
              "30522"
            ]
          },
          "metadata": {
            "tags": []
          },
          "execution_count": 71
        }
      ]
    },
    {
      "cell_type": "code",
      "metadata": {
        "id": "4fANJT4OvY_V"
      },
      "source": [
        "# extra preprocessing steps\n",
        "# prepend CLS and append SEP, truncate, pad\n",
        "\n",
        "#parameters for the dataset and dataloader\n",
        "BATCH_SIZE = 32\n",
        "max_sent_length= 150\n",
        "\n",
        "#################################### Preprocessing function ####################################\n",
        "def preprocessing(df):\n",
        "\n",
        "    #get the source and target sentences\n",
        "    source_sentences = df.source.values\n",
        "    target_sentences = df.target.values\n",
        "\n",
        "    # initialize the tokenizer for tokenize the sentence and obtain the indexed list using bert vocabulary\n",
        "    tokenizer = BertTokenizer.from_pretrained('bert-base-uncased', do_lower_case=False)\n",
        "    \n",
        "    encoded_source_sentences , encoded_target_sentences = [] , []\n",
        "    # iterate over every source , target sentence and tokenize them\n",
        "    for s_sent , t_sent in zip(source_sentences , target_sentences ):\n",
        "        #source sentence tokenization\n",
        "        s_encoded_sent = tokenizer.encode(\n",
        "                            s_sent,\n",
        "                            add_special_tokens = True,\n",
        "                            truncation=True,\n",
        "                            max_length = max_sent_length\n",
        "                    )\n",
        "        # target sentence tokenization\n",
        "        t_encoded_sent = tokenizer.encode(\n",
        "                            t_sent,\n",
        "                            add_special_tokens = True,\n",
        "                            truncation=True,\n",
        "                            max_length = max_sent_length\n",
        "                    )\n",
        "\n",
        "\n",
        "        encoded_source_sentences.append(s_encoded_sent)\n",
        "        encoded_target_sentences.append(t_encoded_sent)\n",
        "\n",
        "\n",
        "    \n",
        "    return encoded_source_sentences, encoded_target_sentences"
      ],
      "execution_count": null,
      "outputs": []
    },
    {
      "cell_type": "code",
      "metadata": {
        "id": "jg6nztvpvaf-"
      },
      "source": [
        "#split into train, val and test sets (80-10-10)\n",
        "train_df, val_df, test_df = \\\n",
        "              np.split(data_df.sample(frac=1, random_state=42), \n",
        "                       [int(.8*len(data_df)), int(.9*len(data_df))])"
      ],
      "execution_count": null,
      "outputs": []
    },
    {
      "cell_type": "code",
      "metadata": {
        "id": "sFn5E1Bfvdp3"
      },
      "source": [
        "# get the encoded source and target sentence\n",
        "train_source_sentences, train_target_sentences = preprocessing(train_df)\n",
        "val_source_sentences, val_target_sentences = preprocessing(val_df)\n",
        "test_source_sentences, test_target_sentences = preprocessing(test_df)"
      ],
      "execution_count": null,
      "outputs": []
    },
    {
      "cell_type": "code",
      "metadata": {
        "id": "j2fJndTovgKj"
      },
      "source": [
        "#define the torch dataset class to feed into the model\n",
        "class Seq2SeqDataset(Dataset):\n",
        "    \"\"\"\n",
        "    Class that represents a train/validation/test dataset that's readable for PyTorch\n",
        "    Note that this class inherits torch.utils.data.Dataset\n",
        "    \"\"\"\n",
        "    # class initialization with max sequence len , target and source sentence list\n",
        "    def __init__(self, data_list, target_list, max_sent_length=128):\n",
        "        \"\"\"\n",
        "        @param data_list: list of data tokens \n",
        "        @param target_list: list of data targets \n",
        "        \"\"\"\n",
        "        self.data_list = data_list   # source sentence list\n",
        "        self.target_list = target_list  # target sentence list\n",
        "        self.max_sent_length = max_sent_length   # maximum sentence lenght\n",
        "        assert (len(self.data_list) == len(self.target_list))\n",
        "\n",
        "    def __len__(self):\n",
        "        return len(self.data_list)\n",
        "        \n",
        "    # return the source and target sentences\n",
        "    def __getitem__(self, key, max_sent_length=None):\n",
        "        \"\"\"\n",
        "        Triggered when you call dataset[i]\n",
        "        \"\"\"\n",
        "        if max_sent_length is None:\n",
        "            max_sent_length = self.max_sent_length\n",
        "        token_idx = self.data_list[key][:max_sent_length]\n",
        "        label = self.target_list[key]\n",
        "        return [token_idx, label]\n",
        "\n",
        "    # we use this collate_fn to dynamically pad the batch according to the maximum len inside the sentences\n",
        "    def spam_collate_func(self,batch):\n",
        "        \"\"\"\n",
        "        Customized function for DataLoader that dynamically pads the batch so that all \n",
        "        data have the same length\n",
        "        \"\"\" \n",
        "        data_list = [] \n",
        "        target_list = []\n",
        "        mask_list = []\n",
        "\n",
        "        max_batch_seq_len = None # the length of longest sequence in batch\n",
        "                                 # if it is less than self.max_sent_length\n",
        "                                 # else max_batch_seq_len = self.max_sent_length\n",
        "\n",
        "        \"\"\"\n",
        "          # Pad the sequences in your data \n",
        "          # if their length is less than max_batch_seq_len\n",
        "          # or trim the sequences that are longer than self.max_sent_length\n",
        "          # return padded data_list and label_list\n",
        "        \"\"\"\n",
        "        \n",
        "        # find the max sequence length from the batch\n",
        "        max_batch_s_len = max(len(datum[0]) for datum in batch)\n",
        "        max_batch_t_len = max(len(datum[1]) for datum in batch)\n",
        "\n",
        "        #get the maximum from source and target lens\n",
        "        max_batch_seq_len = max(  [  max_batch_s_len , max_batch_t_len ] )\n",
        "\n",
        "        if max_batch_seq_len > self.max_sent_length:\n",
        "          max_batch_seq_len = self.max_sent_length\n",
        "\n",
        "        # pad each of the texts in batch wit constant 0\n",
        "        for datum in batch:\n",
        "          # padding the source vector\n",
        "          padded_s_vec = np.pad(np.array(datum[0]),\n",
        "                              pad_width = ((0, max_batch_seq_len - len(datum[0]))),\n",
        "                              mode = \"constant\", constant_values = 0)\n",
        "          # padding the target vector\n",
        "          padded_t_vec = np.pad(np.array(datum[1]),\n",
        "                              pad_width = ((0, max_batch_seq_len - len(datum[1]))),\n",
        "                              mode = \"constant\", constant_values = 0)\n",
        "\n",
        "          data_list.append(padded_s_vec)\n",
        "          target_list.append( padded_t_vec )\n",
        "\n",
        "\n",
        "        # convert to torch tensors \n",
        "        data_list = torch.from_numpy(np.array(data_list))\n",
        "        label_list = torch.from_numpy( np.array(target_list)  )\n",
        "\n",
        "        return [data_list, label_list]"
      ],
      "execution_count": null,
      "outputs": []
    },
    {
      "cell_type": "code",
      "metadata": {
        "id": "P7IjYB0hvmEr"
      },
      "source": [
        "#define the train dataset and the data loader \n",
        "train_dataset = Seq2SeqDataset( train_source_sentences , train_target_sentences , max_sent_length)\n",
        "train_loader = torch.utils.data.DataLoader(dataset=train_dataset, \n",
        "                                           batch_size=BATCH_SIZE,\n",
        "                                           collate_fn=train_dataset.spam_collate_func,\n",
        "                                           shuffle=True)\n",
        "\n",
        "# define the validation dataset and the dataloader\n",
        "valid_dataset = Seq2SeqDataset( val_source_sentences , val_target_sentences , train_dataset.max_sent_length)\n",
        "valid_loader = torch.utils.data.DataLoader(dataset=valid_dataset, \n",
        "                                           batch_size=BATCH_SIZE,\n",
        "                                           collate_fn=train_dataset.spam_collate_func,\n",
        "                                           shuffle=False)\n",
        "\n",
        "# define the test dataset and the dataloader\n",
        "test_dataset = Seq2SeqDataset( test_source_sentences , test_target_sentences , train_dataset.max_sent_length)\n",
        "test_loader = torch.utils.data.DataLoader(dataset=test_dataset, \n",
        "                                           batch_size=BATCH_SIZE,\n",
        "                                           collate_fn=train_dataset.spam_collate_func,\n",
        "                                           shuffle=False)"
      ],
      "execution_count": null,
      "outputs": []
    },
    {
      "cell_type": "code",
      "metadata": {
        "id": "kyGELMU_vrSp"
      },
      "source": [
        "#define device cuda or cpu\n",
        "device = torch.device('cuda' if torch.cuda.is_available() else 'cpu')"
      ],
      "execution_count": null,
      "outputs": []
    },
    {
      "cell_type": "code",
      "metadata": {
        "id": "UWIcxmkQvsFq"
      },
      "source": [
        "#encoder class\n",
        "class Encoder(nn.Module):\n",
        "    def __init__(self, input_dim, emb_dim, enc_hid_dim, dec_hid_dim, dropout):\n",
        "        super().__init__()\n",
        "        \n",
        "        # embedding layer \n",
        "        self.embedding = nn.Embedding(input_dim, emb_dim)\n",
        "        \n",
        "        self.rnn = nn.GRU(emb_dim, enc_hid_dim, bidirectional = True)\n",
        "        \n",
        "        self.fc = nn.Linear(enc_hid_dim * 2, dec_hid_dim)\n",
        "        \n",
        "        self.dropout = nn.Dropout(dropout)\n",
        "        \n",
        "    def forward(self, src):\n",
        "        \n",
        "        #src = [src len, batch size]\n",
        "        \n",
        "        embedded = self.dropout(self.embedding(src))\n",
        "        \n",
        "        #embedded = [src len, batch size, emb dim]\n",
        "        \n",
        "        outputs, hidden = self.rnn(embedded)\n",
        "                \n",
        "        #outputs = [src len, batch size, hid dim * num directions]\n",
        "        #hidden = [n layers * num directions, batch size, hid dim]\n",
        "        \n",
        "        #hidden is stacked [forward_1, backward_1, forward_2, backward_2, ...]\n",
        "        #outputs are always from the last layer\n",
        "        \n",
        "        #hidden [-2, :, : ] is the last of the forwards RNN \n",
        "        #hidden [-1, :, : ] is the last of the backwards RNN\n",
        "        \n",
        "        #initial decoder hidden is final hidden state of the forwards and backwards \n",
        "        #  encoder RNNs fed through a linear layer\n",
        "        hidden = torch.tanh(self.fc(torch.cat((hidden[-2,:,:], hidden[-1,:,:]), dim = 1)))\n",
        "        \n",
        "        #outputs = [src len, batch size, enc hid dim * 2]\n",
        "        #hidden = [batch size, dec hid dim]\n",
        "        \n",
        "        return outputs, hidden"
      ],
      "execution_count": null,
      "outputs": []
    },
    {
      "cell_type": "code",
      "metadata": {
        "id": "y5a-zjdrxLTx"
      },
      "source": [
        "#attention\n",
        "class Attention(nn.Module):\n",
        "    def __init__(self, enc_hid_dim, dec_hid_dim):\n",
        "        super().__init__()\n",
        "        \n",
        "        self.attn = nn.Linear((enc_hid_dim * 2) + dec_hid_dim, dec_hid_dim)\n",
        "        self.v = nn.Linear(dec_hid_dim, 1, bias = False)\n",
        "        \n",
        "    def forward(self, hidden, encoder_outputs):\n",
        "        \n",
        "        #hidden = [batch size, dec hid dim]\n",
        "        #encoder_outputs = [src len, batch size, enc hid dim * 2]\n",
        "        \n",
        "        batch_size = encoder_outputs.shape[1]\n",
        "        src_len = encoder_outputs.shape[0]\n",
        "        \n",
        "        #repeat decoder hidden state src_len times\n",
        "        hidden = hidden.unsqueeze(1).repeat(1, src_len, 1)\n",
        "        \n",
        "        encoder_outputs = encoder_outputs.permute(1, 0, 2)\n",
        "        \n",
        "        #hidden = [batch size, src len, dec hid dim]\n",
        "        #encoder_outputs = [batch size, src len, enc hid dim * 2]\n",
        "        \n",
        "        energy = torch.tanh(self.attn(torch.cat((hidden, encoder_outputs), dim = 2))) \n",
        "        \n",
        "        #energy = [batch size, src len, dec hid dim]\n",
        "\n",
        "        attention = self.v(energy).squeeze(2)\n",
        "        \n",
        "        #attention= [batch size, src len]\n",
        "        \n",
        "        return F.softmax(attention, dim=1)"
      ],
      "execution_count": null,
      "outputs": []
    },
    {
      "cell_type": "code",
      "metadata": {
        "id": "gahJtMtxxOXr"
      },
      "source": [
        "#decoder class\n",
        "class Decoder(nn.Module):\n",
        "    def __init__(self, output_dim, emb_dim, enc_hid_dim, dec_hid_dim, dropout, attention):\n",
        "        super().__init__()\n",
        "\n",
        "        self.output_dim = output_dim\n",
        "        self.attention = attention\n",
        "        \n",
        "        self.embedding = nn.Embedding(output_dim, emb_dim)\n",
        "        \n",
        "        self.rnn = nn.GRU((enc_hid_dim * 2) + emb_dim, dec_hid_dim)\n",
        "        \n",
        "        self.fc_out = nn.Linear((enc_hid_dim * 2) + dec_hid_dim + emb_dim, output_dim)\n",
        "        \n",
        "        self.dropout = nn.Dropout(dropout)\n",
        "        \n",
        "    def forward(self, input, hidden, encoder_outputs):\n",
        "             \n",
        "        #input = [batch size]\n",
        "        #hidden = [batch size, dec hid dim]\n",
        "        #encoder_outputs = [src len, batch size, enc hid dim * 2]\n",
        "        \n",
        "        input = input.unsqueeze(0)\n",
        "        \n",
        "        #input = [1, batch size]\n",
        "        \n",
        "        embedded = self.dropout(self.embedding(input))\n",
        "        \n",
        "        #embedded = [1, batch size, emb dim]\n",
        "        \n",
        "        a = self.attention(hidden, encoder_outputs)\n",
        "                \n",
        "        #a = [batch size, src len]\n",
        "        \n",
        "        a = a.unsqueeze(1)\n",
        "        \n",
        "        #a = [batch size, 1, src len]\n",
        "        \n",
        "        encoder_outputs = encoder_outputs.permute(1, 0, 2)\n",
        "        \n",
        "        #encoder_outputs = [batch size, src len, enc hid dim * 2]\n",
        "        \n",
        "        weighted = torch.bmm(a, encoder_outputs)\n",
        "        \n",
        "        #weighted = [batch size, 1, enc hid dim * 2]\n",
        "        \n",
        "        weighted = weighted.permute(1, 0, 2)\n",
        "        \n",
        "        #weighted = [1, batch size, enc hid dim * 2]\n",
        "        \n",
        "        rnn_input = torch.cat((embedded, weighted), dim = 2)\n",
        "        \n",
        "        #rnn_input = [1, batch size, (enc hid dim * 2) + emb dim]\n",
        "            \n",
        "        output, hidden = self.rnn(rnn_input, hidden.unsqueeze(0))\n",
        "        \n",
        "        #output = [seq len, batch size, dec hid dim * n directions]\n",
        "        #hidden = [n layers * n directions, batch size, dec hid dim]\n",
        "        \n",
        "        #seq len, n layers and n directions will always be 1 in this decoder, therefore:\n",
        "        #output = [1, batch size, dec hid dim]\n",
        "        #hidden = [1, batch size, dec hid dim]\n",
        "        #this also means that output == hidden\n",
        "        assert (output == hidden).all()\n",
        "        \n",
        "        embedded = embedded.squeeze(0)\n",
        "        output = output.squeeze(0)\n",
        "        weighted = weighted.squeeze(0)\n",
        "        \n",
        "        prediction = self.fc_out(torch.cat((output, weighted, embedded), dim = 1))\n",
        "        \n",
        "        #prediction = [batch size, output dim]\n",
        "        \n",
        "        return prediction, hidden.squeeze(0)"
      ],
      "execution_count": null,
      "outputs": []
    },
    {
      "cell_type": "code",
      "metadata": {
        "id": "AVAVmIQ_xSHH"
      },
      "source": [
        "class Seq2Seq(nn.Module):\n",
        "    def __init__(self, encoder, decoder, device):\n",
        "        super().__init__()\n",
        "        \n",
        "        self.encoder = encoder\n",
        "        self.decoder = decoder\n",
        "        self.device = device\n",
        "        \n",
        "    def forward(self, src, trg, teacher_forcing_ratio = 0.5):\n",
        "        \n",
        "        #src = [src len, batch size]\n",
        "        #trg = [trg len, batch size]\n",
        "        #teacher_forcing_ratio is probability to use teacher forcing\n",
        "        #e.g. if teacher_forcing_ratio is 0.75 we use teacher forcing 75% of the time\n",
        "        \n",
        "        batch_size = src.shape[1]\n",
        "        trg_len = trg.shape[0]\n",
        "        trg_vocab_size = self.decoder.output_dim\n",
        "        \n",
        "        #tensor to store decoder outputs\n",
        "        outputs = torch.zeros(trg_len, batch_size, trg_vocab_size).to(self.device)\n",
        "        \n",
        "        #encoder_outputs is all hidden states of the input sequence, back and forwards\n",
        "        #hidden is the final forward and backward hidden states, passed through a linear layer\n",
        "        encoder_outputs, hidden = self.encoder(src)\n",
        "                \n",
        "        #first input to the decoder is the <sos> tokens\n",
        "        input = trg[0,:]\n",
        "        \n",
        "        for t in range(1, trg_len):\n",
        "            \n",
        "            #insert input token embedding, previous hidden state and all encoder hidden states\n",
        "            #receive output tensor (predictions) and new hidden state\n",
        "            output, hidden = self.decoder(input, hidden, encoder_outputs)\n",
        "            \n",
        "            #place predictions in a tensor holding predictions for each token\n",
        "            outputs[t] = output\n",
        "            \n",
        "            #decide if we are going to use teacher forcing or not\n",
        "            teacher_force = random.random() < teacher_forcing_ratio\n",
        "            \n",
        "            #get the highest predicted token from our predictions\n",
        "            top1 = output.argmax(1) \n",
        "            \n",
        "            #if teacher forcing, use actual next token as next input\n",
        "            #if not, use predicted token\n",
        "            input = trg[t] if teacher_force else top1\n",
        "\n",
        "        return outputs"
      ],
      "execution_count": null,
      "outputs": []
    },
    {
      "cell_type": "code",
      "metadata": {
        "id": "4pceqcXLxUMt"
      },
      "source": [
        "#hyperparams\n",
        "INPUT_DIM = vocab_size\n",
        "OUTPUT_DIM = vocab_size\n",
        "ENC_EMB_DIM = 512\n",
        "DEC_EMB_DIM = 512\n",
        "ENC_HID_DIM = 256\n",
        "DEC_HID_DIM = 256\n",
        "ENC_DROPOUT = 0.5\n",
        "DEC_DROPOUT = 0.5\n",
        "\n",
        "attn = Attention(ENC_HID_DIM, DEC_HID_DIM)\n",
        "enc = Encoder(INPUT_DIM, ENC_EMB_DIM, ENC_HID_DIM, DEC_HID_DIM, ENC_DROPOUT)\n",
        "dec = Decoder(OUTPUT_DIM, DEC_EMB_DIM, ENC_HID_DIM, DEC_HID_DIM, DEC_DROPOUT, attn)\n",
        "\n",
        "model = Seq2Seq(enc, dec, device).to(device)"
      ],
      "execution_count": null,
      "outputs": []
    },
    {
      "cell_type": "code",
      "metadata": {
        "id": "0SOsbqAWxZDC",
        "colab": {
          "base_uri": "https://localhost:8080/"
        },
        "outputId": "b15736f2-108e-466d-fbf1-f660e9148d1e"
      },
      "source": [
        "model.to(device)"
      ],
      "execution_count": null,
      "outputs": [
        {
          "output_type": "execute_result",
          "data": {
            "text/plain": [
              "Seq2Seq(\n",
              "  (encoder): Encoder(\n",
              "    (embedding): Embedding(30522, 512)\n",
              "    (rnn): GRU(512, 256, bidirectional=True)\n",
              "    (fc): Linear(in_features=512, out_features=256, bias=True)\n",
              "    (dropout): Dropout(p=0.5, inplace=False)\n",
              "  )\n",
              "  (decoder): Decoder(\n",
              "    (attention): Attention(\n",
              "      (attn): Linear(in_features=768, out_features=256, bias=True)\n",
              "      (v): Linear(in_features=256, out_features=1, bias=False)\n",
              "    )\n",
              "    (embedding): Embedding(30522, 512)\n",
              "    (rnn): GRU(1024, 256)\n",
              "    (fc_out): Linear(in_features=1280, out_features=30522, bias=True)\n",
              "    (dropout): Dropout(p=0.5, inplace=False)\n",
              "  )\n",
              ")"
            ]
          },
          "metadata": {
            "tags": []
          },
          "execution_count": 84
        }
      ]
    },
    {
      "cell_type": "code",
      "metadata": {
        "id": "E4Vl9v8cxfrT",
        "colab": {
          "base_uri": "https://localhost:8080/"
        },
        "outputId": "e0f7ec28-22d2-4842-b9d4-68107f3c7884"
      },
      "source": [
        "def init_weights(m):\n",
        "    for name, param in m.named_parameters():\n",
        "        if 'weight' in name:\n",
        "            nn.init.normal_(param.data, mean=0, std=0.01)\n",
        "        else:\n",
        "            nn.init.constant_(param.data, 0)\n",
        "            \n",
        "model.apply(init_weights)"
      ],
      "execution_count": null,
      "outputs": [
        {
          "output_type": "execute_result",
          "data": {
            "text/plain": [
              "Seq2Seq(\n",
              "  (encoder): Encoder(\n",
              "    (embedding): Embedding(30522, 512)\n",
              "    (rnn): GRU(512, 256, bidirectional=True)\n",
              "    (fc): Linear(in_features=512, out_features=256, bias=True)\n",
              "    (dropout): Dropout(p=0.5, inplace=False)\n",
              "  )\n",
              "  (decoder): Decoder(\n",
              "    (attention): Attention(\n",
              "      (attn): Linear(in_features=768, out_features=256, bias=True)\n",
              "      (v): Linear(in_features=256, out_features=1, bias=False)\n",
              "    )\n",
              "    (embedding): Embedding(30522, 512)\n",
              "    (rnn): GRU(1024, 256)\n",
              "    (fc_out): Linear(in_features=1280, out_features=30522, bias=True)\n",
              "    (dropout): Dropout(p=0.5, inplace=False)\n",
              "  )\n",
              ")"
            ]
          },
          "metadata": {
            "tags": []
          },
          "execution_count": 85
        }
      ]
    },
    {
      "cell_type": "code",
      "metadata": {
        "id": "iQr6Bl-vxhEU",
        "colab": {
          "base_uri": "https://localhost:8080/"
        },
        "outputId": "3696248c-ff10-4bb2-fa72-bbc3bcf3fe51"
      },
      "source": [
        "def count_parameters(model):\n",
        "    return sum(p.numel() for p in model.parameters() if p.requires_grad)\n",
        "\n",
        "print(f'The model has {count_parameters(model):,} trainable parameters')"
      ],
      "execution_count": null,
      "outputs": [
        {
          "output_type": "stream",
          "text": [
            "The model has 72,848,954 trainable parameters\n"
          ],
          "name": "stdout"
        }
      ]
    },
    {
      "cell_type": "code",
      "metadata": {
        "id": "7VQlsV_Gxj13"
      },
      "source": [
        "#define optimizer\n",
        "optimizer = optim.Adam(model.parameters() , lr=0.001)"
      ],
      "execution_count": null,
      "outputs": []
    },
    {
      "cell_type": "code",
      "metadata": {
        "id": "1YHzJFjpxlz-"
      },
      "source": [
        "#define loss\n",
        "criterion = nn.CrossEntropyLoss(ignore_index = 0 )"
      ],
      "execution_count": null,
      "outputs": []
    },
    {
      "cell_type": "code",
      "metadata": {
        "id": "Q2WOezZmxppf"
      },
      "source": [
        "def train(model, iterator, optimizer, criterion, clip):\n",
        "    \n",
        "    model.train()\n",
        "    \n",
        "    epoch_loss = 0\n",
        "    \n",
        "    for i, ( src , trg ) in enumerate(iterator):\n",
        "        \n",
        "        \n",
        "        optimizer.zero_grad()\n",
        "        #move to device\n",
        "        src , trg = src.to(device) , trg.to(device)\n",
        "        \n",
        "        output = model(src, trg)\n",
        "        \n",
        "        #trg = [trg len, batch size]\n",
        "        #output = [trg len, batch size, output dim]\n",
        "        \n",
        "        output_dim = output.shape[-1]\n",
        "        \n",
        "        output = output[1:].view(-1, output_dim)\n",
        "        trg = trg[1:].view(-1)\n",
        "        \n",
        "        #trg = [(trg len - 1) * batch size]\n",
        "        #output = [(trg len - 1) * batch size, output dim]\n",
        "        \n",
        "        loss = criterion(output, trg)\n",
        "        \n",
        "        loss.backward()\n",
        "        \n",
        "        torch.nn.utils.clip_grad_norm_(model.parameters(), clip)\n",
        "        \n",
        "        optimizer.step()\n",
        "        \n",
        "        epoch_loss += loss.item()\n",
        "        \n",
        "    return epoch_loss / len(iterator)"
      ],
      "execution_count": null,
      "outputs": []
    },
    {
      "cell_type": "code",
      "metadata": {
        "id": "lwMJD_lOxu_9"
      },
      "source": [
        "def evaluate(model, iterator, criterion):\n",
        "    \n",
        "    model.eval()\n",
        "    \n",
        "    epoch_loss = 0\n",
        "    \n",
        "    with torch.no_grad():\n",
        "    \n",
        "        for i, (src , trg) in enumerate(iterator):\n",
        "\n",
        "            #move to device\n",
        "            src , trg = src.to(device) , trg.to(device)\n",
        "            output = model(src, trg, 0) #turn off teacher forcing\n",
        "\n",
        "            #trg = [trg len, batch size]\n",
        "            #output = [trg len, batch size, output dim]\n",
        "\n",
        "            output_dim = output.shape[-1]\n",
        "            \n",
        "            output = output[1:].view(-1, output_dim)\n",
        "            trg = trg[1:].view(-1)\n",
        "\n",
        "            #trg = [(trg len - 1) * batch size]\n",
        "            #output = [(trg len - 1) * batch size, output dim]\n",
        "\n",
        "            loss = criterion(output, trg)\n",
        "\n",
        "            epoch_loss += loss.item()\n",
        "        \n",
        "    return epoch_loss / len(iterator)"
      ],
      "execution_count": null,
      "outputs": []
    },
    {
      "cell_type": "code",
      "metadata": {
        "id": "UFlsxBhAx_aR"
      },
      "source": [
        "def epoch_time(start_time, end_time):\n",
        "    elapsed_time = end_time - start_time\n",
        "    elapsed_mins = int(elapsed_time / 60)\n",
        "    elapsed_secs = int(elapsed_time - (elapsed_mins * 60))\n",
        "    return elapsed_mins, elapsed_secs"
      ],
      "execution_count": null,
      "outputs": []
    },
    {
      "cell_type": "code",
      "metadata": {
        "id": "rCdyGs8UyCDe"
      },
      "source": [
        "#training loop\n",
        "\n",
        "N_EPOCHS = 100\n",
        "CLIP = 5\n",
        "\n",
        "best_valid_loss = float('inf')\n",
        "\n",
        "print(\"Training the model...\")\n",
        "tr = {'loss': [], 'PPL': []}\n",
        "val = {'loss': [], 'PPL': []}\n",
        "for epoch in range(N_EPOCHS):\n",
        "    \n",
        "    start_time = time.time()\n",
        "    \n",
        "    train_loss = train(model, train_loader, optimizer, criterion, CLIP)\n",
        "    valid_loss = evaluate(model, valid_loader , criterion)\n",
        "    \n",
        "    end_time = time.time()\n",
        "    \n",
        "    epoch_mins, epoch_secs = epoch_time(start_time, end_time)\n",
        "    \n",
        "    if valid_loss < best_valid_loss:\n",
        "        best_valid_loss = valid_loss\n",
        "        torch.save(model.state_dict(), 'drive/MyDrive/tut3-model-2a.pt')\n",
        "\n",
        "    # store logs\n",
        "    tr['loss'].append(train_loss)\n",
        "    tr['PPL'].append(math.exp(train_loss))\n",
        "    val['loss'].append(valid_loss)\n",
        "    val['PPL'].append(math.exp(valid_loss))\n",
        "    \n",
        "    if( (epoch+1)%10==0 ):\n",
        "      print(f'Epoch: {epoch+1:02} | Time: {epoch_mins}m {epoch_secs}s')\n",
        "      print(f'\\tTrain Loss: {train_loss:.3f} | Train PPL: {math.exp(train_loss):7.3f}')\n",
        "      print(f'\\t Val. Loss: {valid_loss:.3f} |  Val. PPL: {math.exp(valid_loss):7.3f}')"
      ],
      "execution_count": null,
      "outputs": []
    },
    {
      "cell_type": "code",
      "metadata": {
        "id": "cnbTQQL8c4YO"
      },
      "source": [
        "#plot train and validation PPL logs\n",
        "\n",
        "fig = plt.figure(figsize=(10,7))\n",
        "\n",
        "y1 = tr['PPL']\n",
        "y2 = val['PPL']\n",
        "\n",
        "plt.plot(y1, \"-b\", label=\"Train perplexity\")\n",
        "plt.plot(y2, \"-r\", label=\"Validation perplexity\")\n",
        "plt.legend(loc=\"upper right\")\n",
        "plt.ylim(0, 550)\n",
        "plt.ylabel('Perplexity', fontsize=12)\n",
        "plt.xlabel('Epochs', fontsize=12)\n",
        "plt.title(\"Train and validation perplexity \\n GRU with attention (BERT base embeddings) - Non-empathetic response input\", fontsize = 14)\n",
        "\n",
        "fig.savefig(\"2a-ppl.pdf\")\n",
        "plt.show()"
      ],
      "execution_count": null,
      "outputs": []
    },
    {
      "cell_type": "code",
      "metadata": {
        "id": "6PQsJoC-zMXK",
        "colab": {
          "base_uri": "https://localhost:8080/"
        },
        "outputId": "58ed9232-1765-408e-ddce-e510ddfc5497"
      },
      "source": [
        "model.load_state_dict(torch.load('drive/MyDrive/tut3-model-2a.pt'))\n",
        "\n",
        "test_loss_2a = evaluate(model, test_loader, criterion)\n",
        "\n",
        "print(f'| Test Loss: {test_loss_2a:.3f} | Test PPL: {math.exp(test_loss_2a):7.3f} |')"
      ],
      "execution_count": null,
      "outputs": [
        {
          "output_type": "stream",
          "text": [
            "| Test Loss: 5.201 | Test PPL: 181.397 |\n"
          ],
          "name": "stdout"
        }
      ]
    },
    {
      "cell_type": "code",
      "metadata": {
        "id": "bkevobN1zSz6"
      },
      "source": [
        "def generate_sentence(model, iterator):\n",
        "    \n",
        "    model.eval()\n",
        "    \n",
        "    epoch_loss = 0\n",
        "\n",
        "    pred_trg_pairs = []\n",
        "\n",
        "    with torch.no_grad():\n",
        "    \n",
        "        for i, (src , trg) in enumerate(iterator):\n",
        "\n",
        "            #move to device\n",
        "            src , trg = src.to(device) , trg.to(device)\n",
        "            output = model(src, trg, 0) #turn off teacher forcing\n",
        "\n",
        "            #trg = [trg len, batch size]\n",
        "            #output = [trg len, batch size, output dim]\n",
        "\n",
        "            output_dim = output.shape[-1]\n",
        "            \n",
        "            output = output[:,1:]\n",
        "            trg = trg[:,1:]\n",
        "\n",
        "            output = output.detach().cpu().numpy()\n",
        "            trg = trg.detach().cpu().numpy()\n",
        "            pred= np.argmax( output , axis = -1 )\n",
        "\n",
        "            pred = tokenizer.batch_decode( pred , skip_special_tokens=True)\n",
        "            trg = tokenizer.batch_decode( trg , skip_special_tokens = True )\n",
        "\n",
        "            for i_pred , i_trg in zip( pred , trg  ):\n",
        "\n",
        "              print( \"Target Sentence : {} \\n\".format( i_trg )  )\n",
        "              print( \"Predicted Sentence : {} \\n\".format( i_pred )  )\n",
        "\n",
        "            break      "
      ],
      "execution_count": null,
      "outputs": []
    },
    {
      "cell_type": "code",
      "metadata": {
        "id": "ePXk0HslzWkt",
        "colab": {
          "base_uri": "https://localhost:8080/"
        },
        "outputId": "01c103ac-1595-4ed9-e509-de45ad45488a"
      },
      "source": [
        "generate_sentence(model, test_loader)"
      ],
      "execution_count": null,
      "outputs": [
        {
          "output_type": "stream",
          "text": [
            "Target Sentence : . must have meant so much to give yourself to a relationship where that loss hurts this bad. crap, that's quite the level of commitment!, that is something to hang your hat on. have that in you, right? did it once before. shit hurts right now but you have it in you!!. cant imagine how happy you will be when you find the next one... maybe one that fits the possibility of a promising relationship?, think you have a good base here. \n",
            "\n",
            "Predicted Sentence :  \n",
            "\n",
            "Target Sentence : feel only bad things, too. can laugh and joke with my buddies, but it just feels hollow and empty on the inside. even come to think, that often times smile and laugh, cause know a normal person would do this and did it once, so to don't look like a freak, do it at the right times.'m never excited these days. can't even remember the last time was. when decided to lose my virginity to a prostitute when was around 30, had some concerns but wasn't excited. and partys, knew couldn't wait for some when was in my early twenties., \n",
            "\n",
            "Predicted Sentence : . would do this and did it once, so to don't look like a, do it at the right times.'m never excited these days. can't even remember the last time was. when decided to lose my to a. when was around miles, had some is but wasn't excited. and partys, knew couldn't live for some when was in my., actually have to push myself to go out and of friends, even though age.ly it will be a nice evening.,, can't give you any advice. : \n",
            "\n",
            "Target Sentence : know. how feel. can barely survive now, never make it. \n",
            "\n",
            "Predicted Sentence : know................... excited.......... \n",
            "\n",
            "Target Sentence : ' ve come to help you. can't do much. - they're all lies. can understand how you feel because am exactly in your shoes. kill myself'm scared that'll go to hell.'m stuck. can assure you that you are not alone. if you want, you just got to hold on. \n",
            "\n",
            "Predicted Sentence : ' ve come to help you. can you that you are not alone. if you want, you just got to hold on........................................................................ \n",
            "\n",
            "Target Sentence : man, you're saying is actually quite common of someone who is good at art. people with a high degree or artistic talent are really good at recognizing good art, but get frustrated because their own art doesn't live up to the crazy high standard they've set for themselves. suggests that it takes 10, 000 hours to gain mastery in something. is a skill just like anything else. think a lot of people get fooled into this either have it or you don't mentality when it comes to creative arts.'s just not the case. think it's more important that you actually have an obsession and something that you want to be good at! people don \n",
            "\n",
            "Predicted Sentence : man, you're saying is actually quite common of someone who is good at. either have it or you don't mental don when it comes to creative a.'s just not the case. think it's more important that you actually have an and something that you want to be good at! people don't have that. keep practicing and never give up. you have the used you will succeed eventually.'ll get better and better every day........................ \n",
            "\n",
            "Target Sentence : swear, if people didn't have families, there would be a lot less depression in this world. guess it really depends on the type of family stress. you realistically put some distance between yourself and the stress? is it something that you have to resolve? \n",
            "\n",
            "Predicted Sentence : , if people didn't have for, there would be a lot less depression in this world. guess it really depends on the, of family stress. you notally put some distance between yourself and the stress? is it something that you have to?....................... \n",
            "\n",
            "Target Sentence : you considered speaking with a therapist? you know why you feel this way? \n",
            "\n",
            "Predicted Sentence : you considered and with a therapist? you know why you feel this way?......................... \n",
            "\n",
            "Target Sentence : times people take laughter as a cue that what doing is okay. do the same thing whenever someone picks on me, even though it hurts inside for all of us. let other opinions influence how you see yourself, as hard as that can be. & lt ; 3 \n",
            "\n",
            "Predicted Sentence : times people take as a that what doing is okay. let other great how you see yourself, as hard as that can be. & ; 3............................ \n",
            "\n",
            "Target Sentence : quite a few things ive noticed for myself. ill over simplify my thought process to get the point across. list them quickly. thought that if could go through physical pain, then can go through mental pain. physical scar is easier to understand that an emotional one. to tend to my wounds to stop the bleeding and cover them up distracted me from what really wanted to tend to and cover up. was a couple times where self harmed because my thoughts were too overwhelming while was trying to fall asleep., would spend some time in the bathroom alone, taking care of my bleeding and by the time it was all finished, forgot what was thinking about. harm was an \n",
            "\n",
            "Predicted Sentence : a few things ive occasionally for myself. over. my thought process to get the point.. them quickly. thought that if could go through. pain, then can go through mental pain.. much is easier to understand that an emotional one. toad to my to stop the you and them up. me from what really. to tend to and up. was a couple times where self because my thoughts were too overwhelming while was trying to fall trick., would spend some time in the bathroom alone, taking care of my you and by the time it was all finished, what was thinking about. harm was an \n",
            "\n",
            "Target Sentence : any chance do you think you're in a loop. food can make you depressed. being depressed probably makes you eat more junk food? a while that was my problem too. if its just random, ill probably binge and feel bad later. to indulge in more later to try to cheer up. \n",
            "\n",
            "Predicted Sentence : any chance do you think you're in a you.. can make you depressed. being depressed probably makes you eat more can '?.................................................... \n",
            "\n",
            "Target Sentence : ' m sorry you feel like this. daughter has tried to kill herself 3 times and pretty much have been mentally preparing myself for the worst for the last 6 months bc she was so so depressed and non responsive to meds, therapy etc. the craziest thing happened... she got involved in an old hobby, met new people she had stuff in common with, and just 5 minutes ago told me that she is going out to lunch with someone from that group. point is... things can change. hope things can change for you soon. \n",
            "\n",
            "Predicted Sentence : ' m sorry you feel like this. point is... things can change. hope things can change for you soon............................................. \n",
            "\n",
            "Target Sentence : is the thing. you open up to these people and they through it in your face right after, then you know they aren't real friends. real friend is willing to sit through peoples problems for hours. once sat and chatted with a friend about his issues for some 7 odd hours hours just talking till 7am, never gave up on the conversation, he did the same for me a while later down the road when was having problems. who aren't willing to talk to you and help you aren't worth keeping around. me there is a friend out there who is willing to listen. guess do keep in mind that not everyone has infinite patients and has their own problems. good luck \n",
            "\n",
            "Predicted Sentence : is the thing. you open up to these people and they through it in your face right after, then you know they aren't real friends. real friend is to sit through problems for hours. who aren't to talk to you and help you aren't worth keeping around. me there is a friend out there who is to. guess do keep in mind that not everyone has and has their own problems. good luck out there man hope things go well for you. isn't to say you can't havezing, people you hang out with, but never get deep...... \n",
            "\n",
            "Target Sentence : buddy you are not alone. spent a day where literally didn't so much as sit up in bed a couple of weeks ago.'t eat or drink anything so didn't need the bathroom which was good.'m not at a point where have any advice to give or anything but maybe you can find some comfort knowing that other people feel the same as you. \n",
            "\n",
            "Predicted Sentence : buddy you are not alone.'m not at a point where have any advice to give or anything but maybe you can find some comfort, that other people feel the same as you........................................................... \n",
            "\n",
            "Target Sentence : too'll help others, plant trees or something. its others happiness that will make me a bit happy too \n",
            "\n",
            "Predicted Sentence : too'll help others, plant or something. its others happiness that will make me a bit happy too..............,.,........................... \n",
            "\n",
            "Target Sentence : ' m kind of the same way. life sucks, see no light in the proverbial tunnel but rather be alive to see how the world turns out than leave my life for nothingness., believe that there's no life after death. you've ever been unconscious you know what'm talking about, one moment you're awake, the next you wake up somewhere else with no sense of time gaining passed. but forever is death to me, there's simply nothing, it just ends completely. rather suffer than cease to exist. \n",
            "\n",
            "Predicted Sentence : , believe that there's no life after death. you've ever been unconscious you know what'm talking about, one moment you're awake, the next you wake up somewhere else with no of time receiving m. but forever is death to me, there's simply nothing, it just completely. rather suffer than seem to exist.............. \n",
            "\n",
            "Target Sentence : feel exately the same and killing me for bad english \n",
            "\n",
            "Predicted Sentence : for bad........................................ \n",
            "\n",
            "Target Sentence : you? are you still here asking for help and gathered the attention of your fellow and they are insisting they want to listen to you, but you keep denying them. put it any other selfish. used to give myself any excuse not to see my friends or family, but it was all debunked by the question they tell you themselves they felt that what can tell, you really need to work on your negative speech patterns. - or - nothing thinking, hopelessness, knee - jerk dismissals ; these are all habits that depressed people make in their speech that perpetuate their own misery. takes conscious effort to recognize our speech patterns as poisonous and slowly change not cares, you the one suffering \n",
            "\n",
            "Predicted Sentence : you? are you still here asking for help and the attention of your and they are they want to to you, but you keep them. put it any other selfish. - or - nothing thinking, hopelessness, - ands ; these are all that depressed people make in their that to with their own misery. takes conscious effort to our as and facts change not cares, you the one suffering. that your is under your control, and that for help can just as easily becomeing out. love you, but now us back involves you an effort not to give your worst think experiences air time. \n",
            "\n",
            "Target Sentence : hate that usually succumb to the crippling overwhelm that often accompanies me trying to deal with the seemingly insurmountable [ logistically, tangible, financial, and medical ] things must deal with...... as the clock ticks..... \n",
            "\n",
            "Predicted Sentence : that often acc. me trying to deal with the seemingly insur to [ly,,, and medical ] things must deal with...... as thes............,....................... think. \n",
            "\n",
            "Target Sentence : ' m sorry to hear how you're feeling right now, and although everything you do at the moment may feel pointless, there will come a time when your purpose will become apparent, and everything will hopefully make sense. can really say right now is to strive on, do the things that make you happy and cherish the people that make you feel loved. wish you a wonderful future, and hope that one day everything will be better. \n",
            "\n",
            "Predicted Sentence : everything you do at the moment may feel pointless, there will come a time when your will become, and everything will pain make sense. can really say right now is to some on, do the things that make you happy and the people that make you feel loved. wish you a wonderful future, and hope that one day everything will be better... \n",
            "\n",
            "Target Sentence : feel you. feel life is too much and rather die because my anxiety makes me feel it's not worth to be alive. then again want to live because'm terrified of death. just hate that fucking feeling, man. are not alone in this tho. \n",
            "\n",
            "Predicted Sentence : are not alone in this 16..................... \n",
            "\n",
            "Target Sentence : don't really think life is he'll but don't understand the weird sadness or fear of death that people have.'ve known a few people who died. wasn't sad at all. know is going to die and one day am going to die. is that sad? \n",
            "\n",
            "Predicted Sentence : don't really think life is he'll but. know is going to die and one day am going to die. is that sad?... t.... '... don......... \n",
            "\n",
            "Target Sentence : more often than not, i end up giving a half truth. or, i guess more accurately, a partial truth. when i'm with friends 9 / 10 they make me feel good and forget about my shit show of a brain. so i answer with good! or feelin'great now! because at the time, thats how i feel. but mostly i leave out how i felt before seeing or talking to them. that may be wrong or decietful, but i just don't like to burden my friends with this. especially those who can't handle my neuroatypicality. \n",
            "\n",
            "Predicted Sentence : ! or feel vulnerable'great now! because at the time, thats how i feel. but you i out how i felt before seeing or talking to them. that may be wrong orie,, but i just don't like to burden my friends with this. especially those who can't handle my familyical don............. \n",
            "\n",
            "Target Sentence : insomnia is usually one of the first indicators of an oncoming episode. truly wish had hypersomnia though, the few times got it, wasn't rested whatsoever but loved those little moments you have when you wake up and you can feel yourself drifting off to sleep. feeling've felt rarely in my 10 year struggle with insomnia alone. \n",
            "\n",
            "Predicted Sentence : ,omnia is usually one of the first of an on '............. \n",
            "\n",
            "Target Sentence : , it is. feel the same way, got hired 7 months ago, and was depressed for 2 years before that. hate to admit this, but some days cry like the little bitch am in the shower and on my drive to work. guess what, haven't missed a single day of work aside from 9 day vacation that took scattered here and there. have seriously one simple trick : you go there no matter what, don't give yourself a choice. more you sit and wonder the harder it gets. thing, my supervisor almost cried today at work and was complaining in a high pitched voice. kinda brightened my day. \n",
            "\n",
            "Predicted Sentence : , it is.. have wrote one simple : you go there no matter what, don't give yourself a choice.. kinda my day......... \n",
            "\n",
            "Target Sentence : what helps me out is music, talking to friends, and my cat. however these are just distractions and they only make me feel better to a small extent. what do you like doing? what do you personally find enjoyable? has your depression taken your interests away from you? \n",
            "\n",
            "Predicted Sentence : what do you like doing? what do you. find distract? has your depression taken your and away from you?...... and.... and.,.. to for, to.. to............................. \n",
            "\n",
            "Target Sentence : there. one on this earth is worthless, even if you feel that way now. gets better, things change, you will change. browsed through your post history and noticed how young you are. age you're in is a horrible hormonic stage. son had the same feelings at that age - range. did too. if life feels overwhelming and lonely now, this will pass eventually. patient. have to go for a while, but will get back to you with how my son learned to cope. in there. big motherly hug to you! \n",
            "\n",
            "Predicted Sentence : there. one on this earth is worthless, even if you feel that way now. gets better, things change, you will change. browsed through your post history and noticed how young you are. if life feels overwhelming and lonely now, this will pass eventually. patient. have to go for a while, but will get back to you with how my son learned to cope. in there. big motherly hug to you!.. \n",
            "\n",
            "Target Sentence : do it. may feel like it now, but it if you commit suicide you will lose the chance to feel better. do u feel bad right now? \n",
            "\n",
            "Predicted Sentence : do it. may feel like it now, but it if you commit suicide you will lose the chance to feel better..................... \n",
            "\n",
            "Target Sentence : ' s some poetic bollocks, right there.'t they have two numbers?'ve seen that someplace. \n",
            "\n",
            "Predicted Sentence : ' s some, right there.'ve that.......................... \n",
            "\n",
            "Target Sentence : understand how you feel. able to talk to someone without worrying about being judge. that person that you can feel comfortable with is something that many of us have a hard time finding. \n",
            "\n",
            "Predicted Sentence : able to talk to someone have the about being judge of to. this. is.... you, to................................................... \n",
            "\n",
            "Target Sentence : ' s hard. if you're the type of person to post in this sub. yourself is really difficult. loving others is easier. do love you. you love others, find, its easier to love yourself. just saying the words and seeing it echoed back makes me feel good. hope helped. \n",
            "\n",
            "Predicted Sentence : ' s. if you're the, of person to post in this sub. yourself is really difficult. loving others is easier. you love others, find, its easier to love yourself......... \n",
            "\n",
            "Target Sentence : yeah : / my parents make me anxious to the point where i wont get food and water because i'm afraid of running into them. glad to be moving out \n",
            "\n",
            "Predicted Sentence : to be to out '.. yourself....... to............................................................ \n",
            "\n",
            "Target Sentence : you tell anyone? thoughts can be dangerous. \n",
            "\n",
            "Predicted Sentence : thoughts be be to.......... \n",
            "\n"
          ],
          "name": "stdout"
        }
      ]
    },
    {
      "cell_type": "markdown",
      "metadata": {
        "id": "cq3OwArH31Ri"
      },
      "source": [
        "##2b) Seeker post + non-empathetic response as input"
      ]
    },
    {
      "cell_type": "code",
      "metadata": {
        "id": "DZ31vNRW4REO"
      },
      "source": [
        "#import csv data file into pandas dataframe\n",
        "data_df = pd.read_csv('drive/MyDrive/data.csv', encoding=\"latin1\")\n",
        "\n",
        "#concatenate seeker_post and source. Concatenated sentences are separated by SPLIT token\n",
        "data_df[\"new_source\"] = data_df[\"seeker_post\"] + ' SPLIT ' + data_df[\"source\"]\n",
        "\n",
        "#drop unnecessary columns, rename, reorder\n",
        "data_df = data_df.drop(['seeker_post', 'source'], axis=1)\n",
        "data_df.rename(columns = {'new_source' : 'source'}, inplace = True)\n",
        "data_df = data_df[['source', 'target']]"
      ],
      "execution_count": null,
      "outputs": []
    },
    {
      "cell_type": "code",
      "metadata": {
        "id": "3ssPZ4ls4eBv",
        "colab": {
          "base_uri": "https://localhost:8080/"
        },
        "outputId": "f9c2a16c-2fb6-4c61-cab2-aa6634adae43"
      },
      "source": [
        "device_name = tf.test.gpu_device_name()\n",
        "if device_name == '/device:GPU:0':\n",
        "    print(f'Found GPU at: {device_name}')\n",
        "\n",
        "if torch.cuda.is_available():    \n",
        "    device = torch.device(\"cuda\")\n",
        "    print('GPU in use:', torch.cuda.get_device_name(0))\n",
        "else:\n",
        "    print('using the CPU')\n",
        "    device = torch.device(\"cpu\")"
      ],
      "execution_count": null,
      "outputs": [
        {
          "output_type": "stream",
          "text": [
            "Found GPU at: /device:GPU:0\n",
            "GPU in use: Tesla P100-PCIE-16GB\n"
          ],
          "name": "stdout"
        }
      ]
    },
    {
      "cell_type": "code",
      "metadata": {
        "id": "xLyDHzur4gDS"
      },
      "source": [
        "tokenizer = BertTokenizer.from_pretrained('bert-base-uncased', do_lower_case=True)\n",
        "vocab_size = len( BertTokenizer.from_pretrained('bert-base-uncased', do_lower_case=True).get_vocab() )"
      ],
      "execution_count": null,
      "outputs": []
    },
    {
      "cell_type": "code",
      "metadata": {
        "id": "85PW_5so4jaK"
      },
      "source": [
        "# extra preprocessing steps\n",
        "# prepend CLS and append SEP, truncate, pad\n",
        "\n",
        "#parameters for the dataset and dataloader\n",
        "BATCH_SIZE = 32\n",
        "max_sent_length= 150\n",
        "\n",
        "#################################### Preprocessing function ####################################\n",
        "def preprocessing(df):\n",
        "\n",
        "    #get the source and target sentences\n",
        "    source_sentences = df.source.values\n",
        "    target_sentences = df.target.values\n",
        "\n",
        "    # initialize the tokenizer for tokenize the sentence and obtain the indexed list using bert vocabulary\n",
        "    tokenizer = BertTokenizer.from_pretrained('bert-base-uncased', do_lower_case=False)\n",
        "    \n",
        "    encoded_source_sentences , encoded_target_sentences = [] , []\n",
        "    # iterate over every source , target sentence and tokenize them\n",
        "    for s_sent , t_sent in zip(source_sentences , target_sentences ):\n",
        "        #source sentence tokenization\n",
        "        s_encoded_sent = tokenizer.encode(\n",
        "                            s_sent,\n",
        "                            add_special_tokens = True,\n",
        "                            truncation=True,\n",
        "                            max_length = max_sent_length\n",
        "                    )\n",
        "        # target sentence tokenization\n",
        "        t_encoded_sent = tokenizer.encode(\n",
        "                            t_sent,\n",
        "                            add_special_tokens = True,\n",
        "                            truncation=True,\n",
        "                            max_length = max_sent_length\n",
        "                    )\n",
        "\n",
        "\n",
        "        encoded_source_sentences.append(s_encoded_sent)\n",
        "        encoded_target_sentences.append(t_encoded_sent)\n",
        "\n",
        "\n",
        "    \n",
        "    return encoded_source_sentences, encoded_target_sentences\n",
        "    "
      ],
      "execution_count": null,
      "outputs": []
    },
    {
      "cell_type": "code",
      "metadata": {
        "id": "Mr-bfL6y4puP"
      },
      "source": [
        "#split into train, val and test sets (80-10-10)\n",
        "train_df, val_df, test_df = \\\n",
        "              np.split(data_df.sample(frac=1, random_state=42), \n",
        "                       [int(.8*len(data_df)), int(.9*len(data_df))])"
      ],
      "execution_count": null,
      "outputs": []
    },
    {
      "cell_type": "code",
      "metadata": {
        "id": "I80peIox4tom"
      },
      "source": [
        "# get the encoded source and target sentence\n",
        "train_source_sentences, train_target_sentences = preprocessing(train_df)\n",
        "val_source_sentences, val_target_sentences = preprocessing(val_df)\n",
        "test_source_sentences, test_target_sentences = preprocessing(test_df)"
      ],
      "execution_count": null,
      "outputs": []
    },
    {
      "cell_type": "code",
      "metadata": {
        "id": "NW727NnU4vVy"
      },
      "source": [
        "#define the torch dataset class to feed into the model\n",
        "class Seq2SeqDataset(Dataset):\n",
        "    \"\"\"\n",
        "    Class that represents a train/validation/test dataset that's readable for PyTorch\n",
        "    Note that this class inherits torch.utils.data.Dataset\n",
        "    \"\"\"\n",
        "    # class initialization with max sequence len , target and source sentence list\n",
        "    def __init__(self, data_list, target_list, max_sent_length=128):\n",
        "        \"\"\"\n",
        "        @param data_list: list of data tokens \n",
        "        @param target_list: list of data targets \n",
        "        \"\"\"\n",
        "        self.data_list = data_list   # source sentence list\n",
        "        self.target_list = target_list  # target sentence list\n",
        "        self.max_sent_length = max_sent_length   # maximum sentence lenght\n",
        "        assert (len(self.data_list) == len(self.target_list))\n",
        "\n",
        "    def __len__(self):\n",
        "        return len(self.data_list)\n",
        "        \n",
        "    # return the source and target sentences\n",
        "    def __getitem__(self, key, max_sent_length=None):\n",
        "        \"\"\"\n",
        "        Triggered when you call dataset[i]\n",
        "        \"\"\"\n",
        "        if max_sent_length is None:\n",
        "            max_sent_length = self.max_sent_length\n",
        "        token_idx = self.data_list[key][:max_sent_length]\n",
        "        label = self.target_list[key]\n",
        "        return [token_idx, label]\n",
        "\n",
        "    # we use this collate_fn to dynamically pad the batch according to the maximum len inside the sentences\n",
        "    def spam_collate_func(self,batch):\n",
        "        \"\"\"\n",
        "        Customized function for DataLoader that dynamically pads the batch so that all \n",
        "        data have the same length\n",
        "        \"\"\" \n",
        "        data_list = [] \n",
        "        target_list = []\n",
        "        mask_list = []\n",
        "\n",
        "        max_batch_seq_len = None # the length of longest sequence in batch\n",
        "                                 # if it is less than self.max_sent_length\n",
        "                                 # else max_batch_seq_len = self.max_sent_length\n",
        "\n",
        "        \"\"\"\n",
        "          # Pad the sequences in your data \n",
        "          # if their length is less than max_batch_seq_len\n",
        "          # or trim the sequences that are longer than self.max_sent_length\n",
        "          # return padded data_list and label_list\n",
        "        \"\"\"\n",
        "        \n",
        "        # find the max sequence length from the batch\n",
        "        max_batch_s_len = max(len(datum[0]) for datum in batch)\n",
        "        max_batch_t_len = max(len(datum[1]) for datum in batch)\n",
        "\n",
        "        #get the maximum from source and target lens\n",
        "        max_batch_seq_len = max(  [  max_batch_s_len , max_batch_t_len ] )\n",
        "\n",
        "        if max_batch_seq_len > self.max_sent_length:\n",
        "          max_batch_seq_len = self.max_sent_length\n",
        "\n",
        "        # pad each of the texts in batch wit constant 0\n",
        "        for datum in batch:\n",
        "          # padding the source vector\n",
        "          padded_s_vec = np.pad(np.array(datum[0]),\n",
        "                              pad_width = ((0, max_batch_seq_len - len(datum[0]))),\n",
        "                              mode = \"constant\", constant_values = 0)\n",
        "          # padding the target vector\n",
        "          padded_t_vec = np.pad(np.array(datum[1]),\n",
        "                              pad_width = ((0, max_batch_seq_len - len(datum[1]))),\n",
        "                              mode = \"constant\", constant_values = 0)\n",
        "\n",
        "          data_list.append(padded_s_vec)\n",
        "          target_list.append( padded_t_vec )\n",
        "\n",
        "\n",
        "        # convert to torch tensors \n",
        "        data_list = torch.from_numpy(np.array(data_list))\n",
        "        label_list = torch.from_numpy( np.array(target_list)  )\n",
        "\n",
        "        return [data_list, label_list]"
      ],
      "execution_count": null,
      "outputs": []
    },
    {
      "cell_type": "code",
      "metadata": {
        "id": "VSwoUOYD44Tg"
      },
      "source": [
        "#define the train dataset and the data loader \n",
        "train_dataset = Seq2SeqDataset( train_source_sentences , train_target_sentences , max_sent_length)\n",
        "train_loader = torch.utils.data.DataLoader(dataset=train_dataset, \n",
        "                                           batch_size=BATCH_SIZE,\n",
        "                                           collate_fn=train_dataset.spam_collate_func,\n",
        "                                           shuffle=True)\n",
        "\n",
        "# define the validation dataset and the dataloader\n",
        "valid_dataset = Seq2SeqDataset( val_source_sentences , val_target_sentences , train_dataset.max_sent_length)\n",
        "valid_loader = torch.utils.data.DataLoader(dataset=valid_dataset, \n",
        "                                           batch_size=BATCH_SIZE,\n",
        "                                           collate_fn=train_dataset.spam_collate_func,\n",
        "                                           shuffle=False)\n",
        "\n",
        "# define the test dataset and the dataloader\n",
        "test_dataset = Seq2SeqDataset( test_source_sentences , test_target_sentences , train_dataset.max_sent_length)\n",
        "test_loader = torch.utils.data.DataLoader(dataset=test_dataset, \n",
        "                                           batch_size=BATCH_SIZE,\n",
        "                                           collate_fn=train_dataset.spam_collate_func,\n",
        "                                           shuffle=False)"
      ],
      "execution_count": null,
      "outputs": []
    },
    {
      "cell_type": "code",
      "metadata": {
        "id": "GQdlSuVb4477"
      },
      "source": [
        "#define device cuda or cpu\n",
        "device = torch.device('cuda' if torch.cuda.is_available() else 'cpu')"
      ],
      "execution_count": null,
      "outputs": []
    },
    {
      "cell_type": "code",
      "metadata": {
        "id": "5vkLyv7A47KE"
      },
      "source": [
        "#encoder class\n",
        "class Encoder(nn.Module):\n",
        "    def __init__(self, input_dim, emb_dim, enc_hid_dim, dec_hid_dim, dropout):\n",
        "        super().__init__()\n",
        "        \n",
        "        # embedding layer \n",
        "        self.embedding = nn.Embedding(input_dim, emb_dim)\n",
        "        \n",
        "        self.rnn = nn.GRU(emb_dim, enc_hid_dim, bidirectional = True)\n",
        "        \n",
        "        self.fc = nn.Linear(enc_hid_dim * 2, dec_hid_dim)\n",
        "        \n",
        "        self.dropout = nn.Dropout(dropout)\n",
        "        \n",
        "    def forward(self, src):\n",
        "        \n",
        "        #src = [src len, batch size]\n",
        "        \n",
        "        embedded = self.dropout(self.embedding(src))\n",
        "        \n",
        "        #embedded = [src len, batch size, emb dim]\n",
        "        \n",
        "        outputs, hidden = self.rnn(embedded)\n",
        "                \n",
        "        #outputs = [src len, batch size, hid dim * num directions]\n",
        "        #hidden = [n layers * num directions, batch size, hid dim]\n",
        "        \n",
        "        #hidden is stacked [forward_1, backward_1, forward_2, backward_2, ...]\n",
        "        #outputs are always from the last layer\n",
        "        \n",
        "        #hidden [-2, :, : ] is the last of the forwards RNN \n",
        "        #hidden [-1, :, : ] is the last of the backwards RNN\n",
        "        \n",
        "        #initial decoder hidden is final hidden state of the forwards and backwards \n",
        "        #  encoder RNNs fed through a linear layer\n",
        "        hidden = torch.tanh(self.fc(torch.cat((hidden[-2,:,:], hidden[-1,:,:]), dim = 1)))\n",
        "        \n",
        "        #outputs = [src len, batch size, enc hid dim * 2]\n",
        "        #hidden = [batch size, dec hid dim]\n",
        "        \n",
        "        return outputs, hidden"
      ],
      "execution_count": null,
      "outputs": []
    },
    {
      "cell_type": "code",
      "metadata": {
        "id": "AmM5OJhP4-iA"
      },
      "source": [
        "#attention\n",
        "class Attention(nn.Module):\n",
        "    def __init__(self, enc_hid_dim, dec_hid_dim):\n",
        "        super().__init__()\n",
        "        \n",
        "        self.attn = nn.Linear((enc_hid_dim * 2) + dec_hid_dim, dec_hid_dim)\n",
        "        self.v = nn.Linear(dec_hid_dim, 1, bias = False)\n",
        "        \n",
        "    def forward(self, hidden, encoder_outputs):\n",
        "        \n",
        "        #hidden = [batch size, dec hid dim]\n",
        "        #encoder_outputs = [src len, batch size, enc hid dim * 2]\n",
        "        \n",
        "        batch_size = encoder_outputs.shape[1]\n",
        "        src_len = encoder_outputs.shape[0]\n",
        "        \n",
        "        #repeat decoder hidden state src_len times\n",
        "        hidden = hidden.unsqueeze(1).repeat(1, src_len, 1)\n",
        "        \n",
        "        encoder_outputs = encoder_outputs.permute(1, 0, 2)\n",
        "        \n",
        "        #hidden = [batch size, src len, dec hid dim]\n",
        "        #encoder_outputs = [batch size, src len, enc hid dim * 2]\n",
        "        \n",
        "        energy = torch.tanh(self.attn(torch.cat((hidden, encoder_outputs), dim = 2))) \n",
        "        \n",
        "        #energy = [batch size, src len, dec hid dim]\n",
        "\n",
        "        attention = self.v(energy).squeeze(2)\n",
        "        \n",
        "        #attention= [batch size, src len]\n",
        "        \n",
        "        return F.softmax(attention, dim=1)"
      ],
      "execution_count": null,
      "outputs": []
    },
    {
      "cell_type": "code",
      "metadata": {
        "id": "hoUuaWuy5Bui"
      },
      "source": [
        "#decoder class\n",
        "class Decoder(nn.Module):\n",
        "    def __init__(self, output_dim, emb_dim, enc_hid_dim, dec_hid_dim, dropout, attention):\n",
        "        super().__init__()\n",
        "\n",
        "        self.output_dim = output_dim\n",
        "        self.attention = attention\n",
        "        \n",
        "        self.embedding = nn.Embedding(output_dim, emb_dim)\n",
        "        \n",
        "        self.rnn = nn.GRU((enc_hid_dim * 2) + emb_dim, dec_hid_dim)\n",
        "        \n",
        "        self.fc_out = nn.Linear((enc_hid_dim * 2) + dec_hid_dim + emb_dim, output_dim)\n",
        "        \n",
        "        self.dropout = nn.Dropout(dropout)\n",
        "        \n",
        "    def forward(self, input, hidden, encoder_outputs):\n",
        "             \n",
        "        #input = [batch size]\n",
        "        #hidden = [batch size, dec hid dim]\n",
        "        #encoder_outputs = [src len, batch size, enc hid dim * 2]\n",
        "        \n",
        "        input = input.unsqueeze(0)\n",
        "        \n",
        "        #input = [1, batch size]\n",
        "        \n",
        "        embedded = self.dropout(self.embedding(input))\n",
        "        \n",
        "        #embedded = [1, batch size, emb dim]\n",
        "        \n",
        "        a = self.attention(hidden, encoder_outputs)\n",
        "                \n",
        "        #a = [batch size, src len]\n",
        "        \n",
        "        a = a.unsqueeze(1)\n",
        "        \n",
        "        #a = [batch size, 1, src len]\n",
        "        \n",
        "        encoder_outputs = encoder_outputs.permute(1, 0, 2)\n",
        "        \n",
        "        #encoder_outputs = [batch size, src len, enc hid dim * 2]\n",
        "        \n",
        "        weighted = torch.bmm(a, encoder_outputs)\n",
        "        \n",
        "        #weighted = [batch size, 1, enc hid dim * 2]\n",
        "        \n",
        "        weighted = weighted.permute(1, 0, 2)\n",
        "        \n",
        "        #weighted = [1, batch size, enc hid dim * 2]\n",
        "        \n",
        "        rnn_input = torch.cat((embedded, weighted), dim = 2)\n",
        "        \n",
        "        #rnn_input = [1, batch size, (enc hid dim * 2) + emb dim]\n",
        "            \n",
        "        output, hidden = self.rnn(rnn_input, hidden.unsqueeze(0))\n",
        "        \n",
        "        #output = [seq len, batch size, dec hid dim * n directions]\n",
        "        #hidden = [n layers * n directions, batch size, dec hid dim]\n",
        "        \n",
        "        #seq len, n layers and n directions will always be 1 in this decoder, therefore:\n",
        "        #output = [1, batch size, dec hid dim]\n",
        "        #hidden = [1, batch size, dec hid dim]\n",
        "        #this also means that output == hidden\n",
        "        assert (output == hidden).all()\n",
        "        \n",
        "        embedded = embedded.squeeze(0)\n",
        "        output = output.squeeze(0)\n",
        "        weighted = weighted.squeeze(0)\n",
        "        \n",
        "        prediction = self.fc_out(torch.cat((output, weighted, embedded), dim = 1))\n",
        "        \n",
        "        #prediction = [batch size, output dim]\n",
        "        \n",
        "        return prediction, hidden.squeeze(0)"
      ],
      "execution_count": null,
      "outputs": []
    },
    {
      "cell_type": "code",
      "metadata": {
        "id": "D_XmRRyf5Enm"
      },
      "source": [
        "class Seq2Seq(nn.Module):\n",
        "    def __init__(self, encoder, decoder, device):\n",
        "        super().__init__()\n",
        "        \n",
        "        self.encoder = encoder\n",
        "        self.decoder = decoder\n",
        "        self.device = device\n",
        "        \n",
        "    def forward(self, src, trg, teacher_forcing_ratio = 0.5):\n",
        "        \n",
        "        #src = [src len, batch size]\n",
        "        #trg = [trg len, batch size]\n",
        "        #teacher_forcing_ratio is probability to use teacher forcing\n",
        "        #e.g. if teacher_forcing_ratio is 0.75 we use teacher forcing 75% of the time\n",
        "        \n",
        "        batch_size = src.shape[1]\n",
        "        trg_len = trg.shape[0]\n",
        "        trg_vocab_size = self.decoder.output_dim\n",
        "        \n",
        "        #tensor to store decoder outputs\n",
        "        outputs = torch.zeros(trg_len, batch_size, trg_vocab_size).to(self.device)\n",
        "        \n",
        "        #encoder_outputs is all hidden states of the input sequence, back and forwards\n",
        "        #hidden is the final forward and backward hidden states, passed through a linear layer\n",
        "        encoder_outputs, hidden = self.encoder(src)\n",
        "                \n",
        "        #first input to the decoder is the <sos> tokens\n",
        "        input = trg[0,:]\n",
        "        \n",
        "        for t in range(1, trg_len):\n",
        "            \n",
        "            #insert input token embedding, previous hidden state and all encoder hidden states\n",
        "            #receive output tensor (predictions) and new hidden state\n",
        "            output, hidden = self.decoder(input, hidden, encoder_outputs)\n",
        "            \n",
        "            #place predictions in a tensor holding predictions for each token\n",
        "            outputs[t] = output\n",
        "            \n",
        "            #decide if we are going to use teacher forcing or not\n",
        "            teacher_force = random.random() < teacher_forcing_ratio\n",
        "            \n",
        "            #get the highest predicted token from our predictions\n",
        "            top1 = output.argmax(1) \n",
        "            \n",
        "            #if teacher forcing, use actual next token as next input\n",
        "            #if not, use predicted token\n",
        "            input = trg[t] if teacher_force else top1\n",
        "\n",
        "        return outputs"
      ],
      "execution_count": null,
      "outputs": []
    },
    {
      "cell_type": "code",
      "metadata": {
        "id": "Gt4MPHk95IyB"
      },
      "source": [
        "#hyperparams\n",
        "INPUT_DIM = vocab_size\n",
        "OUTPUT_DIM = vocab_size\n",
        "ENC_EMB_DIM = 512\n",
        "DEC_EMB_DIM = 512\n",
        "ENC_HID_DIM = 256\n",
        "DEC_HID_DIM = 256\n",
        "ENC_DROPOUT = 0.5\n",
        "DEC_DROPOUT = 0.5\n",
        "\n",
        "\n",
        "attn = Attention(ENC_HID_DIM, DEC_HID_DIM)\n",
        "enc = Encoder(INPUT_DIM, ENC_EMB_DIM, ENC_HID_DIM, DEC_HID_DIM, ENC_DROPOUT)\n",
        "dec = Decoder(OUTPUT_DIM, DEC_EMB_DIM, ENC_HID_DIM, DEC_HID_DIM, DEC_DROPOUT, attn)\n",
        "\n",
        "model = Seq2Seq(enc, dec, device).to(device)"
      ],
      "execution_count": null,
      "outputs": []
    },
    {
      "cell_type": "code",
      "metadata": {
        "id": "KPwoMPUo5NCI",
        "colab": {
          "base_uri": "https://localhost:8080/"
        },
        "outputId": "da1aec87-795e-4603-aa4c-d4cb2b551eb6"
      },
      "source": [
        "model.to(device)"
      ],
      "execution_count": null,
      "outputs": [
        {
          "output_type": "execute_result",
          "data": {
            "text/plain": [
              "Seq2Seq(\n",
              "  (encoder): Encoder(\n",
              "    (embedding): Embedding(30522, 512)\n",
              "    (rnn): GRU(512, 256, bidirectional=True)\n",
              "    (fc): Linear(in_features=512, out_features=256, bias=True)\n",
              "    (dropout): Dropout(p=0.5, inplace=False)\n",
              "  )\n",
              "  (decoder): Decoder(\n",
              "    (attention): Attention(\n",
              "      (attn): Linear(in_features=768, out_features=256, bias=True)\n",
              "      (v): Linear(in_features=256, out_features=1, bias=False)\n",
              "    )\n",
              "    (embedding): Embedding(30522, 512)\n",
              "    (rnn): GRU(1024, 256)\n",
              "    (fc_out): Linear(in_features=1280, out_features=30522, bias=True)\n",
              "    (dropout): Dropout(p=0.5, inplace=False)\n",
              "  )\n",
              ")"
            ]
          },
          "metadata": {
            "tags": []
          },
          "execution_count": 109
        }
      ]
    },
    {
      "cell_type": "code",
      "metadata": {
        "id": "zrlquWWb5P6Q",
        "colab": {
          "base_uri": "https://localhost:8080/"
        },
        "outputId": "9bc1d427-3f1e-41e9-ee42-34037a6ad73f"
      },
      "source": [
        "def init_weights(m):\n",
        "    for name, param in m.named_parameters():\n",
        "        if 'weight' in name:\n",
        "            nn.init.normal_(param.data, mean=0, std=0.01)\n",
        "        else:\n",
        "            nn.init.constant_(param.data, 0)\n",
        "            \n",
        "model.apply(init_weights)"
      ],
      "execution_count": null,
      "outputs": [
        {
          "output_type": "execute_result",
          "data": {
            "text/plain": [
              "Seq2Seq(\n",
              "  (encoder): Encoder(\n",
              "    (embedding): Embedding(30522, 512)\n",
              "    (rnn): GRU(512, 256, bidirectional=True)\n",
              "    (fc): Linear(in_features=512, out_features=256, bias=True)\n",
              "    (dropout): Dropout(p=0.5, inplace=False)\n",
              "  )\n",
              "  (decoder): Decoder(\n",
              "    (attention): Attention(\n",
              "      (attn): Linear(in_features=768, out_features=256, bias=True)\n",
              "      (v): Linear(in_features=256, out_features=1, bias=False)\n",
              "    )\n",
              "    (embedding): Embedding(30522, 512)\n",
              "    (rnn): GRU(1024, 256)\n",
              "    (fc_out): Linear(in_features=1280, out_features=30522, bias=True)\n",
              "    (dropout): Dropout(p=0.5, inplace=False)\n",
              "  )\n",
              ")"
            ]
          },
          "metadata": {
            "tags": []
          },
          "execution_count": 110
        }
      ]
    },
    {
      "cell_type": "code",
      "metadata": {
        "id": "etN6HJo95STi",
        "colab": {
          "base_uri": "https://localhost:8080/"
        },
        "outputId": "06d37382-7049-4a01-bbf4-fa44e78b84e5"
      },
      "source": [
        "def count_parameters(model):\n",
        "    return sum(p.numel() for p in model.parameters() if p.requires_grad)\n",
        "\n",
        "print(f'The model has {count_parameters(model):,} trainable parameters')"
      ],
      "execution_count": null,
      "outputs": [
        {
          "output_type": "stream",
          "text": [
            "The model has 72,848,954 trainable parameters\n"
          ],
          "name": "stdout"
        }
      ]
    },
    {
      "cell_type": "code",
      "metadata": {
        "id": "q2UMii_H5VSU"
      },
      "source": [
        "#define optimizer\n",
        "optimizer = optim.Adam(model.parameters() , lr=0.001)"
      ],
      "execution_count": null,
      "outputs": []
    },
    {
      "cell_type": "code",
      "metadata": {
        "id": "SDA011ZM5Xq5"
      },
      "source": [
        "#define loss\n",
        "criterion = nn.CrossEntropyLoss(ignore_index = 0 )"
      ],
      "execution_count": null,
      "outputs": []
    },
    {
      "cell_type": "code",
      "metadata": {
        "id": "DamT4GZl5Z-C"
      },
      "source": [
        "def train(model, iterator, optimizer, criterion, clip):\n",
        "    \n",
        "    model.train()\n",
        "    \n",
        "    epoch_loss = 0\n",
        "    \n",
        "    for i, ( src , trg ) in enumerate(iterator):\n",
        "        \n",
        "        \n",
        "        optimizer.zero_grad()\n",
        "        #move to device\n",
        "        src , trg = src.to(device) , trg.to(device)\n",
        "        \n",
        "        output = model(src, trg)\n",
        "        \n",
        "        #trg = [trg len, batch size]\n",
        "        #output = [trg len, batch size, output dim]\n",
        "        \n",
        "        output_dim = output.shape[-1]\n",
        "        \n",
        "        output = output[1:].view(-1, output_dim)\n",
        "        trg = trg[1:].view(-1)\n",
        "        \n",
        "        #trg = [(trg len - 1) * batch size]\n",
        "        #output = [(trg len - 1) * batch size, output dim]\n",
        "        \n",
        "        loss = criterion(output, trg)\n",
        "        \n",
        "        loss.backward()\n",
        "        \n",
        "        torch.nn.utils.clip_grad_norm_(model.parameters(), clip)\n",
        "        \n",
        "        optimizer.step()\n",
        "        \n",
        "        epoch_loss += loss.item()\n",
        "        \n",
        "    return epoch_loss / len(iterator)"
      ],
      "execution_count": null,
      "outputs": []
    },
    {
      "cell_type": "code",
      "metadata": {
        "id": "X_derGwg5cw1"
      },
      "source": [
        "def evaluate(model, iterator, criterion):\n",
        "    \n",
        "    model.eval()\n",
        "    \n",
        "    epoch_loss = 0\n",
        "    \n",
        "    with torch.no_grad():\n",
        "    \n",
        "        for i, (src , trg) in enumerate(iterator):\n",
        "\n",
        "            #move to device\n",
        "            src , trg = src.to(device) , trg.to(device)\n",
        "            output = model(src, trg, 0) #turn off teacher forcing\n",
        "\n",
        "            #trg = [trg len, batch size]\n",
        "            #output = [trg len, batch size, output dim]\n",
        "\n",
        "            output_dim = output.shape[-1]\n",
        "            \n",
        "            output = output[1:].view(-1, output_dim)\n",
        "            trg = trg[1:].view(-1)\n",
        "\n",
        "            #trg = [(trg len - 1) * batch size]\n",
        "            #output = [(trg len - 1) * batch size, output dim]\n",
        "\n",
        "            loss = criterion(output, trg)\n",
        "\n",
        "            epoch_loss += loss.item()\n",
        "        \n",
        "    return epoch_loss / len(iterator)"
      ],
      "execution_count": null,
      "outputs": []
    },
    {
      "cell_type": "code",
      "metadata": {
        "id": "B3mRRgCi5fcD"
      },
      "source": [
        "def epoch_time(start_time, end_time):\n",
        "    elapsed_time = end_time - start_time\n",
        "    elapsed_mins = int(elapsed_time / 60)\n",
        "    elapsed_secs = int(elapsed_time - (elapsed_mins * 60))\n",
        "    return elapsed_mins, elapsed_secs"
      ],
      "execution_count": null,
      "outputs": []
    },
    {
      "cell_type": "code",
      "metadata": {
        "id": "6ezdOz0l5jBn",
        "colab": {
          "base_uri": "https://localhost:8080/"
        },
        "outputId": "d182a61f-51be-4479-fb42-567a83edf018"
      },
      "source": [
        "#training loop\n",
        "\n",
        "N_EPOCHS = 100\n",
        "CLIP = 5\n",
        "\n",
        "best_valid_loss = float('inf')\n",
        "\n",
        "print(\"Training the model...\")\n",
        "tr = {'loss': [], 'PPL': []}\n",
        "val = {'loss': [], 'PPL': []}\n",
        "for epoch in range(N_EPOCHS):\n",
        "    \n",
        "    start_time = time.time()\n",
        "    \n",
        "    train_loss = train(model, train_loader  , optimizer, criterion, CLIP)\n",
        "    valid_loss = evaluate(model, valid_loader , criterion)\n",
        "    \n",
        "    end_time = time.time()\n",
        "    \n",
        "    epoch_mins, epoch_secs = epoch_time(start_time, end_time)\n",
        "    \n",
        "    if valid_loss < best_valid_loss:\n",
        "        best_valid_loss = valid_loss\n",
        "        torch.save(model.state_dict(), 'drive/MyDrive/tut3-model-2c.pt')\n",
        "\n",
        "    # store logs\n",
        "    tr['loss'].append(train_loss)\n",
        "    tr['PPL'].append(math.exp(train_loss))\n",
        "    val['loss'].append(valid_loss)\n",
        "    val['PPL'].append(math.exp(valid_loss))\n",
        "        \n",
        "    if( (epoch+1)%10==0 ):\n",
        "      print(f'Epoch: {epoch+1:02} | Time: {epoch_mins}m {epoch_secs}s')\n",
        "      print(f'\\tTrain Loss: {train_loss:.3f} | Train PPL: {math.exp(train_loss):7.3f}')\n",
        "      print(f'\\t Val. Loss: {valid_loss:.3f} |  Val. PPL: {math.exp(valid_loss):7.3f}')"
      ],
      "execution_count": null,
      "outputs": [
        {
          "output_type": "stream",
          "text": [
            "Training the model...\n",
            "Epoch: 10 | Time: 0m 16s\n",
            "\tTrain Loss: 5.724 | Train PPL: 306.080\n",
            "\t Val. Loss: 5.859 |  Val. PPL: 350.420\n",
            "Epoch: 20 | Time: 0m 16s\n",
            "\tTrain Loss: 5.683 | Train PPL: 293.763\n",
            "\t Val. Loss: 5.877 |  Val. PPL: 356.898\n",
            "Epoch: 30 | Time: 0m 16s\n",
            "\tTrain Loss: 5.642 | Train PPL: 282.121\n",
            "\t Val. Loss: 5.889 |  Val. PPL: 361.174\n",
            "Epoch: 40 | Time: 0m 16s\n",
            "\tTrain Loss: 5.605 | Train PPL: 271.744\n",
            "\t Val. Loss: 5.884 |  Val. PPL: 359.187\n",
            "Epoch: 50 | Time: 0m 16s\n",
            "\tTrain Loss: 5.561 | Train PPL: 260.180\n",
            "\t Val. Loss: 5.900 |  Val. PPL: 364.880\n",
            "Epoch: 60 | Time: 0m 16s\n",
            "\tTrain Loss: 5.526 | Train PPL: 251.208\n",
            "\t Val. Loss: 5.909 |  Val. PPL: 368.465\n",
            "Epoch: 70 | Time: 0m 16s\n",
            "\tTrain Loss: 5.470 | Train PPL: 237.418\n",
            "\t Val. Loss: 5.933 |  Val. PPL: 377.277\n",
            "Epoch: 80 | Time: 0m 16s\n",
            "\tTrain Loss: 5.403 | Train PPL: 222.091\n",
            "\t Val. Loss: 5.961 |  Val. PPL: 387.970\n",
            "Epoch: 90 | Time: 0m 16s\n",
            "\tTrain Loss: 5.333 | Train PPL: 207.013\n",
            "\t Val. Loss: 5.993 |  Val. PPL: 400.493\n",
            "Epoch: 100 | Time: 0m 16s\n",
            "\tTrain Loss: 5.267 | Train PPL: 193.900\n",
            "\t Val. Loss: 6.030 |  Val. PPL: 415.574\n"
          ],
          "name": "stdout"
        }
      ]
    },
    {
      "cell_type": "code",
      "metadata": {
        "id": "qKlCygoOM_Jp",
        "colab": {
          "base_uri": "https://localhost:8080/",
          "height": 479
        },
        "outputId": "96973420-57a4-4dba-b2b8-e6df696e21dd"
      },
      "source": [
        "#plot train and validation PPL logs\n",
        "\n",
        "fig = plt.figure(figsize=(10,7))\n",
        "\n",
        "y1 = tr['PPL']\n",
        "y2 = val['PPL']\n",
        "\n",
        "plt.plot(y1, \"-b\", label=\"Train perplexity\")\n",
        "plt.plot(y2, \"-r\", label=\"Validation perplexity\")\n",
        "plt.legend(loc=\"upper right\")\n",
        "plt.ylim(0, 850)\n",
        "plt.ylabel('Perplexity', fontsize=12)\n",
        "plt.xlabel('Epochs', fontsize=12)\n",
        "plt.title(\"Train and validation perplexity \\n GRU with attention (BERT base embeddings) - Seeker post + non-empathetic response input\", fontsize = 14)\n",
        "\n",
        "fig.savefig(\"2b-ppl.pdf\")\n",
        "plt.show()"
      ],
      "execution_count": null,
      "outputs": [
        {
          "output_type": "display_data",
          "data": {
            "image/png": "[encoded data removed]",
            "text/plain": [
              "<Figure size 720x504 with 1 Axes>"
            ]
          },
          "metadata": {
            "tags": [],
            "needs_background": "light"
          }
        }
      ]
    },
    {
      "cell_type": "code",
      "metadata": {
        "id": "6cPWoJqW5lnL",
        "colab": {
          "base_uri": "https://localhost:8080/"
        },
        "outputId": "cbdb90fe-ef6a-4ebb-dffe-7d61c2f8aacd"
      },
      "source": [
        "model.load_state_dict(torch.load('drive/MyDrive/tut3-model-2c.pt'))\n",
        "\n",
        "test_loss_2b = evaluate(model, test_loader, criterion)\n",
        "\n",
        "print(f'| Test Loss: {test_loss_2b:.3f} | Test PPL: {math.exp(test_loss_2b):7.3f} |')"
      ],
      "execution_count": null,
      "outputs": [
        {
          "output_type": "stream",
          "text": [
            "| Test Loss: 5.797 | Test PPL: 329.175 |\n"
          ],
          "name": "stdout"
        }
      ]
    },
    {
      "cell_type": "code",
      "metadata": {
        "id": "T98WqE9C5ve6"
      },
      "source": [
        "def generate_sentence(model, iterator):\n",
        "    \n",
        "    model.eval()\n",
        "    \n",
        "    epoch_loss = 0\n",
        "\n",
        "    pred_trg_pairs = []\n",
        "\n",
        "    with torch.no_grad():\n",
        "    \n",
        "        for i, (src , trg) in enumerate(iterator):\n",
        "\n",
        "            #move to device\n",
        "            src , trg = src.to(device) , trg.to(device)\n",
        "            output = model(src, trg, 0) #turn off teacher forcing\n",
        "\n",
        "            #trg = [trg len, batch size]\n",
        "            #output = [trg len, batch size, output dim]\n",
        "\n",
        "            output_dim = output.shape[-1]\n",
        "            \n",
        "            output = output[:,1:]\n",
        "            trg = trg[:,1:]\n",
        "\n",
        "            output = output.detach().cpu().numpy()\n",
        "            trg = trg.detach().cpu().numpy()\n",
        "            pred= np.argmax( output , axis = -1 )\n",
        "\n",
        "            pred = tokenizer.batch_decode( pred , skip_special_tokens=True)\n",
        "            trg = tokenizer.batch_decode( trg , skip_special_tokens = True )\n",
        "\n",
        "            for i_pred , i_trg in zip( pred , trg  ):\n",
        "\n",
        "              print( \"Target Sentence : {} \\n\".format( i_trg )  )\n",
        "              print( \"Predicted Sentence : {} \\n\".format( i_pred )  )\n",
        "\n",
        "            break"
      ],
      "execution_count": null,
      "outputs": []
    },
    {
      "cell_type": "code",
      "metadata": {
        "id": "-eJY5_-I5wT-",
        "colab": {
          "base_uri": "https://localhost:8080/"
        },
        "outputId": "fb11ddfd-4f54-4a69-b469-7d0d546595a2"
      },
      "source": [
        "generate_sentence(model, test_loader)"
      ],
      "execution_count": null,
      "outputs": [
        {
          "output_type": "stream",
          "text": [
            "Target Sentence : . must have meant so much to give yourself to a relationship where that loss hurts this bad. crap, that's quite the level of commitment!, that is something to hang your hat on. have that in you, right? did it once before. shit hurts right now but you have it in you!!. cant imagine how happy you will be when you find the next one... maybe one that fits the possibility of a promising relationship?, think you have a good base here. \n",
            "\n",
            "Predicted Sentence :  \n",
            "\n",
            "Target Sentence : feel only bad things, too. can laugh and joke with my buddies, but it just feels hollow and empty on the inside. even come to think, that often times smile and laugh, cause know a normal person would do this and did it once, so to don't look like a freak, do it at the right times.'m never excited these days. can't even remember the last time was. when decided to lose my virginity to a prostitute when was around 30, had some concerns but wasn't excited. and partys, knew couldn't wait for some when was in my early twenties., \n",
            "\n",
            "Predicted Sentence : ....................... \n",
            "\n",
            "Target Sentence : know. how feel. can barely survive now, never make it. \n",
            "\n",
            "Predicted Sentence : . \n",
            "\n",
            "Target Sentence : ' ve come to help you. can't do much. - they're all lies. can understand how you feel because am exactly in your shoes. kill myself'm scared that'll go to hell.'m stuck. can assure you that you are not alone. if you want, you just got to hold on. \n",
            "\n",
            "Predicted Sentence : .. \n",
            "\n",
            "Target Sentence : man, you're saying is actually quite common of someone who is good at art. people with a high degree or artistic talent are really good at recognizing good art, but get frustrated because their own art doesn't live up to the crazy high standard they've set for themselves. suggests that it takes 10, 000 hours to gain mastery in something. is a skill just like anything else. think a lot of people get fooled into this either have it or you don't mentality when it comes to creative arts.'s just not the case. think it's more important that you actually have an obsession and something that you want to be good at! people don \n",
            "\n",
            "Predicted Sentence : .. \n",
            "\n",
            "Target Sentence : swear, if people didn't have families, there would be a lot less depression in this world. guess it really depends on the type of family stress. you realistically put some distance between yourself and the stress? is it something that you have to resolve? \n",
            "\n",
            "Predicted Sentence : .. \n",
            "\n",
            "Target Sentence : you considered speaking with a therapist? you know why you feel this way? \n",
            "\n",
            "Predicted Sentence : .. \n",
            "\n",
            "Target Sentence : times people take laughter as a cue that what doing is okay. do the same thing whenever someone picks on me, even though it hurts inside for all of us. let other opinions influence how you see yourself, as hard as that can be. & lt ; 3 \n",
            "\n",
            "Predicted Sentence : .. \n",
            "\n",
            "Target Sentence : quite a few things ive noticed for myself. ill over simplify my thought process to get the point across. list them quickly. thought that if could go through physical pain, then can go through mental pain. physical scar is easier to understand that an emotional one. to tend to my wounds to stop the bleeding and cover them up distracted me from what really wanted to tend to and cover up. was a couple times where self harmed because my thoughts were too overwhelming while was trying to fall asleep., would spend some time in the bathroom alone, taking care of my bleeding and by the time it was all finished, forgot what was thinking about. harm was an \n",
            "\n",
            "Predicted Sentence : .. \n",
            "\n",
            "Target Sentence : any chance do you think you're in a loop. food can make you depressed. being depressed probably makes you eat more junk food? a while that was my problem too. if its just random, ill probably binge and feel bad later. to indulge in more later to try to cheer up. \n",
            "\n",
            "Predicted Sentence : .. \n",
            "\n",
            "Target Sentence : ' m sorry you feel like this. daughter has tried to kill herself 3 times and pretty much have been mentally preparing myself for the worst for the last 6 months bc she was so so depressed and non responsive to meds, therapy etc. the craziest thing happened... she got involved in an old hobby, met new people she had stuff in common with, and just 5 minutes ago told me that she is going out to lunch with someone from that group. point is... things can change. hope things can change for you soon. \n",
            "\n",
            "Predicted Sentence : .. \n",
            "\n",
            "Target Sentence : is the thing. you open up to these people and they through it in your face right after, then you know they aren't real friends. real friend is willing to sit through peoples problems for hours. once sat and chatted with a friend about his issues for some 7 odd hours hours just talking till 7am, never gave up on the conversation, he did the same for me a while later down the road when was having problems. who aren't willing to talk to you and help you aren't worth keeping around. me there is a friend out there who is willing to listen. guess do keep in mind that not everyone has infinite patients and has their own problems. good luck \n",
            "\n",
            "Predicted Sentence : .. \n",
            "\n",
            "Target Sentence : buddy you are not alone. spent a day where literally didn't so much as sit up in bed a couple of weeks ago.'t eat or drink anything so didn't need the bathroom which was good.'m not at a point where have any advice to give or anything but maybe you can find some comfort knowing that other people feel the same as you. \n",
            "\n",
            "Predicted Sentence : .. \n",
            "\n",
            "Target Sentence : too'll help others, plant trees or something. its others happiness that will make me a bit happy too \n",
            "\n",
            "Predicted Sentence : .. \n",
            "\n",
            "Target Sentence : ' m kind of the same way. life sucks, see no light in the proverbial tunnel but rather be alive to see how the world turns out than leave my life for nothingness., believe that there's no life after death. you've ever been unconscious you know what'm talking about, one moment you're awake, the next you wake up somewhere else with no sense of time gaining passed. but forever is death to me, there's simply nothing, it just ends completely. rather suffer than cease to exist. \n",
            "\n",
            "Predicted Sentence : .. \n",
            "\n",
            "Target Sentence : feel exately the same and killing me for bad english \n",
            "\n",
            "Predicted Sentence : .. \n",
            "\n",
            "Target Sentence : you? are you still here asking for help and gathered the attention of your fellow and they are insisting they want to listen to you, but you keep denying them. put it any other selfish. used to give myself any excuse not to see my friends or family, but it was all debunked by the question they tell you themselves they felt that what can tell, you really need to work on your negative speech patterns. - or - nothing thinking, hopelessness, knee - jerk dismissals ; these are all habits that depressed people make in their speech that perpetuate their own misery. takes conscious effort to recognize our speech patterns as poisonous and slowly change not cares, you the one suffering \n",
            "\n",
            "Predicted Sentence : .. \n",
            "\n",
            "Target Sentence : hate that usually succumb to the crippling overwhelm that often accompanies me trying to deal with the seemingly insurmountable [ logistically, tangible, financial, and medical ] things must deal with...... as the clock ticks..... \n",
            "\n",
            "Predicted Sentence : .. \n",
            "\n",
            "Target Sentence : ' m sorry to hear how you're feeling right now, and although everything you do at the moment may feel pointless, there will come a time when your purpose will become apparent, and everything will hopefully make sense. can really say right now is to strive on, do the things that make you happy and cherish the people that make you feel loved. wish you a wonderful future, and hope that one day everything will be better. \n",
            "\n",
            "Predicted Sentence : .. \n",
            "\n",
            "Target Sentence : feel you. feel life is too much and rather die because my anxiety makes me feel it's not worth to be alive. then again want to live because'm terrified of death. just hate that fucking feeling, man. are not alone in this tho. \n",
            "\n",
            "Predicted Sentence : .. \n",
            "\n",
            "Target Sentence : don't really think life is he'll but don't understand the weird sadness or fear of death that people have.'ve known a few people who died. wasn't sad at all. know is going to die and one day am going to die. is that sad? \n",
            "\n",
            "Predicted Sentence : .. \n",
            "\n",
            "Target Sentence : more often than not, i end up giving a half truth. or, i guess more accurately, a partial truth. when i'm with friends 9 / 10 they make me feel good and forget about my shit show of a brain. so i answer with good! or feelin'great now! because at the time, thats how i feel. but mostly i leave out how i felt before seeing or talking to them. that may be wrong or decietful, but i just don't like to burden my friends with this. especially those who can't handle my neuroatypicality. \n",
            "\n",
            "Predicted Sentence : .. \n",
            "\n",
            "Target Sentence : insomnia is usually one of the first indicators of an oncoming episode. truly wish had hypersomnia though, the few times got it, wasn't rested whatsoever but loved those little moments you have when you wake up and you can feel yourself drifting off to sleep. feeling've felt rarely in my 10 year struggle with insomnia alone. \n",
            "\n",
            "Predicted Sentence : .. \n",
            "\n",
            "Target Sentence : , it is. feel the same way, got hired 7 months ago, and was depressed for 2 years before that. hate to admit this, but some days cry like the little bitch am in the shower and on my drive to work. guess what, haven't missed a single day of work aside from 9 day vacation that took scattered here and there. have seriously one simple trick : you go there no matter what, don't give yourself a choice. more you sit and wonder the harder it gets. thing, my supervisor almost cried today at work and was complaining in a high pitched voice. kinda brightened my day. \n",
            "\n",
            "Predicted Sentence : .. \n",
            "\n",
            "Target Sentence : what helps me out is music, talking to friends, and my cat. however these are just distractions and they only make me feel better to a small extent. what do you like doing? what do you personally find enjoyable? has your depression taken your interests away from you? \n",
            "\n",
            "Predicted Sentence : .. \n",
            "\n",
            "Target Sentence : there. one on this earth is worthless, even if you feel that way now. gets better, things change, you will change. browsed through your post history and noticed how young you are. age you're in is a horrible hormonic stage. son had the same feelings at that age - range. did too. if life feels overwhelming and lonely now, this will pass eventually. patient. have to go for a while, but will get back to you with how my son learned to cope. in there. big motherly hug to you! \n",
            "\n",
            "Predicted Sentence : .. \n",
            "\n",
            "Target Sentence : do it. may feel like it now, but it if you commit suicide you will lose the chance to feel better. do u feel bad right now? \n",
            "\n",
            "Predicted Sentence : .. \n",
            "\n",
            "Target Sentence : ' s some poetic bollocks, right there.'t they have two numbers?'ve seen that someplace. \n",
            "\n",
            "Predicted Sentence : .. \n",
            "\n",
            "Target Sentence : understand how you feel. able to talk to someone without worrying about being judge. that person that you can feel comfortable with is something that many of us have a hard time finding. \n",
            "\n",
            "Predicted Sentence : .. \n",
            "\n",
            "Target Sentence : ' s hard. if you're the type of person to post in this sub. yourself is really difficult. loving others is easier. do love you. you love others, find, its easier to love yourself. just saying the words and seeing it echoed back makes me feel good. hope helped. \n",
            "\n",
            "Predicted Sentence : .. \n",
            "\n",
            "Target Sentence : yeah : / my parents make me anxious to the point where i wont get food and water because i'm afraid of running into them. glad to be moving out \n",
            "\n",
            "Predicted Sentence : .. \n",
            "\n",
            "Target Sentence : you tell anyone? thoughts can be dangerous. \n",
            "\n",
            "Predicted Sentence : .. \n",
            "\n"
          ],
          "name": "stdout"
        }
      ]
    }
  ]
}