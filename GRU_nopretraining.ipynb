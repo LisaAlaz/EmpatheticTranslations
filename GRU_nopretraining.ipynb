{
  "nbformat": 4,
  "nbformat_minor": 0,
  "metadata": {
    "colab": {
      "name": "all_models.ipynb",
      "provenance": [],
      "collapsed_sections": []
    },
    "kernelspec": {
      "name": "python3",
      "display_name": "Python 3"
    },
    "language_info": {
      "name": "python"
    },
    "accelerator": "GPU"
  },
  "cells": [
    {
      "cell_type": "markdown",
      "metadata": {
        "id": "eLDEq9FHp6CA"
      },
      "source": [
        "#1. GRU encoder-decoder with attention (no pre-training)"
      ]
    },
    {
      "cell_type": "markdown",
      "metadata": {
        "id": "AaqO9OOd2mvs"
      },
      "source": [
        "The following architecture is composed of of a GRU encoder and a GRU decoder, with the addition of an attention layer. We use MLP attention computing the energy score $s_i$ with the formula $s_i = a^T tanh (W_d d_t + W_s h_i)$.  Rather than using a vocabulary of pre-trained embeddings, we randomly initialise an embedding layer which is progressively tuned during training. The dimension of the embedding layer is 300. We use a batch size of 32 samples, Adam optimiser with a learning rate of 0.001, and cross-entropy loss (from which we calculate the perplexity scores by taking the exponential). We also implement dropout (value 0.5) to limit overfitting. The models have ~20 million tunable parameters. Both models are trained for 100 epochs."
      ]
    },
    {
      "cell_type": "code",
      "metadata": {
        "id": "wcRoOsHo-Ns1",
        "colab": {
          "base_uri": "https://localhost:8080/"
        },
        "outputId": "3d6f9d52-b6cb-44b6-cf46-d3fda75bf489"
      },
      "source": [
        "#mount Google Drive\n",
        "from google.colab import drive\n",
        "drive.mount('/content/drive')"
      ],
      "execution_count": null,
      "outputs": [
        {
          "output_type": "stream",
          "text": [
            "Mounted at /content/drive\n"
          ],
          "name": "stdout"
        }
      ]
    },
    {
      "cell_type": "code",
      "metadata": {
        "id": "k7XAe-vCMuUK",
        "colab": {
          "base_uri": "https://localhost:8080/"
        },
        "outputId": "22ff6f2e-0b9f-418b-ff91-c2c6b73c29a9"
      },
      "source": [
        "#import statements\n",
        "import torch\n",
        "import torch.nn as nn\n",
        "import torch.optim as optim\n",
        "import torch.nn.functional as F\n",
        "\n",
        "from torchtext.legacy.data import Field, BucketIterator, Example, LabelField\n",
        "from torch.utils.data import Dataset\n",
        "\n",
        "import spacy\n",
        "import numpy as np\n",
        "import pandas as pd\n",
        "\n",
        "import random\n",
        "import math\n",
        "import time\n",
        "\n",
        "import nltk\n",
        "from nltk.corpus import stopwords\n",
        "nltk.download(\"stopwords\")\n",
        "nltk.download(\"punkt\")\n",
        "nltk.download('wordnet')\n",
        "\n",
        "import re\n",
        "\n",
        "import unicodedata\n",
        "from collections import Counter\n",
        "\n",
        "import matplotlib.pyplot as plt"
      ],
      "execution_count": null,
      "outputs": [
        {
          "output_type": "stream",
          "text": [
            "[nltk_data] Downloading package stopwords to /root/nltk_data...\n",
            "[nltk_data]   Unzipping corpora/stopwords.zip.\n",
            "[nltk_data] Downloading package punkt to /root/nltk_data...\n",
            "[nltk_data]   Unzipping tokenizers/punkt.zip.\n",
            "[nltk_data] Downloading package wordnet to /root/nltk_data...\n",
            "[nltk_data]   Unzipping corpora/wordnet.zip.\n"
          ],
          "name": "stdout"
        }
      ]
    },
    {
      "cell_type": "code",
      "metadata": {
        "id": "jOcwgzSAOCkE"
      },
      "source": [
        "#set seed\n",
        "seed = 42\n",
        "\n",
        "random.seed(seed)\n",
        "np.random.seed(seed)\n",
        "torch.manual_seed(seed)\n",
        "torch.cuda.manual_seed(seed)\n",
        "torch.backends.cudnn.deterministic = True"
      ],
      "execution_count": null,
      "outputs": []
    },
    {
      "cell_type": "code",
      "metadata": {
        "id": "-8VbjO_5B7xT"
      },
      "source": [
        "#remove limits to read all the text in the dataframe\n",
        "pd.set_option('max_colwidth', None)\n",
        "pd.set_option('max_rows', None)"
      ],
      "execution_count": null,
      "outputs": []
    },
    {
      "cell_type": "markdown",
      "metadata": {
        "id": "H7DXmXgZ8LbK"
      },
      "source": [
        "##1a) Non-empathetic response as input"
      ]
    },
    {
      "cell_type": "code",
      "metadata": {
        "id": "w8nmSGU4PaGP"
      },
      "source": [
        "#import csv data file into pandas dataframe\n",
        "data_df = pd.read_csv('drive/MyDrive/data.csv', encoding=\"latin1\")"
      ],
      "execution_count": null,
      "outputs": []
    },
    {
      "cell_type": "code",
      "metadata": {
        "id": "YhW573HjSw3U"
      },
      "source": [
        "#add start and end-of-sentence tokens to source and target strings\n",
        "data_df['source'] = 'START ' + data_df['source'].astype(str) + ' END'\n",
        "data_df['target'] = 'START ' + data_df['target'].astype(str) + ' END'"
      ],
      "execution_count": null,
      "outputs": []
    },
    {
      "cell_type": "code",
      "metadata": {
        "id": "t8Av_ZCfJW32"
      },
      "source": [
        "#define functions\n",
        "\n",
        "#convert unicode standard to ascii standard\n",
        "def unicodeToAscii(s):\n",
        "    return ''.join(\n",
        "        c for c in unicodedata.normalize('NFD', s)\n",
        "        if unicodedata.category(c) != 'Mn'\n",
        "    )\n",
        "\n",
        "#generate a list of all words from the corpus\n",
        "def vocab_gen( data_file ):\n",
        "\n",
        "  text_list=[]\n",
        "  word_list=[]\n",
        "\n",
        "  for idx , text in enumerate( data_file ):\n",
        "\n",
        "    text = unicodeToAscii(text.strip())\n",
        "    text = re.sub(r\"([.!?])\", r\" \\1\", text)\n",
        "    text = re.sub(r\"[^a-zA-Z.!?]+\", r\" \", text)\n",
        "    text=nltk.word_tokenize(text)\n",
        "    #text = [word for word in text if not word in set(stopwords.words(\"english\"))]\n",
        "    lemma=nltk.WordNetLemmatizer()\n",
        "    text=[lemma.lemmatize(word) for word in text]\n",
        "    word_list.extend(text)\n",
        "    text=\" \".join(text)\n",
        "    text_list.append(text)\n",
        "\n",
        "  return word_list\n",
        "\n",
        "word_src = vocab_gen( data_df.source )\n",
        "word_trg = vocab_gen( data_df.target )"
      ],
      "execution_count": null,
      "outputs": []
    },
    {
      "cell_type": "code",
      "metadata": {
        "id": "1j0w8RhTKvce"
      },
      "source": [
        "#count occurrences of words and get vocabulary of unique tokens for source and target\n",
        "\n",
        "word_counter_src = Counter(word_src)\n",
        "vocab_src = sorted(word_counter_src  , key=word_counter_src.get, reverse=True)\n",
        "\n",
        "word_counter_trg = Counter(word_trg)\n",
        "vocab_trg = sorted(word_counter_trg  , key=word_counter_trg.get, reverse=True)"
      ],
      "execution_count": null,
      "outputs": []
    },
    {
      "cell_type": "code",
      "metadata": {
        "id": "R3zPbPGuLGC-"
      },
      "source": [
        "#word to index lookup and viceversa\n",
        "vocab_to_int_src = {word: ii   for ii, word in enumerate(vocab_src, 1)}\n",
        "int_to_vocab_src = {ii : word  for ii , word in enumerate(vocab_src , 1)}\n",
        "\n",
        "vocab_to_int_trg = {word: ii   for ii, word in enumerate(vocab_trg , 1)}\n",
        "int_to_vocab_trg = {ii : word  for ii , word in enumerate(vocab_trg , 1)}"
      ],
      "execution_count": null,
      "outputs": []
    },
    {
      "cell_type": "code",
      "metadata": {
        "id": "D4P0fzZuTYna"
      },
      "source": [
        "#add pad token\n",
        "def update_vocab( vocab_to_int , int_to_vocab ):\n",
        "\n",
        "  vocab_to_int.update( {\"<pad>\":0} )\n",
        "  #vocab_to_int.update( {\"start\":1} )\n",
        "  #vocab_to_int.update( {\"end\":2} )\n",
        "\n",
        "  int_to_vocab.update( {0 : \"<pad>\"} )\n",
        "  #int_to_vocab.update( {1 : \"start\"} )\n",
        "  #int_to_vocab.update( {2 : \"end\"} )\n",
        "\n",
        "  return vocab_to_int , int_to_vocab"
      ],
      "execution_count": null,
      "outputs": []
    },
    {
      "cell_type": "code",
      "metadata": {
        "id": "u8B2-8wfLmnz"
      },
      "source": [
        "vocab_to_int_src , int_to_vocab_src = update_vocab( vocab_to_int_src , int_to_vocab_src  )\n",
        "vocab_to_int_trg , int_to_vocab_trg = update_vocab( vocab_to_int_trg , int_to_vocab_trg  )"
      ],
      "execution_count": null,
      "outputs": []
    },
    {
      "cell_type": "code",
      "metadata": {
        "id": "nIPe-8o3MuCo"
      },
      "source": [
        "# extra preprocessing steps\n",
        "\n",
        "#parameters for the dataset and dataloader\n",
        "BATCH_SIZE = 32\n",
        "max_sent_length= 150\n",
        "\n",
        "def tokenize( i_text  , vocab ):\n",
        "\n",
        "    text = unicodeToAscii(i_text.strip())\n",
        "    text = re.sub(r\"([.!?])\", r\" \\1\", text)\n",
        "    text = re.sub(r\"[^a-zA-Z.!?]+\", r\" \", text)\n",
        "\n",
        "    text=nltk.word_tokenize(text)\n",
        "    #text = [word for word in text if not word in set(stopwords.words(\"english\"))]\n",
        "    lemma=nltk.WordNetLemmatizer()\n",
        "    text=[lemma.lemmatize(word) for word in text]\n",
        "    text=\" \".join(text)\n",
        "\n",
        "    tokenize_sen =[]\n",
        "    for i_word in text.split():\n",
        "      tokenize_sen.append( vocab[ i_word ] )\n",
        "    \n",
        "    return np.array( tokenize_sen )\n",
        "\n",
        "\n",
        "def preprocessing(df):\n",
        "\n",
        "    source_sentences = df.source.values\n",
        "    target_sentences = df.target.values\n",
        "\n",
        "    \n",
        "    \n",
        "    encoded_source_sentences , encoded_target_sentences = [] , []\n",
        "    for s_sent , t_sent in zip(source_sentences , target_sentences ):\n",
        "\n",
        "        s_encoded_sent = tokenize( s_sent , vocab_to_int_src )[: max_sent_length ]\n",
        "        \n",
        "        t_encoded_sent = tokenize( t_sent , vocab_to_int_trg)[: max_sent_length]\n",
        "\n",
        "        encoded_source_sentences.append(s_encoded_sent)\n",
        "        encoded_target_sentences.append(t_encoded_sent)\n",
        "\n",
        "\n",
        "    \n",
        "    return encoded_source_sentences, encoded_target_sentences"
      ],
      "execution_count": null,
      "outputs": []
    },
    {
      "cell_type": "code",
      "metadata": {
        "id": "mRjfzdBOcJgD"
      },
      "source": [
        "#split into train, val and test sets (80-10-10)\n",
        "train_df, val_df, test_df = \\\n",
        "              np.split(data_df.sample(frac=1, random_state=42), \n",
        "                       [int(.8*len(data_df)), int(.9*len(data_df))])"
      ],
      "execution_count": null,
      "outputs": []
    },
    {
      "cell_type": "code",
      "metadata": {
        "id": "m_vfulAZNu0N"
      },
      "source": [
        "#preprocessing. Generate representation of sentences as arrays of vocab indexes\n",
        "train_source_sentences, train_target_sentences = preprocessing(train_df)\n",
        "val_source_sentences, val_target_sentences = preprocessing(val_df)\n",
        "test_source_sentences, test_target_sentences = preprocessing(test_df)"
      ],
      "execution_count": null,
      "outputs": []
    },
    {
      "cell_type": "code",
      "metadata": {
        "id": "cYblW_HAf1Rs"
      },
      "source": [
        "#define device\n",
        "device = torch.device('cuda' if torch.cuda.is_available() else 'cpu')"
      ],
      "execution_count": null,
      "outputs": []
    },
    {
      "cell_type": "code",
      "metadata": {
        "id": "oohrOit4QI5j"
      },
      "source": [
        "class Seq2SeqDataset(Dataset):\n",
        "    \"\"\"\n",
        "    Class that represents a train/validation/test dataset that's readable for PyTorch\n",
        "    Note that this class inherits torch.utils.data.Dataset\n",
        "    \"\"\"\n",
        "    \n",
        "    def __init__(self, data_list, target_list, max_sent_length=128):\n",
        "        \"\"\"\n",
        "        @param data_list: list of data tokens \n",
        "        @param target_list: list of data targets \n",
        "        \"\"\"\n",
        "        self.data_list = data_list\n",
        "        self.target_list = target_list\n",
        "        self.max_sent_length = max_sent_length\n",
        "        assert (len(self.data_list) == len(self.target_list))\n",
        "\n",
        "    def __len__(self):\n",
        "        return len(self.data_list)\n",
        "        \n",
        "    def __getitem__(self, key, max_sent_length=None):\n",
        "        \"\"\"\n",
        "        Triggered when you call dataset[i]\n",
        "        \"\"\"\n",
        "        if max_sent_length is None:\n",
        "            max_sent_length = self.max_sent_length\n",
        "        token_idx = self.data_list[key][:max_sent_length]\n",
        "        label = self.target_list[key]\n",
        "        return [token_idx, label]\n",
        "\n",
        "    def attention_masks(self , encoded_sentences):\n",
        "      # attention masks, 0 for padding, 1 for actual token\n",
        "      attention_masks = []\n",
        "      for sent in encoded_sentences:\n",
        "          att_mask = [int(token_id > 0 ) for token_id in sent]\n",
        "          attention_masks.append(att_mask)\n",
        "\n",
        "      return attention_masks\n",
        "\n",
        "    def spam_collate_func(self,batch):\n",
        "        \"\"\"\n",
        "        Customized function for DataLoader that dynamically pads the batch so that all \n",
        "        data have the same length\n",
        "        \"\"\" \n",
        "        data_list = [] \n",
        "        target_list = []\n",
        "        mask_list = []\n",
        "\n",
        "        max_batch_seq_len = None # the length of longest sequence in batch\n",
        "                                 # if it is less than self.max_sent_length\n",
        "                                 # else max_batch_seq_len = self.max_sent_length\n",
        "\n",
        "        \"\"\"\n",
        "          # Pad the sequences in your data \n",
        "          # if their length is less than max_batch_seq_len\n",
        "          # or trim the sequences that are longer than self.max_sent_length\n",
        "          # return padded data_list and label_list\n",
        "        \"\"\"\n",
        "        \n",
        "        # find the max sequence length from the batch\n",
        "        max_batch_s_len = max(len(datum[0]) for datum in batch)\n",
        "        max_batch_t_len = max(len(datum[1]) for datum in batch)\n",
        "\n",
        "        max_batch_seq_len = max([max_batch_s_len , max_batch_t_len])\n",
        "\n",
        "        if max_batch_seq_len > self.max_sent_length:\n",
        "          max_batch_seq_len = self.max_sent_length\n",
        "\n",
        "        # pad each of the texts in batch\n",
        "        for datum in batch:\n",
        "          padded_s_vec = np.pad(np.array(datum[0]),\n",
        "                              pad_width = ((0, max_batch_seq_len - len(datum[0]))),\n",
        "                              mode = \"constant\", constant_values = 0)\n",
        "          \n",
        "          padded_t_vec = np.pad(np.array(datum[1]),\n",
        "                              pad_width = ((0, max_batch_seq_len - len(datum[1]))),\n",
        "                              mode = \"constant\", constant_values = 0)\n",
        "          \n",
        "          #generate the attention mask\n",
        "          #attention_mask = self.attention_masks([padded_vec])\n",
        "\n",
        "          data_list.append(padded_s_vec)\n",
        "          target_list.append( padded_t_vec )\n",
        "          #mask_list.append(attention_mask[0])\n",
        "\n",
        "\n",
        "        #convert to tensors\n",
        "        data_list = torch.from_numpy(np.array(data_list))\n",
        "        label_list = torch.from_numpy(np.array(target_list))\n",
        "        #mask_list = torch.from_numpy(np.array( mask_list))\n",
        "\n",
        "        return [data_list, label_list]"
      ],
      "execution_count": null,
      "outputs": []
    },
    {
      "cell_type": "code",
      "metadata": {
        "id": "cOIrHMWPQPF1"
      },
      "source": [
        "train_dataset = Seq2SeqDataset( train_source_sentences , train_target_sentences , max_sent_length)\n",
        "train_loader = torch.utils.data.DataLoader(dataset=train_dataset, \n",
        "                                           batch_size=BATCH_SIZE,\n",
        "                                           collate_fn=train_dataset.spam_collate_func,\n",
        "                                           shuffle=True)\n",
        "\n",
        "\n",
        "valid_dataset = Seq2SeqDataset( val_source_sentences , val_target_sentences , train_dataset.max_sent_length)\n",
        "valid_loader = torch.utils.data.DataLoader(dataset=valid_dataset, \n",
        "                                           batch_size=BATCH_SIZE,\n",
        "                                           collate_fn=train_dataset.spam_collate_func,\n",
        "                                           shuffle=False)\n",
        "\n",
        "\n",
        "test_dataset = Seq2SeqDataset( test_source_sentences , test_target_sentences , train_dataset.max_sent_length)\n",
        "test_loader = torch.utils.data.DataLoader(dataset=test_dataset, \n",
        "                                           batch_size=BATCH_SIZE,\n",
        "                                           collate_fn=train_dataset.spam_collate_func,\n",
        "                                           shuffle=False)"
      ],
      "execution_count": null,
      "outputs": []
    },
    {
      "cell_type": "code",
      "metadata": {
        "id": "nRa8Mc_5QQGy"
      },
      "source": [
        "x , y = next(iter(valid_loader))"
      ],
      "execution_count": null,
      "outputs": []
    },
    {
      "cell_type": "code",
      "metadata": {
        "id": "ixkdWxGK1oNJ"
      },
      "source": [
        "#encoder class \n",
        "#randomly intialises embedding layer\n",
        "class Encoder(nn.Module):\n",
        "    def __init__(self, input_dim, emb_dim, enc_hid_dim, dec_hid_dim, dropout):\n",
        "        super().__init__()\n",
        "        \n",
        "        self.embedding = nn.Embedding(input_dim, emb_dim)\n",
        "        \n",
        "        self.rnn = nn.GRU(emb_dim, enc_hid_dim, bidirectional = True)\n",
        "        \n",
        "        self.fc = nn.Linear(enc_hid_dim * 2, dec_hid_dim)\n",
        "        \n",
        "        self.dropout = nn.Dropout(dropout)\n",
        "        \n",
        "    def forward(self, src):\n",
        "        \n",
        "        #src = [src len, batch size]\n",
        "        \n",
        "        embedded = self.dropout(self.embedding(src))\n",
        "        \n",
        "        #embedded = [src len, batch size, emb dim]\n",
        "        \n",
        "        outputs, hidden = self.rnn(embedded)\n",
        "                \n",
        "        #outputs = [src len, batch size, hid dim * num directions]\n",
        "        #hidden = [n layers * num directions, batch size, hid dim]\n",
        "        \n",
        "        #hidden is stacked [forward_1, backward_1, forward_2, backward_2, ...]\n",
        "        #outputs are always from the last layer\n",
        "        \n",
        "        #hidden [-2, :, : ] is the last of the forwards RNN \n",
        "        #hidden [-1, :, : ] is the last of the backwards RNN\n",
        "        \n",
        "        #initial decoder hidden is final hidden state of the forwards and backwards \n",
        "        #  encoder RNNs fed through a linear layer\n",
        "        hidden = torch.tanh(self.fc(torch.cat((hidden[-2,:,:], hidden[-1,:,:]), dim = 1)))\n",
        "        \n",
        "        #outputs = [src len, batch size, enc hid dim * 2]\n",
        "        #hidden = [batch size, dec hid dim]\n",
        "        \n",
        "        return outputs, hidden"
      ],
      "execution_count": null,
      "outputs": []
    },
    {
      "cell_type": "code",
      "metadata": {
        "id": "iYpXJ84R12Dq"
      },
      "source": [
        "#attention\n",
        "class Attention(nn.Module):\n",
        "    def __init__(self, enc_hid_dim, dec_hid_dim):\n",
        "        super().__init__()\n",
        "        \n",
        "        self.attn = nn.Linear((enc_hid_dim * 2) + dec_hid_dim, dec_hid_dim)\n",
        "        self.v = nn.Linear(dec_hid_dim, 1, bias = False)\n",
        "        \n",
        "    def forward(self, hidden, encoder_outputs):\n",
        "        \n",
        "        #hidden = [batch size, dec hid dim]\n",
        "        #encoder_outputs = [src len, batch size, enc hid dim * 2]\n",
        "        \n",
        "        batch_size = encoder_outputs.shape[1]\n",
        "        src_len = encoder_outputs.shape[0]\n",
        "        \n",
        "        #repeat decoder hidden state src_len times\n",
        "        hidden = hidden.unsqueeze(1).repeat(1, src_len, 1)\n",
        "        \n",
        "        encoder_outputs = encoder_outputs.permute(1, 0, 2)\n",
        "        \n",
        "        #hidden = [batch size, src len, dec hid dim]\n",
        "        #encoder_outputs = [batch size, src len, enc hid dim * 2]\n",
        "        \n",
        "        energy = torch.tanh(self.attn(torch.cat((hidden, encoder_outputs), dim = 2))) \n",
        "        \n",
        "        #energy = [batch size, src len, dec hid dim]\n",
        "\n",
        "        attention = self.v(energy).squeeze(2)\n",
        "        \n",
        "        #attention= [batch size, src len]\n",
        "        \n",
        "        return F.softmax(attention, dim=1)"
      ],
      "execution_count": null,
      "outputs": []
    },
    {
      "cell_type": "code",
      "metadata": {
        "id": "zyeInmhC182H"
      },
      "source": [
        "#decoder\n",
        "class Decoder(nn.Module):\n",
        "    def __init__(self, output_dim, emb_dim, enc_hid_dim, dec_hid_dim, dropout, attention):\n",
        "        super().__init__()\n",
        "\n",
        "        self.output_dim = output_dim\n",
        "        self.attention = attention\n",
        "        \n",
        "        self.embedding = nn.Embedding(output_dim, emb_dim)\n",
        "        \n",
        "        self.rnn = nn.GRU((enc_hid_dim * 2) + emb_dim, dec_hid_dim)\n",
        "        \n",
        "        self.fc_out = nn.Linear((enc_hid_dim * 2) + dec_hid_dim + emb_dim, output_dim)\n",
        "        \n",
        "        self.dropout = nn.Dropout(dropout)\n",
        "        \n",
        "    def forward(self, input, hidden, encoder_outputs):\n",
        "             \n",
        "        #input = [batch size]\n",
        "        #hidden = [batch size, dec hid dim]\n",
        "        #encoder_outputs = [src len, batch size, enc hid dim * 2]\n",
        "        \n",
        "        input = input.unsqueeze(0)\n",
        "        \n",
        "        #input = [1, batch size]\n",
        "        \n",
        "        embedded = self.dropout(self.embedding(input))\n",
        "        \n",
        "        #embedded = [1, batch size, emb dim]\n",
        "        \n",
        "        a = self.attention(hidden, encoder_outputs)\n",
        "                \n",
        "        #a = [batch size, src len]\n",
        "        \n",
        "        a = a.unsqueeze(1)\n",
        "        \n",
        "        #a = [batch size, 1, src len]\n",
        "        \n",
        "        encoder_outputs = encoder_outputs.permute(1, 0, 2)\n",
        "        \n",
        "        #encoder_outputs = [batch size, src len, enc hid dim * 2]\n",
        "        \n",
        "        weighted = torch.bmm(a, encoder_outputs)\n",
        "        \n",
        "        #weighted = [batch size, 1, enc hid dim * 2]\n",
        "        \n",
        "        weighted = weighted.permute(1, 0, 2)\n",
        "        \n",
        "        #weighted = [1, batch size, enc hid dim * 2]\n",
        "        \n",
        "        rnn_input = torch.cat((embedded, weighted), dim = 2)\n",
        "        \n",
        "        #rnn_input = [1, batch size, (enc hid dim * 2) + emb dim]\n",
        "            \n",
        "        output, hidden = self.rnn(rnn_input, hidden.unsqueeze(0))\n",
        "        \n",
        "        #output = [seq len, batch size, dec hid dim * n directions]\n",
        "        #hidden = [n layers * n directions, batch size, dec hid dim]\n",
        "        \n",
        "        #seq len, n layers and n directions will always be 1 in this decoder, therefore:\n",
        "        #output = [1, batch size, dec hid dim]\n",
        "        #hidden = [1, batch size, dec hid dim]\n",
        "        #this also means that output == hidden\n",
        "        assert (output == hidden).all()\n",
        "        \n",
        "        embedded = embedded.squeeze(0)\n",
        "        output = output.squeeze(0)\n",
        "        weighted = weighted.squeeze(0)\n",
        "        \n",
        "        prediction = self.fc_out(torch.cat((output, weighted, embedded), dim = 1))\n",
        "        \n",
        "        #prediction = [batch size, output dim]\n",
        "        \n",
        "        return prediction, hidden.squeeze(0)"
      ],
      "execution_count": null,
      "outputs": []
    },
    {
      "cell_type": "code",
      "metadata": {
        "id": "3u4fjg1_cX0X"
      },
      "source": [
        "#model class (encoder + decoder)\n",
        "class Seq2Seq(nn.Module):\n",
        "    def __init__(self, encoder, decoder, device):\n",
        "        super().__init__()\n",
        "        \n",
        "        self.encoder = encoder\n",
        "        self.decoder = decoder\n",
        "        self.device = device\n",
        "        \n",
        "    def forward(self, src, trg , teacher_forcing_ratio = 0.5 , test_stage = False):\n",
        "        \n",
        "        #src = [src len, batch size]\n",
        "        #trg = [trg len, batch size]\n",
        "        #teacher_forcing_ratio is probability to use teacher forcing\n",
        "        #e.g. if teacher_forcing_ratio is 0.75 we use teacher forcing 75% of the time\n",
        "        \n",
        "        batch_size = src.shape[1]\n",
        "        trg_vocab_size = self.decoder.output_dim\n",
        "        \n",
        "        #tensor to store decoder outputs\n",
        "        if( test_stage ):\n",
        "          outputs = torch.zeros(max_sent_length, batch_size, trg_vocab_size).to(self.device)\n",
        "        else:\n",
        "          trg_len = trg.shape[0]\n",
        "          outputs = torch.zeros(trg_len, batch_size, trg_vocab_size).to(self.device)\n",
        "        \n",
        "        #encoder_outputs is all hidden states of the input sequence, back and forwards\n",
        "        #hidden is the final forward and backward hidden states, passed through a linear layer\n",
        "        encoder_outputs, hidden = self.encoder(src)\n",
        "\n",
        "        if( test_stage ):\n",
        "            input = torch.from_numpy( np.array([ vocab_to_int_src[ \"start\" ]  ]) ).view(batch_size).to(device)\n",
        "            for t in range(1, max_sent_length ):\n",
        "            \n",
        "              #insert input token embedding, previous hidden state and all encoder hidden states\n",
        "              #receive output tensor (predictions) and new hidden state\n",
        "              output, hidden = self.decoder(input, hidden, encoder_outputs)\n",
        "              \n",
        "              #place predictions in a tensor holding predictions for each token\n",
        "              outputs[t] = output\n",
        "              \n",
        "              #decide if we are going to use teacher forcing or not\n",
        "              teacher_force = random.random() < teacher_forcing_ratio\n",
        "              \n",
        "              #get the highest predicted token from our predictions\n",
        "              top1 = output.argmax(1) \n",
        "              \n",
        "              #if teacher forcing, use actual next token as next input\n",
        "              #if not, use predicted token\n",
        "              input = trg[t] if teacher_force else top1\n",
        "\n",
        "              i_word = int_to_vocab_trg[top1.detach().cpu().numpy()[0]]\n",
        "\n",
        "              if(i_word == \"END\" ):\n",
        "                break\n",
        "\n",
        "            return outputs\n",
        "\n",
        "        else:\n",
        "            #first input to the decoder is the <sos> tokens\n",
        "            input = trg[0,:]\n",
        "\n",
        "            for t in range(1, trg_len):\n",
        "                \n",
        "                #insert input token embedding, previous hidden state and all encoder hidden states\n",
        "                #receive output tensor (predictions) and new hidden state\n",
        "                output, hidden = self.decoder(input, hidden, encoder_outputs)\n",
        "                \n",
        "                #place predictions in a tensor holding predictions for each token\n",
        "                outputs[t] = output\n",
        "                \n",
        "                #decide if we are going to use teacher forcing or not\n",
        "                teacher_force = random.random() < teacher_forcing_ratio\n",
        "                \n",
        "                #get the highest predicted token from our predictions\n",
        "                top1 = output.argmax(1) \n",
        "                \n",
        "                #if teacher forcing, use actual next token as next input\n",
        "                #if not, use predicted token\n",
        "                input = trg[t] if teacher_force else top1\n",
        "\n",
        "            return outputs"
      ],
      "execution_count": null,
      "outputs": []
    },
    {
      "cell_type": "code",
      "metadata": {
        "id": "MIyNTAZm2DYP"
      },
      "source": [
        "#hyperparams\n",
        "INPUT_DIM = len( vocab_to_int_src )\n",
        "OUTPUT_DIM = len( vocab_to_int_trg )\n",
        "ENC_EMB_DIM = 300\n",
        "DEC_EMB_DIM = 300\n",
        "ENC_HID_DIM = 512\n",
        "DEC_HID_DIM = 512\n",
        "ENC_DROPOUT = 0.5\n",
        "DEC_DROPOUT = 0.5\n",
        "\n",
        "attn = Attention(ENC_HID_DIM, DEC_HID_DIM)\n",
        "enc = Encoder(INPUT_DIM, ENC_EMB_DIM, ENC_HID_DIM, DEC_HID_DIM, ENC_DROPOUT)\n",
        "dec = Decoder(OUTPUT_DIM, DEC_EMB_DIM, ENC_HID_DIM, DEC_HID_DIM, DEC_DROPOUT, attn)\n",
        "\n",
        "model = Seq2Seq(enc, dec, device).to(device)"
      ],
      "execution_count": null,
      "outputs": []
    },
    {
      "cell_type": "code",
      "metadata": {
        "id": "WUwOGweo9kqC",
        "colab": {
          "base_uri": "https://localhost:8080/"
        },
        "outputId": "1cb19db2-0297-4dad-8fcb-cf828a36993d"
      },
      "source": [
        "#initialise model weights\n",
        "def init_weights(m):\n",
        "    for name, param in m.named_parameters():\n",
        "        if 'weight' in name:\n",
        "            nn.init.normal_(param.data, mean=0, std=0.01)\n",
        "        else:\n",
        "            nn.init.constant_(param.data, 0)\n",
        "            \n",
        "model.apply(init_weights)"
      ],
      "execution_count": null,
      "outputs": [
        {
          "output_type": "execute_result",
          "data": {
            "text/plain": [
              "Seq2Seq(\n",
              "  (encoder): Encoder(\n",
              "    (embedding): Embedding(4931, 300)\n",
              "    (rnn): GRU(300, 512, bidirectional=True)\n",
              "    (fc): Linear(in_features=1024, out_features=512, bias=True)\n",
              "    (dropout): Dropout(p=0.5, inplace=False)\n",
              "  )\n",
              "  (decoder): Decoder(\n",
              "    (attention): Attention(\n",
              "      (attn): Linear(in_features=1536, out_features=512, bias=True)\n",
              "      (v): Linear(in_features=512, out_features=1, bias=False)\n",
              "    )\n",
              "    (embedding): Embedding(5759, 300)\n",
              "    (rnn): GRU(1324, 512)\n",
              "    (fc_out): Linear(in_features=1836, out_features=5759, bias=True)\n",
              "    (dropout): Dropout(p=0.5, inplace=False)\n",
              "  )\n",
              ")"
            ]
          },
          "metadata": {
            "tags": []
          },
          "execution_count": 25
        }
      ]
    },
    {
      "cell_type": "code",
      "metadata": {
        "id": "w3Kk1QET9mmZ",
        "colab": {
          "base_uri": "https://localhost:8080/"
        },
        "outputId": "9ab54edb-98d7-4499-daf5-9e43d04209ec"
      },
      "source": [
        "#display number of trainable parameters in the model\n",
        "def count_parameters(model):\n",
        "    return sum(p.numel() for p in model.parameters() if p.requires_grad)\n",
        "\n",
        "print(f'The model has {count_parameters(model):,} trainable parameters')"
      ],
      "execution_count": null,
      "outputs": [
        {
          "output_type": "stream",
          "text": [
            "The model has 20,422,315 trainable parameters\n"
          ],
          "name": "stdout"
        }
      ]
    },
    {
      "cell_type": "code",
      "metadata": {
        "id": "cbnEIWhz9q43"
      },
      "source": [
        "#define optimizer\n",
        "optimizer = optim.Adam(model.parameters() , lr=0.001)"
      ],
      "execution_count": null,
      "outputs": []
    },
    {
      "cell_type": "code",
      "metadata": {
        "id": "lYc2ILSK9tue"
      },
      "source": [
        "#define loss function\n",
        "criterion = nn.CrossEntropyLoss(ignore_index = 0)"
      ],
      "execution_count": null,
      "outputs": []
    },
    {
      "cell_type": "code",
      "metadata": {
        "id": "XT8RsjUvbT9q"
      },
      "source": [
        "#train function\n",
        "def train(model, iterator, optimizer, criterion, clip):\n",
        "    \n",
        "    model.train()\n",
        "    \n",
        "    epoch_loss = 0\n",
        "    \n",
        "    for i, ( src , trg ) in enumerate(iterator):\n",
        "        \n",
        "        \n",
        "        optimizer.zero_grad()\n",
        "        # move to device\n",
        "        src , trg = src.to(device) , trg.to(device)\n",
        "        \n",
        "        output = model(src, trg)\n",
        "        \n",
        "        # trg = [trg len, batch size]\n",
        "        # output = [trg len, batch size, output dim]\n",
        "        \n",
        "        output_dim = output.shape[-1]\n",
        "        \n",
        "        output = output[1:].view(-1, output_dim)\n",
        "        trg = trg[1:].view(-1)\n",
        "        \n",
        "        #trg = [(trg len - 1) * batch size]\n",
        "        #output = [(trg len - 1) * batch size, output dim]\n",
        "        \n",
        "        loss = criterion(output, trg)\n",
        "        \n",
        "        loss.backward()\n",
        "        \n",
        "        torch.nn.utils.clip_grad_norm_(model.parameters(), clip)\n",
        "        \n",
        "        optimizer.step()\n",
        "        \n",
        "        epoch_loss += loss.item()\n",
        "        \n",
        "    return epoch_loss / len(iterator)"
      ],
      "execution_count": null,
      "outputs": []
    },
    {
      "cell_type": "code",
      "metadata": {
        "id": "dy81A_5AbWg9"
      },
      "source": [
        "#evaluation\n",
        "def evaluate(model, iterator, criterion):\n",
        "    \n",
        "    model.eval()\n",
        "    \n",
        "    epoch_loss = 0\n",
        "    \n",
        "    with torch.no_grad():\n",
        "    \n",
        "        for i, (src , trg) in enumerate(iterator):\n",
        "\n",
        "            #move to device\n",
        "            src , trg = src.to(device) , trg.to(device)\n",
        "            output = model(src, trg, 0) #turn off teacher forcing\n",
        "\n",
        "            #trg = [trg len, batch size]\n",
        "            #output = [trg len, batch size, output dim]\n",
        "\n",
        "            output_dim = output.shape[-1]\n",
        "            \n",
        "            output = output[1:].view(-1, output_dim)\n",
        "            trg = trg[1:].view(-1)\n",
        "\n",
        "            #trg = [(trg len - 1) * batch size]\n",
        "            #output = [(trg len - 1) * batch size, output dim]\n",
        "\n",
        "            loss = criterion(output, trg)\n",
        "\n",
        "            epoch_loss += loss.item()\n",
        "        \n",
        "    return epoch_loss / len(iterator)"
      ],
      "execution_count": null,
      "outputs": []
    },
    {
      "cell_type": "code",
      "metadata": {
        "id": "KNZ9OHiuAASv"
      },
      "source": [
        "def epoch_time(start_time, end_time):\n",
        "    elapsed_time = end_time - start_time\n",
        "    elapsed_mins = int(elapsed_time / 60)\n",
        "    elapsed_secs = int(elapsed_time - (elapsed_mins * 60))\n",
        "    return elapsed_mins, elapsed_secs"
      ],
      "execution_count": null,
      "outputs": []
    },
    {
      "cell_type": "code",
      "metadata": {
        "id": "yCcN2oWnAGPb",
        "colab": {
          "base_uri": "https://localhost:8080/"
        },
        "outputId": "7f016133-454b-4f00-a4de-3fa7155a33b8"
      },
      "source": [
        "#training loop\n",
        "\n",
        "N_EPOCHS = 100\n",
        "CLIP = 5\n",
        "\n",
        "best_valid_loss = float('inf')\n",
        "\n",
        "print(\"Training the model...\")\n",
        "tr = {'loss': [], 'PPL': []}\n",
        "val = {'loss': [], 'PPL': []}\n",
        "for epoch in range(N_EPOCHS):\n",
        "    \n",
        "    start_time = time.time()\n",
        "    \n",
        "    train_loss = train(model, train_loader , optimizer, criterion, CLIP)\n",
        "    valid_loss = evaluate(model, valid_loader , criterion)\n",
        "    \n",
        "    end_time = time.time()\n",
        "    \n",
        "    epoch_mins, epoch_secs = epoch_time(start_time, end_time)\n",
        "    \n",
        "    if valid_loss < best_valid_loss:\n",
        "        best_valid_loss = valid_loss\n",
        "        torch.save(model.state_dict(), 'drive/MyDrive/tut3-model-1a.pt')\n",
        "\n",
        "    # store logs\n",
        "    tr['loss'].append(train_loss)\n",
        "    tr['PPL'].append(math.exp(train_loss))\n",
        "    val['loss'].append(valid_loss)\n",
        "    val['PPL'].append(math.exp(valid_loss))\n",
        "    \n",
        "    if( (epoch+1)%5 == 0 ):\n",
        "      print(f'Epoch: {epoch+1:02} | Time: {epoch_mins}m {epoch_secs}s')\n",
        "      print(f'\\tTrain Loss: {train_loss:.3f} | Train PPL: {math.exp(train_loss):7.3f}')\n",
        "      print(f'\\t Val. Loss: {valid_loss:.3f} |  Val. PPL: {math.exp(valid_loss):7.3f}')"
      ],
      "execution_count": null,
      "outputs": [
        {
          "output_type": "stream",
          "text": [
            "Training the model...\n",
            "Epoch: 05 | Time: 0m 10s\n",
            "\tTrain Loss: 6.047 | Train PPL: 422.730\n",
            "\t Val. Loss: 6.123 |  Val. PPL: 456.221\n",
            "Epoch: 10 | Time: 0m 10s\n",
            "\tTrain Loss: 6.002 | Train PPL: 404.422\n",
            "\t Val. Loss: 6.126 |  Val. PPL: 457.520\n",
            "Epoch: 15 | Time: 0m 10s\n",
            "\tTrain Loss: 5.968 | Train PPL: 390.867\n",
            "\t Val. Loss: 6.120 |  Val. PPL: 454.918\n",
            "Epoch: 20 | Time: 0m 10s\n",
            "\tTrain Loss: 5.947 | Train PPL: 382.435\n",
            "\t Val. Loss: 6.124 |  Val. PPL: 456.461\n",
            "Epoch: 25 | Time: 0m 10s\n",
            "\tTrain Loss: 5.908 | Train PPL: 367.964\n",
            "\t Val. Loss: 6.085 |  Val. PPL: 439.128\n",
            "Epoch: 30 | Time: 0m 10s\n",
            "\tTrain Loss: 5.856 | Train PPL: 349.348\n",
            "\t Val. Loss: 6.046 |  Val. PPL: 422.367\n",
            "Epoch: 35 | Time: 0m 10s\n",
            "\tTrain Loss: 5.797 | Train PPL: 329.210\n",
            "\t Val. Loss: 6.040 |  Val. PPL: 419.792\n",
            "Epoch: 40 | Time: 0m 10s\n",
            "\tTrain Loss: 5.742 | Train PPL: 311.603\n",
            "\t Val. Loss: 6.028 |  Val. PPL: 414.834\n",
            "Epoch: 45 | Time: 0m 10s\n",
            "\tTrain Loss: 5.647 | Train PPL: 283.300\n",
            "\t Val. Loss: 6.020 |  Val. PPL: 411.415\n",
            "Epoch: 50 | Time: 0m 10s\n",
            "\tTrain Loss: 5.542 | Train PPL: 255.215\n",
            "\t Val. Loss: 5.942 |  Val. PPL: 380.685\n",
            "Epoch: 55 | Time: 0m 10s\n",
            "\tTrain Loss: 5.308 | Train PPL: 201.896\n",
            "\t Val. Loss: 5.850 |  Val. PPL: 347.145\n",
            "Epoch: 60 | Time: 0m 10s\n",
            "\tTrain Loss: 5.052 | Train PPL: 156.319\n",
            "\t Val. Loss: 5.621 |  Val. PPL: 276.066\n",
            "Epoch: 65 | Time: 0m 10s\n",
            "\tTrain Loss: 4.873 | Train PPL: 130.712\n",
            "\t Val. Loss: 5.387 |  Val. PPL: 218.491\n",
            "Epoch: 70 | Time: 0m 10s\n",
            "\tTrain Loss: 4.459 | Train PPL:  86.394\n",
            "\t Val. Loss: 5.232 |  Val. PPL: 187.227\n",
            "Epoch: 75 | Time: 0m 10s\n",
            "\tTrain Loss: 4.329 | Train PPL:  75.859\n",
            "\t Val. Loss: 5.200 |  Val. PPL: 181.357\n",
            "Epoch: 80 | Time: 0m 10s\n",
            "\tTrain Loss: 4.100 | Train PPL:  60.358\n",
            "\t Val. Loss: 5.150 |  Val. PPL: 172.482\n",
            "Epoch: 85 | Time: 0m 10s\n",
            "\tTrain Loss: 3.911 | Train PPL:  49.933\n",
            "\t Val. Loss: 4.991 |  Val. PPL: 147.141\n",
            "Epoch: 90 | Time: 0m 10s\n",
            "\tTrain Loss: 3.745 | Train PPL:  42.325\n",
            "\t Val. Loss: 4.970 |  Val. PPL: 144.096\n",
            "Epoch: 95 | Time: 0m 10s\n",
            "\tTrain Loss: 3.580 | Train PPL:  35.865\n",
            "\t Val. Loss: 5.016 |  Val. PPL: 150.745\n",
            "Epoch: 100 | Time: 0m 10s\n",
            "\tTrain Loss: 3.611 | Train PPL:  37.018\n",
            "\t Val. Loss: 5.026 |  Val. PPL: 152.271\n"
          ],
          "name": "stdout"
        }
      ]
    },
    {
      "cell_type": "code",
      "metadata": {
        "id": "O7ps576JSxu9",
        "colab": {
          "base_uri": "https://localhost:8080/",
          "height": 479
        },
        "outputId": "853df439-9170-4b0e-a613-131b1e6c6c32"
      },
      "source": [
        "#plot PPL curves for train and validation set\n",
        "\n",
        "fig = plt.figure(figsize=(10,7))\n",
        "\n",
        "\n",
        "y1 = tr['PPL']\n",
        "y2 = val['PPL']\n",
        "\n",
        "plt.plot(y1, \"-b\", label=\"Train perplexity\")\n",
        "plt.plot(y2, \"-r\", label=\"Validation perplexity\")\n",
        "plt.legend(loc=\"upper right\")\n",
        "plt.ylim(0, 900)\n",
        "plt.ylabel('Perplexity', fontsize=12)\n",
        "plt.xlabel('Epochs', fontsize=12)\n",
        "plt.title(\"Train and validation perplexity \\n GRU with attention (no pre-training) - Non-empathetic response input\", fontsize = 14)\n",
        "\n",
        "fig.savefig(\"1a-ppl.pdf\")\n",
        "plt.show()\n",
        "\n"
      ],
      "execution_count": null,
      "outputs": [
        {
          "output_type": "display_data",
          "data": {
            "image/png": "[encoded data removed]",
            "text/plain": [
              "<Figure size 720x504 with 1 Axes>"
            ]
          },
          "metadata": {
            "tags": [],
            "needs_background": "light"
          }
        }
      ]
    },
    {
      "cell_type": "code",
      "metadata": {
        "colab": {
          "base_uri": "https://localhost:8080/"
        },
        "id": "NaesdjdRmzK4",
        "outputId": "80c153fc-a364-49d1-b550-8f99a4c50091"
      },
      "source": [
        "model.load_state_dict(torch.load('drive/MyDrive/tut3-model-1a.pt'))\n",
        "\n",
        "test_loss_1a = evaluate(model, test_loader , criterion)\n",
        "\n",
        "print(f'| Test Loss: {test_loss_1a:.3f} | Test PPL: {math.exp(test_loss_1a):7.3f} |')"
      ],
      "execution_count": null,
      "outputs": [
        {
          "output_type": "stream",
          "text": [
            "| Test Loss: 5.484 | Test PPL: 240.774 |\n"
          ],
          "name": "stdout"
        }
      ]
    },
    {
      "cell_type": "code",
      "metadata": {
        "id": "D9RKA5SGwFQu"
      },
      "source": [
        "#define functions to do a final visual evaluation on a subset of the test set\n",
        "\n",
        "def int_2_words( i_text , vocab ) :\n",
        "\n",
        "  text_list = []\n",
        "  for i_idx in i_text :\n",
        "    i_word =  vocab[i_idx] \n",
        "\n",
        "    if(i_word=='<pad>'):\n",
        "      continue\n",
        "\n",
        "    text_list.append( i_word )\n",
        "\n",
        "    if(i_word==\"END\"):\n",
        "      break\n",
        "\n",
        "  text=\" \".join(text_list)\n",
        "\n",
        "  return text\n",
        "  \n",
        "\n",
        "def generate_sentence(model, iterator):\n",
        "    \n",
        "    model.eval()\n",
        "    \n",
        "    epoch_loss = 0\n",
        "\n",
        "    pred_trg_pairs = []\n",
        "\n",
        "    with torch.no_grad():\n",
        "    \n",
        "        for i, (src , trg) in enumerate(iterator):\n",
        "\n",
        "            #move to device\n",
        "            src , trg = src.to(device) , trg.to(device)\n",
        "            output = model(src, trg, 0) #turn off teacher forcing\n",
        "\n",
        "            #trg = [trg len, batch size]\n",
        "            #output = [trg len, batch size, output dim]\n",
        "\n",
        "            output_dim = output.shape[-1]\n",
        "            \n",
        "            output = output[:,1:]\n",
        "            trg = trg[:,1:]\n",
        "\n",
        "            output = output.detach().cpu().numpy()\n",
        "            trg = trg.detach().cpu().numpy()\n",
        "            pred= np.argmax( output , axis = -1 )\n",
        "\n",
        "            for i_pred , i_trg in zip( pred , trg  ):\n",
        "\n",
        "              trg_sen = int_2_words( i_trg , int_to_vocab_trg  )\n",
        "              pred_sen = int_2_words( i_pred , int_to_vocab_trg )\n",
        "\n",
        "              print( \"Target Sentence : {} \\n\".format( trg_sen )  )\n",
        "              print( \"Predicted Sentence : {} \\n\".format( pred_sen )  )\n",
        "\n",
        "            break\n",
        "      "
      ],
      "execution_count": null,
      "outputs": []
    },
    {
      "cell_type": "code",
      "metadata": {
        "id": "kwoJZ6-KQIIK",
        "colab": {
          "base_uri": "https://localhost:8080/"
        },
        "outputId": "dab3e4d6-1578-444a-f05c-40bee324b9b6"
      },
      "source": [
        "#test model on test set\n",
        "generate_sentence(model, test_loader)"
      ],
      "execution_count": null,
      "outputs": [
        {
          "output_type": "stream",
          "text": [
            "Target Sentence : Wow . It must have meant so much to give yourself to a relationship where that loss hurt this bad . Holy crap that s quite the level of commitment ! Well that is something to hang your hat on . You have that in you right ? You did it once before . Yea shit hurt right now but you have it in you ! ! .I cant imagine how happy you will be when you find the next one . . .maybe one that fit the possibility of a promising relationship ? Well I think you have a good base here . END \n",
            "\n",
            "Predicted Sentence :  \n",
            "\n",
            "Target Sentence : I feel only bad thing too . I can laugh and joke with my buddy but it just feel hollow and empty on the inside . I even come to think that I often time smile and laugh cause I know a normal person would do this and I did it once so to don t look like a freak I do it at the right time . But I m never excited these day . I can t even remember the last time I wa . Even when I decided to lose my virginity to a prostitute when I wa around I had some concern but I wasn t excited . Birthdays and party I knew I couldn t wait for some when I wa in my early twenty . Nowadays I actually have to push myself to go out and meet friend even though I absolutly KNOW \n",
            "\n",
            "Predicted Sentence : Sometimes person would do this and I did it once so to don t look like a I I do it at the right time . But I m never excited these day . I can t even remember the last time I wa . Even when I decided to lose my . to a . when I wa around I had some u but I wasn t excited . I and party I knew I couldn t wait for some when I wa in my . . . . I actually have to push myself to go out and everything friend even though I . would it will be a nice evening . So . I can t give you any advice . END \n",
            "\n",
            "Target Sentence : I know . Exactly how I feel . If I can barely survive now never make it . END \n",
            "\n",
            "Predicted Sentence : I know . I . I I . I . . . I . . . . . I I . . . . . . . I . . . . . . . I . . . . . . . . . . . . . . . . . . . . . . . . . . . . . . . . . . . . . . . I . . . . . . . . . . . . . . . . . . . . . . . . . . . . . . . . . . . . . . . . . . . . . . . . . . . . . . . . . . . . . . . . . . . . . . . . . \n",
            "\n",
            "Target Sentence : I ve come to help you . But I can t do much . Encouragement they re all lie . I can understand how you feel because I am exactly in your shoe . If I kill myself I m scared that I ll go to hell . So I m stuck . But I can assure you that you are not alone . And if you want you just got to hold on . END \n",
            "\n",
            "Predicted Sentence : I ve come to help you . But I can . you that you are not alone . And if you want you just got to known on . I . . I . I I . . I . . I . . . I . I I . . . . . . . . . . . . . . . . I . . . . . . . I . I . . . . . . . . . . . . . . . . . . . . . . . . . . . . . . . . . . . . . . . . . . . . . . . . . . . . . . . . . . . . . . . . . . . . . . . . . \n",
            "\n",
            "Target Sentence : Nah man What you re saying is actually quite common of someone who is good at art . Most people with a high degree or artistic talent are really good at recognizing good art but get frustrated because their own art doesn t live up to the crazy high standard they ve set for themselves . Malcom Gladwell suggests that it take hour to gain mastery in something . Art is a skill just like anything else . I think a lot of people get fooled into this You either have it or you don t mentality when it come to creative art . It s just not the case . I think it s more important that you actually have an obsession and something that you want to be good at ! Most people don t have that . Just keep practicing and never give up . If \n",
            "\n",
            "Predicted Sentence : I man What you re saying is actually quite common of someone who is good at rich . You either have it or you don t . when it come to creative art . It s just not the case . I think it s more important that you actually have an . and something that you want to be good at ! Most people don t have that . Just keep practicing and never give up . If you have the drive you will succeed eventually . You ll get better and better every day . END \n",
            "\n",
            "Target Sentence : I swear if people didn t have family there would be a lot le depression in this world . I guess it really depends on the type of family stress . Can you realistically put some distance between yourself and the stress ? Or is it something that you have to resolve ? END \n",
            "\n",
            "Predicted Sentence : I blip if people didn t have family there would be a lot le depression in this world . I guess it really to on the type of family stress . Can you . put some distance between yourself and the stress ? Or is it something that you have to . ? END \n",
            "\n",
            "Target Sentence : Have you considered speaking with a therapist ? Do you know why you feel this way ? END \n",
            "\n",
            "Predicted Sentence : Have you considered into with a therapist ? Do you know why you feel this way ? END \n",
            "\n",
            "Target Sentence : Often time people take laughter a a cue that what doing is okay . I do the same thing whenever someone pick on me even though it hurt inside for all of u . let other opinion influence how you see yourself a hard a that can be . lt END \n",
            "\n",
            "Predicted Sentence : I time people take . a a . that what doing is constructive . let other opinion something how you see yourself a hard a that can be . . I . . . . . . . . . . . . . . . . . . . . . . . . . . . . . . . . . . . . . . . . . . . . . . . . . . . . . . . . . . . . . . . . . . . . . . . . . . . . . . . . . . . . . . . . . . . . . . . . . . . . . . . . . . . . . . . . . . . . . . \n",
            "\n",
            "Target Sentence : quite a few thing ive noticed for myself . ill over simplify my thought process to get the point across . Ill list them quickly . I thought that if I could go through physical pain then I can go through mental pain . A physical scar is easier to understand that an emotional one . Having to tend to my wound to stop the bleeding and cover them up distracted me from what I really wanted to tend to and cover up . There wa a couple time where I self harmed because my thought were too overwhelming while I wa trying to fall asleep . Afterwards I would spend some time in the bathroom alone taking care of my bleeding and by the time it wa all finished I forgot what I wa thinking about . Self harm wa an effort to try and beat life at \n",
            "\n",
            "Predicted Sentence : quite a few thing ive occasionally for myself . ill over I my thought process to get the point . . Ill list them quickly . I thought that if I could go through I pain then I can go through mental pain . A I mad is easier to understand that an emotional one . great to subreddit to my the to stop the you and I them up . me from what I really felt to subreddit to and I up . There wa a couple time where I self . because my thought were too overwhelming while I wa trying to fall and . . I would happiness some time in the bathroom alone taking care of my you and by the time it wa all finished I . what I wa thinking about . Self harm wa an effort to try and awful life at \n",
            "\n",
            "Target Sentence : By any chance do you think you re in a loop . Junk food can make you depressed . And being depressed probably make you eat more junk food ? For a while that wa my problem too . Even if it just random ill probably binge and feel bad later . Only to indulge in more later to try to cheer up . END \n",
            "\n",
            "Predicted Sentence : By any chance do you think you re in a just . By . can make you depressed . And being depressed probably make you eat more make . ? I . . . . . . . . . . . . . . . . . . . . . . . . . . . . . . . . . . . . . . . . . . . . . . . . . . . . . . . . . . . . . . . . . . . . . . . . . . . . . . . . . . . . . . . . . . . . . . . . . . . . . . . . . . . . . . . . . . . . . . \n",
            "\n",
            "Target Sentence : I m sorry you feel like this . My daughter ha tried to kill herself time and I pretty much have been mentally preparing myself for the worst for the last month bc she wa so so depressed and non responsive to med therapy etc . Then the craziest thing happened . . .she got involved in an old hobby met new people she had stuff in common with and just minute ago told me that she is going out to lunch with someone from that group . My point is . . .things can change . I hope thing can change for you soon . END \n",
            "\n",
            "Predicted Sentence : I m sorry you feel like this . My point is . . that can change . I hope thing can change for you soon . I . . . I . . . . . . . . . . . . . . . . . . . . . . . . . . . . . . . . . . . . . . . . . . . . . . . . . . . . . . . . . . . . . . . . . . . . . . . . . . . . . . . . . . . . . . . . . . . . . . . . . . . . . . . . . . . . . . . . . . . . . . \n",
            "\n",
            "Target Sentence : Here is the thing . If you open up to these people and they through it in your face right after then you know they aren t real friend . A real friend is willing to sit through people problem for hour . I once sat and chatted with a friend about his issue for some odd hour hour just talking till am never gave up on the conversation he did the same for me a while later down the road when I wa having problem . People who aren t willing to talk to you and help you aren t worth keeping around . Believe me there is a friend out there who is willing to listen . I guess do keep in mind that not everyone ha infinite patient and ha their own problem . good luck out there man hope thing go well for you . \n",
            "\n",
            "Predicted Sentence : Here is the thing . If you open up to these people and they through it in your multiple right after then you know they aren t real friend . A real friend is D to sit through people problem for hour . People who aren t attachment to talk to you and help you aren t worth keeping around . . me there is a friend out there who is attachment to listen . I guess do keep in mind that not everyone ha . patient and ha their own problem . good luck out there man hope thing go well for you . This isn t to say you can t have acquaintance people you hang out with but never get deep END \n",
            "\n",
            "Target Sentence : Hey buddy you are not alone . I spent a day where I literally didn t so much a sit up in bed a couple of week ago . Didn t eat or drink anything so I didn t need the bathroom which wa good . I m not at a point where I have any advice to give or anything but maybe you can find some comfort knowing that other people feel the same a you . END \n",
            "\n",
            "Predicted Sentence : Hey buddy you are arriving alone . I m not at a point where I have any advice to give or anything but maybe you can find some comfort I that other people feel the same a you . END \n",
            "\n",
            "Target Sentence : Me too I ll help others plant tree or something .Perhaps it others happiness that will make me a bit happy too END \n",
            "\n",
            "Predicted Sentence : Me too I ll help others plant or or something . it others happiness that will make me a bit happy too I . . . . . . . . . . . . . . . . . . . . . . . . . . . . . . . . . . . . . . . . . . . . . . . . . . . . . . . . . . . . . . . . . . . . . . . . . . . . . . . . . . . . . . . . . . . . . . . . . . . . . . . . . . . . . . . . . . . . . . . . . . . . . . \n",
            "\n",
            "Target Sentence : I m kind of the same way . My life suck I see no light in the proverbial tunnel but I rather be alive to see how the world turn out than leave my life for nothingness . Disclaimer I believe that there s no life after death . If you ve ever been unconscious you know what I m talking about one moment you re awake the next you wake up somewhere else with no sense of time gaining passed . That but forever is death to me there s simply nothing it just end completely . I rather suffer than cease to exist . END \n",
            "\n",
            "Predicted Sentence : I I believe that there s no life after death . If you ve ever been unconscious you know what I m talking about one moment you re awake the next you wake up somewhere else with no sense of time gaining so . That but forever is death to me there s confident nothing it just end completely . I rather suffer than to to exist . END \n",
            "\n",
            "Target Sentence : I feel exately the same and killing me Sorry for bad english END \n",
            "\n",
            "Predicted Sentence : Sorry for bad I I . . . . . . I I . . . . . I I . . I . . . . . . . . . . . . . . . . . . . . . . . . . . . . . . . . . . . . . . . . . . . . . . . . . . . . . . . . . . . . . . . . . . . . . . . . . . . . . . . . . . . . . . . . . . . . . . . . . . . . . . . . . . . . . . . . . . . . . . . . . . . . . . \n",
            "\n",
            "Target Sentence : Do you ? Or are you still here asking for help and gathered the attention of your fellow Redditors and they are insisting they want to listen to you but you keep denying them . I put it any other selfish . I used to give myself any excuse not to see my friend or family but it wa all debunked by the question they tell you themselves they felt that what I can tell you really need to work on your negative speech pattern . All or nothing thinking hopelessness knee jerk dismissal these are all habit that depressed people make in their speech that perpetuate their own misery . It take conscious effort to recognize our speech pattern a poisonous and slowly change not care you the one suffering . Recognize that your speech is under your control and that cry for help can just a easily \n",
            "\n",
            "Predicted Sentence : Do you ? Or are you still here antidepressant for help and . the return of your . I and they are . they want to listen to you but you keep . them . I put it any other man . All or nothing thinking hopelessness . my . these are all habit that depressed people make in their . that . their own misery . It take impersonal effort to is our . have a . and slowly change not care you the one suffering . . that your . is under your control and that cry for help can just a memory become . out . We love you but loving u back involves making an effort not to give your worst . air time . END \n",
            "\n",
            "Target Sentence : I hate that I usually succumb to the crippling overwhelm that often accompanies me trying to deal with the seemingly insurmountable logistically tangible financial and medical thing I must deal with . . . . . . a the clock tick . . . . . END \n",
            "\n",
            "Predicted Sentence : I that often . me trying to deal with the seemingly I I . I and medical thing I at deal with . . . . . . a the I . . . . . . I . . . . . . . . . . . . I . . . . . . . . . . . . . . . . . . . . . . . . . . . . . . . . . . . . . . . . . . . . . . . . . . . . . . . . . . . . . . . . . . . . . . . . . . . . . . . . . . . . . . . . . . . . . . . . . . \n",
            "\n",
            "Target Sentence : I m sorry to hear how you re feeling right now and although everything you do at the moment may feel pointless there will come a time when your purpose will become apparent and everything will hopefully make sense . All I can really say right now is to strive on do the thing that make you happy and cherish the people that make you feel loved . I wish you a wonderful future OP and hope that one day everything will be better . END \n",
            "\n",
            "Predicted Sentence : and decision everything you do at the moment He feel how there will come a time when your Viktor will become . and everything will We make sense . All I can really say right now is to some on do the thing that make you happy and . the people that make I feel loved . I wish you a wonderful future OP and hope that one day everything will be better . END \n",
            "\n",
            "Target Sentence : I feel you . I feel life is too much and I rather die because my anxiety make me feel it s not worth to be alive . But then again I want to live because I m terrified of death . I just hate that fucking feeling man . You are not alone in this tho . END \n",
            "\n",
            "Predicted Sentence : You are not alone in this wa . I . . I I . I . to . I . . I I . . . . I . I I . I . . I . . . . . . . . . . . . . . . . . . . . . . . . . . . . . . . . . . . . . . . . . . . . . . . . . . . . . . . . . . . . . . . . . . . . . . . . . . . . . . . . . . . . . . . . . . . . . . . . . . . . . . . . . . . . . . . . . \n",
            "\n",
            "Target Sentence : I don t really think life is he ll but I don t understand the weird sadness or fear of death that people have . I ve known a few people who died . I wasn t sad at all . Everyone I know is going to die and one day I am going to die . Why is that sad ? END \n",
            "\n",
            "Predicted Sentence : I don t really think life is he ll but . Everyone I know is going to die and one day I am going to die . Why is that sad ? I . . . . . . . . . . . . . . . . . . . . you . . . . . you . . . . . . . . . . . . . . . . . . . . . . . . . . . . . . . . . . . . . . . . . . . . . . . . . . . . . . . . . . . . . . . . . . . . . . . . . . . . . . . . . . . . . . . . . \n",
            "\n",
            "Target Sentence : more often than not i end up giving a half truth . or i guess more accurately a partial truth . when i m with friend they make me feel good and forget about my shit show of a brain . so i answer with good ! or feelin great now ! because at the time thats how i feel . but mostly i leave out how i felt before seeing or talking to them . that may be wrong or decietful but i just don t like to burden my friend with this . especially those who can t handle my neuroatypicality . END \n",
            "\n",
            "Predicted Sentence : good ! or . great now ! because at the time thats how i feel . but mostly i leave out how i felt before seeing or talking to them . that may be wrong or . but i just don t like to burden my friend with this . especially those who . t handle my . . END \n",
            "\n",
            "Target Sentence : Bad insomnia is usually one of the first indicator of an oncoming episode . I truly wish I had hypersomnia though the few time I got it I wasn t rested whatsoever but I loved those little moment you have when you wake up and you can feel yourself drifting off to sleep . A feeling I ve felt rarely in my year struggle with insomnia alone . END \n",
            "\n",
            "Predicted Sentence : Bad insomnia is usually one of the first . of an I episode . I . . . I . . a . . to . . I . . . . I . . . . . . . . . . . . . . . . . . . . . . . . . . . . . . . . . . . . . . . . . . . . . . . . . . . . . . . . . . . . . . . . . . . . . . . . . . . . . . . . . . . . . . . . . . . . . . . . . . . . . . . . . . . . . . . . . . . . \n",
            "\n",
            "Target Sentence : Aye it is . I feel the same way I got hired month ago and wa depressed for year before that . I hate to admit this but some day I cry like the little bitch I am in the shower and on my drive to work . But guess what I haven t missed a single day of work aside from day vacation that I took scattered here and there . I have seriously one simple trick you go there no matter what don t give yourself a choice . The more you sit and wonder the harder it get . Funny thing my supervisor almost cried today at work and wa complaining in a high pitched voice xD . It kinda brightened my day LOL . END \n",
            "\n",
            "Predicted Sentence : I it is . . I have wrote one simple you you go there no I what don t give yourself a choice . . It classic I my day I . I . . . . . . . . . . . . . . . . . . . . can . . . . . END \n",
            "\n",
            "Target Sentence : what help me out is music talking to friend and my cat . however these are just distraction and they only make me feel better to a small extent . what do you like doing ? what do you personally find enjoyable ? ha your depression taken your interest away from you ? END \n",
            "\n",
            "Predicted Sentence : what do you like doing ? what do you die find enjoyable ? ha your depression taken your wa away from you ? I . . . I I . . . . . . . . . . . . . . . . . . . . . . . . . . . . . . . . . . . . . . . . . . . . . . . . . . . . . . . . . . . . . . . . . . . . . . . . . . . . . . . . . . . . . . . . . . . . . . . . . . . . . . . . . . . . . . . . . . . . . . . . \n",
            "\n",
            "Target Sentence : Hi there . No one on this earth is worthless even if you feel that way now . It get better thing change you will change . I browsed through your post history and noticed how young you are . The age you re in is a horrible hormonic stage . My son had the same feeling at that age range . I did too . Even if life feel overwhelming and lonely now this will pas eventually . Be patient . I have to go for a while but will get back to you with how my son learned to cope . Hang in there . A big motherly hug to you ! END \n",
            "\n",
            "Predicted Sentence : I there . No one on this earth is worthless even if you feel that way now . It get better thing change you will change . I browsed through your post history and noticed how young you are . Even if life feel overwhelming and lonely now this will pas eventually . . patient . I have to . for a while but will get back to you with how my son learned to cope . is . . . A big . hug to you ! END \n",
            "\n",
            "Target Sentence : Dont do it . You may feel like it now but it if you commit suicide you will lose the chance to feel better . Why do u feel bad right now ? END \n",
            "\n",
            "Predicted Sentence : what do to . You may feel like it now but it if you commit suicide you will lose the chance to feel better . END \n",
            "\n",
            "Target Sentence : That s some poetic bollock right there . Don t they have two number ? I ve seen that someplace . END \n",
            "\n",
            "Predicted Sentence : Hi s some . . right there . I ve I that I . I . I . I I . . . . I END \n",
            "\n",
            "Target Sentence : I understand how you feel . Being able to talk to someone without worrying about being judge . Knowing that person that you can feel comfortable with is something that many of u have a hard time finding . END \n",
            "\n",
            "Predicted Sentence : Dont able to talk to someone without getting about being do I to . I . . . . . . I . . I now . I easier . . you I . I . . easier . . . . END \n",
            "\n",
            "Target Sentence : That s hard . Especially if you re the type of person to post in this sub . Loving yourself is really difficult . But loving others is easier . And I do love you . When you love others I find it easier to love yourself . Even just saying the word and seeing it echoed back make me feel good . I hope I helped . END \n",
            "\n",
            "Predicted Sentence : That s hard . Especially if you re the type of person to post in this haha . I yourself is really difficult . But loving others is easier . When you love others I find it easier to love yourself . END \n",
            "\n",
            "Target Sentence : yeah my parent make me anxious to the point where i wont get food and water because i m afraid of running into them . glad to be moving out END \n",
            "\n",
            "Predicted Sentence : Being to be moving statement I I . . I I I I . I . END \n",
            "\n",
            "Target Sentence : Can you tell anyone ? Bad thought can be dangerous . END \n",
            "\n",
            "Predicted Sentence : That thought can be dangerous . I . I I I I I I I . I . I I . I I I I I I I I . . . I . I . . . . I . . . . . . . . . . . . . . . . . . . . . . . . . . . . . . . . . . . . . . . . . . . . . . . . . . . . . . . . . . . . . . . . . . . . . . . . . . . . . . . . . . . . . . . . . . . . . . . . . . . . . . . . . . . . . \n",
            "\n"
          ],
          "name": "stdout"
        }
      ]
    },
    {
      "cell_type": "markdown",
      "metadata": {
        "id": "hp1-y1vI-60b"
      },
      "source": [
        "##1b) Seeker post + non-empathetic response as input"
      ]
    },
    {
      "cell_type": "code",
      "metadata": {
        "id": "FQE5aMPXCGBI"
      },
      "source": [
        "#re-import csv data file into pandas dataframe\n",
        "data_df = pd.read_csv('drive/MyDrive/data.csv', encoding=\"latin1\")"
      ],
      "execution_count": null,
      "outputs": []
    },
    {
      "cell_type": "code",
      "metadata": {
        "id": "KE5wpNUn_Alf"
      },
      "source": [
        "#concatenate seeker_post and source. Concatenated sentences are separated by a SPLIT token\n",
        "data_df[\"new_source\"] = data_df[\"seeker_post\"] + ' SPLIT ' + data_df[\"source\"]\n",
        "\n",
        "#drop unnecessary columns, rename, reorder\n",
        "data_df = data_df.drop(['seeker_post', 'source'], axis=1)\n",
        "data_df.rename(columns = {'new_source' : 'source'}, inplace = True)\n",
        "data_df = data_df[['source', 'target']]"
      ],
      "execution_count": null,
      "outputs": []
    },
    {
      "cell_type": "code",
      "metadata": {
        "id": "-kmpun_ZDxFF"
      },
      "source": [
        "#add start and end-of-sentence tokens\n",
        "data_df['source'] = 'START ' + data_df['source'].astype(str) + ' END'\n",
        "data_df['target'] = 'START ' + data_df['target'].astype(str) + ' END'"
      ],
      "execution_count": null,
      "outputs": []
    },
    {
      "cell_type": "code",
      "metadata": {
        "id": "noYlY9jaD1kT"
      },
      "source": [
        "#define functions\n",
        "\n",
        "#convert unicode standard to ascii standard\n",
        "def unicodeToAscii(s):\n",
        "    return ''.join(\n",
        "        c for c in unicodedata.normalize('NFD', s)\n",
        "        if unicodedata.category(c) != 'Mn'\n",
        "    )\n",
        "\n",
        "#generate a word list from the corpus\n",
        "def vocab_gen( data_file ):\n",
        "\n",
        "  text_list=[]\n",
        "  word_list=[]\n",
        "\n",
        "  for idx , text in enumerate( data_file ):\n",
        "\n",
        "    text = unicodeToAscii(text.strip())\n",
        "    text = re.sub(r\"([.!?])\", r\" \\1\", text)\n",
        "    text = re.sub(r\"[^a-zA-Z.!?]+\", r\" \", text)\n",
        "    text=nltk.word_tokenize(text)\n",
        "    #text = [word for word in text if not word in set(stopwords.words(\"english\"))]\n",
        "    lemma=nltk.WordNetLemmatizer()\n",
        "    text=[lemma.lemmatize(word) for word in text]\n",
        "    word_list.extend(text)\n",
        "    text=\" \".join(text)\n",
        "    text_list.append(text)\n",
        "\n",
        "  return word_list\n",
        "\n",
        "word_src = vocab_gen( data_df.source )\n",
        "word_trg = vocab_gen( data_df.target )"
      ],
      "execution_count": null,
      "outputs": []
    },
    {
      "cell_type": "code",
      "metadata": {
        "id": "VkEPZ2DtD932"
      },
      "source": [
        "#count words and make vocab of unique tokens\n",
        "word_counter_src = Counter(word_src)\n",
        "vocab_src = sorted(word_counter_src  , key=word_counter_src.get, reverse=True)\n",
        "\n",
        "word_counter_trg = Counter(word_trg)\n",
        "vocab_trg = sorted(word_counter_trg  , key=word_counter_trg.get, reverse=True)"
      ],
      "execution_count": null,
      "outputs": []
    },
    {
      "cell_type": "code",
      "metadata": {
        "id": "l5Zp_JVNEBJh"
      },
      "source": [
        "#word to index and viceversa\n",
        "vocab_to_int_src = {word: ii   for ii, word in enumerate(vocab_src, 1)}\n",
        "int_to_vocab_src = {ii : word  for ii , word in enumerate(vocab_src , 1)}\n",
        "\n",
        "vocab_to_int_trg = {word: ii   for ii, word in enumerate(vocab_trg , 1)}\n",
        "int_to_vocab_trg = {ii : word  for ii , word in enumerate(vocab_trg , 1)}"
      ],
      "execution_count": null,
      "outputs": []
    },
    {
      "cell_type": "code",
      "metadata": {
        "id": "e8QT3U9xEFhO"
      },
      "source": [
        "#add pad token to vocab\n",
        "def update_vocab( vocab_to_int , int_to_vocab ):\n",
        "\n",
        "  vocab_to_int.update( {\"<pad>\":0} )\n",
        "  #vocab_to_int.update( {\"start\":1} )\n",
        "  #vocab_to_int.update( {\"end\":2} )\n",
        "\n",
        "  int_to_vocab.update( {0 : \"<pad>\"} )\n",
        "  #int_to_vocab.update( {1 : \"start\"} )\n",
        "  #int_to_vocab.update( {2 : \"end\"} )\n",
        "\n",
        "  return vocab_to_int , int_to_vocab"
      ],
      "execution_count": null,
      "outputs": []
    },
    {
      "cell_type": "code",
      "metadata": {
        "id": "wLUu2Cs_EL8X"
      },
      "source": [
        "vocab_to_int_src , int_to_vocab_src = update_vocab( vocab_to_int_src , int_to_vocab_src  )\n",
        "vocab_to_int_trg , int_to_vocab_trg = update_vocab( vocab_to_int_trg , int_to_vocab_trg  )"
      ],
      "execution_count": null,
      "outputs": []
    },
    {
      "cell_type": "code",
      "metadata": {
        "id": "aCZxusDPERi-"
      },
      "source": [
        "# extra preprocessing steps\n",
        "\n",
        "#parameters for the dataset and dataloader\n",
        "BATCH_SIZE = 32\n",
        "max_sent_length= 150\n",
        "\n",
        "def tokenize( i_text  , vocab ):\n",
        "\n",
        "    text = unicodeToAscii(i_text.strip())\n",
        "    text = re.sub(r\"([.!?])\", r\" \\1\", text)\n",
        "    text = re.sub(r\"[^a-zA-Z.!?]+\", r\" \", text)\n",
        "\n",
        "    text=nltk.word_tokenize(text)\n",
        "    #text = [word for word in text if not word in set(stopwords.words(\"english\"))]\n",
        "    lemma=nltk.WordNetLemmatizer()\n",
        "    text=[lemma.lemmatize(word) for word in text]\n",
        "    text=\" \".join(text)\n",
        "\n",
        "    tokenize_sen =[]\n",
        "    for i_word in text.split():\n",
        "      tokenize_sen.append( vocab[ i_word ] )\n",
        "    \n",
        "    return np.array( tokenize_sen )\n",
        "\n",
        "\n",
        "def preprocessing(df):\n",
        "\n",
        "    source_sentences = df.source.values\n",
        "    target_sentences = df.target.values\n",
        "\n",
        "    \n",
        "    \n",
        "    encoded_source_sentences , encoded_target_sentences = [] , []\n",
        "    for s_sent , t_sent in zip(source_sentences , target_sentences ):\n",
        "\n",
        "        s_encoded_sent = tokenize( s_sent , vocab_to_int_src )[: max_sent_length ]\n",
        "        \n",
        "        t_encoded_sent = tokenize( t_sent , vocab_to_int_trg)[: max_sent_length]\n",
        "\n",
        "        encoded_source_sentences.append(s_encoded_sent)\n",
        "        encoded_target_sentences.append(t_encoded_sent)\n",
        "\n",
        "\n",
        "    \n",
        "    return encoded_source_sentences, encoded_target_sentences"
      ],
      "execution_count": null,
      "outputs": []
    },
    {
      "cell_type": "code",
      "metadata": {
        "id": "X7Jway-CEeRL"
      },
      "source": [
        "#split into train, val and test sets (80-10-10)\n",
        "train_df, val_df, test_df = \\\n",
        "              np.split(data_df.sample(frac=1, random_state=42), \n",
        "                       [int(.8*len(data_df)), int(.9*len(data_df))])"
      ],
      "execution_count": null,
      "outputs": []
    },
    {
      "cell_type": "code",
      "metadata": {
        "id": "ZnumeGkyEj_3"
      },
      "source": [
        "#preprocessing\n",
        "train_source_sentences, train_target_sentences = preprocessing(train_df)\n",
        "val_source_sentences, val_target_sentences = preprocessing(val_df)\n",
        "test_source_sentences, test_target_sentences = preprocessing(test_df)"
      ],
      "execution_count": null,
      "outputs": []
    },
    {
      "cell_type": "code",
      "metadata": {
        "id": "iwb9w-vUEoAH"
      },
      "source": [
        "#define device\n",
        "device = torch.device('cuda' if torch.cuda.is_available() else 'cpu')"
      ],
      "execution_count": null,
      "outputs": []
    },
    {
      "cell_type": "code",
      "metadata": {
        "id": "-aaopSViEo_r"
      },
      "source": [
        "class Seq2SeqDataset(Dataset):\n",
        "    \"\"\"\n",
        "    Class that represents a train/validation/test dataset that's readable for PyTorch\n",
        "    Note that this class inherits torch.utils.data.Dataset\n",
        "    \"\"\"\n",
        "    \n",
        "    def __init__(self, data_list, target_list, max_sent_length=128):\n",
        "        \"\"\"\n",
        "        @param data_list: list of data tokens \n",
        "        @param target_list: list of data targets \n",
        "        \"\"\"\n",
        "        self.data_list = data_list\n",
        "        self.target_list = target_list\n",
        "        self.max_sent_length = max_sent_length\n",
        "        assert (len(self.data_list) == len(self.target_list))\n",
        "\n",
        "    def __len__(self):\n",
        "        return len(self.data_list)\n",
        "        \n",
        "    def __getitem__(self, key, max_sent_length=None):\n",
        "        \"\"\"\n",
        "        Triggered when you call dataset[i]\n",
        "        \"\"\"\n",
        "        if max_sent_length is None:\n",
        "            max_sent_length = self.max_sent_length\n",
        "        token_idx = self.data_list[key][:max_sent_length]\n",
        "        label = self.target_list[key]\n",
        "        return [token_idx, label]\n",
        "\n",
        "    def attention_masks(self , encoded_sentences):\n",
        "      # attention masks, 0 for padding, 1 for actual token\n",
        "      attention_masks = []\n",
        "      for sent in encoded_sentences:\n",
        "          att_mask = [int(token_id > 0 ) for token_id in sent]\n",
        "          attention_masks.append(att_mask)\n",
        "\n",
        "      return attention_masks\n",
        "\n",
        "    def spam_collate_func(self,batch):\n",
        "        \"\"\"\n",
        "        Customized function for DataLoader that dynamically pads the batch so that all \n",
        "        data have the same length\n",
        "        \"\"\" \n",
        "        data_list = [] \n",
        "        target_list = []\n",
        "        mask_list = []\n",
        "\n",
        "        max_batch_seq_len = None # the length of longest sequence in batch\n",
        "                                 # if it is less than self.max_sent_length\n",
        "                                 # else max_batch_seq_len = self.max_sent_length\n",
        "\n",
        "        \"\"\"\n",
        "          # Pad the sequences in your data \n",
        "          # if their length is less than max_batch_seq_len\n",
        "          # or trim the sequences that are longer than self.max_sent_length\n",
        "          # return padded data_list and label_list\n",
        "        \"\"\"\n",
        "        \n",
        "        # find the max sequence length from the batch\n",
        "        max_batch_s_len = max(len(datum[0]) for datum in batch)\n",
        "        max_batch_t_len = max(len(datum[1]) for datum in batch)\n",
        "\n",
        "        max_batch_seq_len = max(  [  max_batch_s_len , max_batch_t_len ] )\n",
        "\n",
        "        if max_batch_seq_len > self.max_sent_length:\n",
        "          max_batch_seq_len = self.max_sent_length\n",
        "\n",
        "        # pad each of the texts in batch\n",
        "        for datum in batch:\n",
        "          padded_s_vec = np.pad(np.array(datum[0]),\n",
        "                              pad_width = ((0, max_batch_seq_len - len(datum[0]))),\n",
        "                              mode = \"constant\", constant_values = 0)\n",
        "          \n",
        "          padded_t_vec = np.pad(np.array(datum[1]),\n",
        "                              pad_width = ((0, max_batch_seq_len - len(datum[1]))),\n",
        "                              mode = \"constant\", constant_values = 0)\n",
        "          \n",
        "          #generate the attention mask\n",
        "          #attention_mask = self.attention_masks( [padded_vec] )\n",
        "\n",
        "          data_list.append(padded_s_vec)\n",
        "          target_list.append( padded_t_vec )\n",
        "          #mask_list.append( attention_mask[0] )\n",
        "\n",
        "\n",
        "        # convert to tensors\n",
        "        data_list = torch.from_numpy(np.array(data_list))\n",
        "        label_list = torch.from_numpy( np.array(target_list)  )\n",
        "        #mask_list = torch.from_numpy(  np.array( mask_list ) )\n",
        "\n",
        "        return [data_list, label_list]"
      ],
      "execution_count": null,
      "outputs": []
    },
    {
      "cell_type": "code",
      "metadata": {
        "id": "Tmk8zmH5Eudo"
      },
      "source": [
        "#make datasets and dataloaders\n",
        "train_dataset = Seq2SeqDataset( train_source_sentences , train_target_sentences , max_sent_length)\n",
        "train_loader = torch.utils.data.DataLoader(dataset=train_dataset, \n",
        "                                           batch_size=BATCH_SIZE,\n",
        "                                           collate_fn=train_dataset.spam_collate_func,\n",
        "                                           shuffle=True)\n",
        "\n",
        "\n",
        "valid_dataset = Seq2SeqDataset( val_source_sentences , val_target_sentences , train_dataset.max_sent_length)\n",
        "valid_loader = torch.utils.data.DataLoader(dataset=valid_dataset, \n",
        "                                           batch_size=BATCH_SIZE,\n",
        "                                           collate_fn=train_dataset.spam_collate_func,\n",
        "                                           shuffle=False)\n",
        "\n",
        "\n",
        "test_dataset = Seq2SeqDataset( test_source_sentences , test_target_sentences , train_dataset.max_sent_length)\n",
        "test_loader = torch.utils.data.DataLoader(dataset=test_dataset, \n",
        "                                           batch_size=BATCH_SIZE,\n",
        "                                           collate_fn=train_dataset.spam_collate_func,\n",
        "                                           shuffle=False)"
      ],
      "execution_count": null,
      "outputs": []
    },
    {
      "cell_type": "code",
      "metadata": {
        "id": "KRD-mFHeEy7c"
      },
      "source": [
        "x , y = next(iter(valid_loader))"
      ],
      "execution_count": null,
      "outputs": []
    },
    {
      "cell_type": "code",
      "metadata": {
        "id": "0Lv8w0qIE1zs"
      },
      "source": [
        "#encoder class\n",
        "class Encoder(nn.Module):\n",
        "    def __init__(self, input_dim, emb_dim, enc_hid_dim, dec_hid_dim, dropout):\n",
        "        super().__init__()\n",
        "        \n",
        "        self.embedding = nn.Embedding(input_dim, emb_dim)\n",
        "        \n",
        "        self.rnn = nn.GRU(emb_dim, enc_hid_dim, bidirectional = True)\n",
        "        \n",
        "        self.fc = nn.Linear(enc_hid_dim * 2, dec_hid_dim)\n",
        "        \n",
        "        self.dropout = nn.Dropout(dropout)\n",
        "        \n",
        "    def forward(self, src):\n",
        "        \n",
        "        #src = [src len, batch size]\n",
        "        \n",
        "        embedded = self.dropout(self.embedding(src))\n",
        "        \n",
        "        #embedded = [src len, batch size, emb dim]\n",
        "        \n",
        "        outputs, hidden = self.rnn(embedded)\n",
        "                \n",
        "        #outputs = [src len, batch size, hid dim * num directions]\n",
        "        #hidden = [n layers * num directions, batch size, hid dim]\n",
        "        \n",
        "        #hidden is stacked [forward_1, backward_1, forward_2, backward_2, ...]\n",
        "        #outputs are always from the last layer\n",
        "        \n",
        "        #hidden [-2, :, : ] is the last of the forwards RNN \n",
        "        #hidden [-1, :, : ] is the last of the backwards RNN\n",
        "        \n",
        "        #initial decoder hidden is final hidden state of the forwards and backwards \n",
        "        #  encoder RNNs fed through a linear layer\n",
        "        hidden = torch.tanh(self.fc(torch.cat((hidden[-2,:,:], hidden[-1,:,:]), dim = 1)))\n",
        "        \n",
        "        #outputs = [src len, batch size, enc hid dim * 2]\n",
        "        #hidden = [batch size, dec hid dim]\n",
        "        \n",
        "        return outputs, hidden"
      ],
      "execution_count": null,
      "outputs": []
    },
    {
      "cell_type": "code",
      "metadata": {
        "id": "44brnB3EE9Ov"
      },
      "source": [
        "#attention\n",
        "class Attention(nn.Module):\n",
        "    def __init__(self, enc_hid_dim, dec_hid_dim):\n",
        "        super().__init__()\n",
        "        \n",
        "        self.attn = nn.Linear((enc_hid_dim * 2) + dec_hid_dim, dec_hid_dim)\n",
        "        self.v = nn.Linear(dec_hid_dim, 1, bias = False)\n",
        "        \n",
        "    def forward(self, hidden, encoder_outputs):\n",
        "        \n",
        "        #hidden = [batch size, dec hid dim]\n",
        "        #encoder_outputs = [src len, batch size, enc hid dim * 2]\n",
        "        \n",
        "        batch_size = encoder_outputs.shape[1]\n",
        "        src_len = encoder_outputs.shape[0]\n",
        "        \n",
        "        #repeat decoder hidden state src_len times\n",
        "        hidden = hidden.unsqueeze(1).repeat(1, src_len, 1)\n",
        "        \n",
        "        encoder_outputs = encoder_outputs.permute(1, 0, 2)\n",
        "        \n",
        "        #hidden = [batch size, src len, dec hid dim]\n",
        "        #encoder_outputs = [batch size, src len, enc hid dim * 2]\n",
        "        \n",
        "        energy = torch.tanh(self.attn(torch.cat((hidden, encoder_outputs), dim = 2))) \n",
        "        \n",
        "        #energy = [batch size, src len, dec hid dim]\n",
        "\n",
        "        attention = self.v(energy).squeeze(2)\n",
        "        \n",
        "        #attention= [batch size, src len]\n",
        "        \n",
        "        return F.softmax(attention, dim=1)"
      ],
      "execution_count": null,
      "outputs": []
    },
    {
      "cell_type": "code",
      "metadata": {
        "id": "FKIrDrM8FC3I"
      },
      "source": [
        "#decoder\n",
        "class Decoder(nn.Module):\n",
        "    def __init__(self, output_dim, emb_dim, enc_hid_dim, dec_hid_dim, dropout, attention):\n",
        "        super().__init__()\n",
        "\n",
        "        self.output_dim = output_dim\n",
        "        self.attention = attention\n",
        "        \n",
        "        self.embedding = nn.Embedding(output_dim, emb_dim)\n",
        "        \n",
        "        self.rnn = nn.GRU((enc_hid_dim * 2) + emb_dim, dec_hid_dim)\n",
        "        \n",
        "        self.fc_out = nn.Linear((enc_hid_dim * 2) + dec_hid_dim + emb_dim, output_dim)\n",
        "        \n",
        "        self.dropout = nn.Dropout(dropout)\n",
        "        \n",
        "    def forward(self, input, hidden, encoder_outputs):\n",
        "             \n",
        "        #input = [batch size]\n",
        "        #hidden = [batch size, dec hid dim]\n",
        "        #encoder_outputs = [src len, batch size, enc hid dim * 2]\n",
        "        \n",
        "        input = input.unsqueeze(0)\n",
        "        \n",
        "        #input = [1, batch size]\n",
        "        \n",
        "        embedded = self.dropout(self.embedding(input))\n",
        "        \n",
        "        #embedded = [1, batch size, emb dim]\n",
        "        \n",
        "        a = self.attention(hidden, encoder_outputs)\n",
        "                \n",
        "        #a = [batch size, src len]\n",
        "        \n",
        "        a = a.unsqueeze(1)\n",
        "        \n",
        "        #a = [batch size, 1, src len]\n",
        "        \n",
        "        encoder_outputs = encoder_outputs.permute(1, 0, 2)\n",
        "        \n",
        "        #encoder_outputs = [batch size, src len, enc hid dim * 2]\n",
        "        \n",
        "        weighted = torch.bmm(a, encoder_outputs)\n",
        "        \n",
        "        #weighted = [batch size, 1, enc hid dim * 2]\n",
        "        \n",
        "        weighted = weighted.permute(1, 0, 2)\n",
        "        \n",
        "        #weighted = [1, batch size, enc hid dim * 2]\n",
        "        \n",
        "        rnn_input = torch.cat((embedded, weighted), dim = 2)\n",
        "        \n",
        "        #rnn_input = [1, batch size, (enc hid dim * 2) + emb dim]\n",
        "            \n",
        "        output, hidden = self.rnn(rnn_input, hidden.unsqueeze(0))\n",
        "        \n",
        "        #output = [seq len, batch size, dec hid dim * n directions]\n",
        "        #hidden = [n layers * n directions, batch size, dec hid dim]\n",
        "        \n",
        "        #seq len, n layers and n directions will always be 1 in this decoder, therefore:\n",
        "        #output = [1, batch size, dec hid dim]\n",
        "        #hidden = [1, batch size, dec hid dim]\n",
        "        #this also means that output == hidden\n",
        "        assert (output == hidden).all()\n",
        "        \n",
        "        embedded = embedded.squeeze(0)\n",
        "        output = output.squeeze(0)\n",
        "        weighted = weighted.squeeze(0)\n",
        "        \n",
        "        prediction = self.fc_out(torch.cat((output, weighted, embedded), dim = 1))\n",
        "        \n",
        "        #prediction = [batch size, output dim]\n",
        "        \n",
        "        return prediction, hidden.squeeze(0)"
      ],
      "execution_count": null,
      "outputs": []
    },
    {
      "cell_type": "code",
      "metadata": {
        "id": "uYrPW5AaFD6-"
      },
      "source": [
        "#model class\n",
        "class Seq2Seq(nn.Module):\n",
        "    def __init__(self, encoder, decoder, device):\n",
        "        super().__init__()\n",
        "        \n",
        "        self.encoder = encoder\n",
        "        self.decoder = decoder\n",
        "        self.device = device\n",
        "        \n",
        "    def forward(self, src, trg , teacher_forcing_ratio = 0.5 , test_stage = False):\n",
        "        \n",
        "        #src = [src len, batch size]\n",
        "        #trg = [trg len, batch size]\n",
        "        #teacher_forcing_ratio is probability to use teacher forcing\n",
        "        #e.g. if teacher_forcing_ratio is 0.75 we use teacher forcing 75% of the time\n",
        "        \n",
        "        batch_size = src.shape[1]\n",
        "        trg_vocab_size = self.decoder.output_dim\n",
        "        \n",
        "        #tensor to store decoder outputs\n",
        "        if( test_stage ):\n",
        "          outputs = torch.zeros(max_sent_length, batch_size, trg_vocab_size).to(self.device)\n",
        "        else:\n",
        "          trg_len = trg.shape[0]\n",
        "          outputs = torch.zeros(trg_len, batch_size, trg_vocab_size).to(self.device)\n",
        "        \n",
        "        #encoder_outputs is all hidden states of the input sequence, back and forwards\n",
        "        #hidden is the final forward and backward hidden states, passed through a linear layer\n",
        "        encoder_outputs, hidden = self.encoder(src)\n",
        "\n",
        "        if( test_stage ):\n",
        "            input = torch.from_numpy( np.array([ vocab_to_int_src[ \"start\" ]  ]) ).view(batch_size).to(device)\n",
        "            for t in range(1, max_sent_length ):\n",
        "            \n",
        "              #insert input token embedding, previous hidden state and all encoder hidden states\n",
        "              #receive output tensor (predictions) and new hidden state\n",
        "              output, hidden = self.decoder(input, hidden, encoder_outputs)\n",
        "              \n",
        "              #place predictions in a tensor holding predictions for each token\n",
        "              outputs[t] = output\n",
        "              \n",
        "              #decide if we are going to use teacher forcing or not\n",
        "              teacher_force = random.random() < teacher_forcing_ratio\n",
        "              \n",
        "              #get the highest predicted token from our predictions\n",
        "              top1 = output.argmax(1) \n",
        "              \n",
        "              #if teacher forcing, use actual next token as next input\n",
        "              #if not, use predicted token\n",
        "              input = trg[t] if teacher_force else top1\n",
        "\n",
        "              i_word = int_to_vocab_trg[top1.detach().cpu().numpy()[0]]\n",
        "\n",
        "              if(i_word == \"END\" ):\n",
        "                break\n",
        "\n",
        "            return outputs\n",
        "\n",
        "        else:\n",
        "            #first input to the decoder is the <sos> tokens\n",
        "            input = trg[0,:]\n",
        "\n",
        "            for t in range(1, trg_len):\n",
        "                \n",
        "                #insert input token embedding, previous hidden state and all encoder hidden states\n",
        "                #receive output tensor (predictions) and new hidden state\n",
        "                output, hidden = self.decoder(input, hidden, encoder_outputs)\n",
        "                \n",
        "                #place predictions in a tensor holding predictions for each token\n",
        "                outputs[t] = output\n",
        "                \n",
        "                #decide if we are going to use teacher forcing or not\n",
        "                teacher_force = random.random() < teacher_forcing_ratio\n",
        "                \n",
        "                #get the highest predicted token from our predictions\n",
        "                top1 = output.argmax(1) \n",
        "                \n",
        "                #if teacher forcing, use actual next token as next input\n",
        "                #if not, use predicted token\n",
        "                input = trg[t] if teacher_force else top1\n",
        "\n",
        "            return outputs"
      ],
      "execution_count": null,
      "outputs": []
    },
    {
      "cell_type": "code",
      "metadata": {
        "id": "DyVjby4RFMbM"
      },
      "source": [
        "#define hyperparams\n",
        "INPUT_DIM = len( vocab_to_int_src )\n",
        "OUTPUT_DIM = len( vocab_to_int_trg )\n",
        "ENC_EMB_DIM = 300\n",
        "DEC_EMB_DIM = 300\n",
        "ENC_HID_DIM = 512\n",
        "DEC_HID_DIM = 512\n",
        "ENC_DROPOUT = 0.5\n",
        "DEC_DROPOUT = 0.5\n",
        "\n",
        "attn = Attention(ENC_HID_DIM, DEC_HID_DIM)\n",
        "enc = Encoder(INPUT_DIM, ENC_EMB_DIM, ENC_HID_DIM, DEC_HID_DIM, ENC_DROPOUT)\n",
        "dec = Decoder(OUTPUT_DIM, DEC_EMB_DIM, ENC_HID_DIM, DEC_HID_DIM, DEC_DROPOUT, attn)\n",
        "\n",
        "model = Seq2Seq(enc, dec, device).to(device)"
      ],
      "execution_count": null,
      "outputs": []
    },
    {
      "cell_type": "code",
      "metadata": {
        "id": "O5GbWd1YFUst",
        "colab": {
          "base_uri": "https://localhost:8080/"
        },
        "outputId": "e2a95c6f-ed88-43b6-b2d2-bd9270ff09ae"
      },
      "source": [
        "#initialise weights\n",
        "def init_weights(m):\n",
        "    for name, param in m.named_parameters():\n",
        "        if 'weight' in name:\n",
        "            nn.init.normal_(param.data, mean=0, std=0.01)\n",
        "        else:\n",
        "            nn.init.constant_(param.data, 0)\n",
        "            \n",
        "model.apply(init_weights)"
      ],
      "execution_count": null,
      "outputs": [
        {
          "output_type": "execute_result",
          "data": {
            "text/plain": [
              "Seq2Seq(\n",
              "  (encoder): Encoder(\n",
              "    (embedding): Embedding(6350, 300)\n",
              "    (rnn): GRU(300, 512, bidirectional=True)\n",
              "    (fc): Linear(in_features=1024, out_features=512, bias=True)\n",
              "    (dropout): Dropout(p=0.5, inplace=False)\n",
              "  )\n",
              "  (decoder): Decoder(\n",
              "    (attention): Attention(\n",
              "      (attn): Linear(in_features=1536, out_features=512, bias=True)\n",
              "      (v): Linear(in_features=512, out_features=1, bias=False)\n",
              "    )\n",
              "    (embedding): Embedding(5759, 300)\n",
              "    (rnn): GRU(1324, 512)\n",
              "    (fc_out): Linear(in_features=1836, out_features=5759, bias=True)\n",
              "    (dropout): Dropout(p=0.5, inplace=False)\n",
              "  )\n",
              ")"
            ]
          },
          "metadata": {
            "tags": []
          },
          "execution_count": 56
        }
      ]
    },
    {
      "cell_type": "code",
      "metadata": {
        "id": "tBe64HxLFY-p",
        "colab": {
          "base_uri": "https://localhost:8080/"
        },
        "outputId": "34fccd85-34c4-4001-85c3-9364397315b2"
      },
      "source": [
        "#display number of trainable params\n",
        "def count_parameters(model):\n",
        "    return sum(p.numel() for p in model.parameters() if p.requires_grad)\n",
        "\n",
        "print(f'The model has {count_parameters(model):,} trainable parameters')"
      ],
      "execution_count": null,
      "outputs": [
        {
          "output_type": "stream",
          "text": [
            "The model has 20,848,015 trainable parameters\n"
          ],
          "name": "stdout"
        }
      ]
    },
    {
      "cell_type": "code",
      "metadata": {
        "id": "0rahnWlmFdDZ"
      },
      "source": [
        "#define optimizer\n",
        "optimizer = optim.Adam(model.parameters() , lr=0.001)"
      ],
      "execution_count": null,
      "outputs": []
    },
    {
      "cell_type": "code",
      "metadata": {
        "id": "3IW8ErR8Fd8J"
      },
      "source": [
        "#define loss\n",
        "criterion = nn.CrossEntropyLoss(ignore_index = 0)"
      ],
      "execution_count": null,
      "outputs": []
    },
    {
      "cell_type": "code",
      "metadata": {
        "id": "6t9KjCBiFiqR"
      },
      "source": [
        "#train function\n",
        "def train(model, iterator, optimizer, criterion, clip):\n",
        "    \n",
        "    model.train()\n",
        "    \n",
        "    epoch_loss = 0\n",
        "    \n",
        "    for i, ( src , trg ) in enumerate(iterator):\n",
        "        \n",
        "        \n",
        "        optimizer.zero_grad()\n",
        "        # move to device\n",
        "        src , trg = src.to(device) , trg.to(device)\n",
        "        \n",
        "        output = model(src, trg)\n",
        "        \n",
        "        # trg = [trg len, batch size]\n",
        "        # output = [trg len, batch size, output dim]\n",
        "        \n",
        "        output_dim = output.shape[-1]\n",
        "        \n",
        "        output = output[1:].view(-1, output_dim)\n",
        "        trg = trg[1:].view(-1)\n",
        "        \n",
        "        #trg = [(trg len - 1) * batch size]\n",
        "        #output = [(trg len - 1) * batch size, output dim]\n",
        "        \n",
        "        loss = criterion(output, trg)\n",
        "        \n",
        "        loss.backward()\n",
        "        \n",
        "        torch.nn.utils.clip_grad_norm_(model.parameters(), clip)\n",
        "        \n",
        "        optimizer.step()\n",
        "        \n",
        "        epoch_loss += loss.item()\n",
        "        \n",
        "    return epoch_loss / len(iterator)"
      ],
      "execution_count": null,
      "outputs": []
    },
    {
      "cell_type": "code",
      "metadata": {
        "id": "G76fTJyOFlSW"
      },
      "source": [
        "#evaluate on dev set function\n",
        "def evaluate(model, iterator, criterion):\n",
        "    \n",
        "    model.eval()\n",
        "    \n",
        "    epoch_loss = 0\n",
        "    \n",
        "    with torch.no_grad():\n",
        "    \n",
        "        for i, (src , trg) in enumerate(iterator):\n",
        "\n",
        "            #move to device\n",
        "            src , trg = src.to(device) , trg.to(device)\n",
        "            output = model(src, trg, 0) #turn off teacher forcing\n",
        "\n",
        "            #trg = [trg len, batch size]\n",
        "            #output = [trg len, batch size, output dim]\n",
        "\n",
        "            output_dim = output.shape[-1]\n",
        "            \n",
        "            output = output[1:].view(-1, output_dim)\n",
        "            trg = trg[1:].view(-1)\n",
        "\n",
        "            #trg = [(trg len - 1) * batch size]\n",
        "            #output = [(trg len - 1) * batch size, output dim]\n",
        "\n",
        "            loss = criterion(output, trg)\n",
        "\n",
        "            epoch_loss += loss.item()\n",
        "        \n",
        "    return epoch_loss / len(iterator)"
      ],
      "execution_count": null,
      "outputs": []
    },
    {
      "cell_type": "code",
      "metadata": {
        "id": "ao5bSHebFopt"
      },
      "source": [
        "def epoch_time(start_time, end_time):\n",
        "    elapsed_time = end_time - start_time\n",
        "    elapsed_mins = int(elapsed_time / 60)\n",
        "    elapsed_secs = int(elapsed_time - (elapsed_mins * 60))\n",
        "    return elapsed_mins, elapsed_secs"
      ],
      "execution_count": null,
      "outputs": []
    },
    {
      "cell_type": "code",
      "metadata": {
        "id": "f3GBxYPRFwFK",
        "colab": {
          "base_uri": "https://localhost:8080/"
        },
        "outputId": "45d4d9d6-d59d-43b3-cc5b-9b4c2d0ad5f6"
      },
      "source": [
        "#training loop\n",
        "\n",
        "N_EPOCHS = 100\n",
        "CLIP = 5\n",
        "\n",
        "best_valid_loss = float('inf')\n",
        "\n",
        "print(\"Training the model...\")\n",
        "tr = {'loss': [], 'PPL': []}\n",
        "val = {'loss': [], 'PPL': []}\n",
        "for epoch in range(N_EPOCHS):\n",
        "    \n",
        "    start_time = time.time()\n",
        "    \n",
        "    train_loss = train(model, train_loader , optimizer, criterion, CLIP)\n",
        "    valid_loss = evaluate(model, valid_loader , criterion)\n",
        "    \n",
        "    end_time = time.time()\n",
        "    \n",
        "    epoch_mins, epoch_secs = epoch_time(start_time, end_time)\n",
        "    \n",
        "    if valid_loss < best_valid_loss:\n",
        "        best_valid_loss = valid_loss\n",
        "        torch.save(model.state_dict(), 'drive/MyDrive/tut3-model-1c.pt')\n",
        "\n",
        "    # store logs\n",
        "    tr['loss'].append(train_loss)\n",
        "    tr['PPL'].append(math.exp(train_loss))\n",
        "    val['loss'].append(valid_loss)\n",
        "    val['PPL'].append(math.exp(valid_loss))\n",
        "    \n",
        "    if( (epoch+1)%5 == 0 ):\n",
        "      print(f'Epoch: {epoch+1:02} | Time: {epoch_mins}m {epoch_secs}s')\n",
        "      print(f'\\tTrain Loss: {train_loss:.3f} | Train PPL: {math.exp(train_loss):7.3f}')\n",
        "      print(f'\\t Val. Loss: {valid_loss:.3f} |  Val. PPL: {math.exp(valid_loss):7.3f}')"
      ],
      "execution_count": null,
      "outputs": [
        {
          "output_type": "stream",
          "text": [
            "Training the model...\n",
            "Epoch: 05 | Time: 0m 10s\n",
            "\tTrain Loss: 6.051 | Train PPL: 424.621\n",
            "\t Val. Loss: 6.119 |  Val. PPL: 454.457\n",
            "Epoch: 10 | Time: 0m 10s\n",
            "\tTrain Loss: 6.010 | Train PPL: 407.655\n",
            "\t Val. Loss: 6.116 |  Val. PPL: 453.149\n",
            "Epoch: 15 | Time: 0m 10s\n",
            "\tTrain Loss: 5.978 | Train PPL: 394.689\n",
            "\t Val. Loss: 6.149 |  Val. PPL: 468.239\n",
            "Epoch: 20 | Time: 0m 10s\n",
            "\tTrain Loss: 5.963 | Train PPL: 388.848\n",
            "\t Val. Loss: 6.148 |  Val. PPL: 467.948\n",
            "Epoch: 25 | Time: 0m 10s\n",
            "\tTrain Loss: 5.934 | Train PPL: 377.740\n",
            "\t Val. Loss: 6.150 |  Val. PPL: 468.780\n",
            "Epoch: 30 | Time: 0m 10s\n",
            "\tTrain Loss: 5.912 | Train PPL: 369.305\n",
            "\t Val. Loss: 6.169 |  Val. PPL: 477.870\n",
            "Epoch: 35 | Time: 0m 10s\n",
            "\tTrain Loss: 5.893 | Train PPL: 362.613\n",
            "\t Val. Loss: 6.159 |  Val. PPL: 473.030\n",
            "Epoch: 40 | Time: 0m 10s\n",
            "\tTrain Loss: 5.871 | Train PPL: 354.447\n",
            "\t Val. Loss: 6.161 |  Val. PPL: 473.869\n",
            "Epoch: 45 | Time: 0m 10s\n",
            "\tTrain Loss: 5.851 | Train PPL: 347.566\n",
            "\t Val. Loss: 6.131 |  Val. PPL: 459.920\n",
            "Epoch: 50 | Time: 0m 10s\n",
            "\tTrain Loss: 5.811 | Train PPL: 334.023\n",
            "\t Val. Loss: 6.142 |  Val. PPL: 464.833\n",
            "Epoch: 55 | Time: 0m 10s\n",
            "\tTrain Loss: 5.770 | Train PPL: 320.466\n",
            "\t Val. Loss: 6.147 |  Val. PPL: 467.083\n",
            "Epoch: 60 | Time: 0m 10s\n",
            "\tTrain Loss: 5.723 | Train PPL: 305.700\n",
            "\t Val. Loss: 6.166 |  Val. PPL: 476.277\n",
            "Epoch: 65 | Time: 0m 10s\n",
            "\tTrain Loss: 5.690 | Train PPL: 295.792\n",
            "\t Val. Loss: 6.186 |  Val. PPL: 485.934\n",
            "Epoch: 70 | Time: 0m 10s\n",
            "\tTrain Loss: 5.655 | Train PPL: 285.775\n",
            "\t Val. Loss: 6.208 |  Val. PPL: 496.628\n",
            "Epoch: 75 | Time: 0m 10s\n",
            "\tTrain Loss: 5.606 | Train PPL: 272.031\n",
            "\t Val. Loss: 6.223 |  Val. PPL: 504.027\n",
            "Epoch: 80 | Time: 0m 10s\n",
            "\tTrain Loss: 5.572 | Train PPL: 262.830\n",
            "\t Val. Loss: 6.222 |  Val. PPL: 503.694\n",
            "Epoch: 85 | Time: 0m 10s\n",
            "\tTrain Loss: 5.529 | Train PPL: 251.841\n",
            "\t Val. Loss: 6.276 |  Val. PPL: 531.883\n",
            "Epoch: 90 | Time: 0m 10s\n",
            "\tTrain Loss: 5.501 | Train PPL: 244.923\n",
            "\t Val. Loss: 6.288 |  Val. PPL: 538.336\n",
            "Epoch: 95 | Time: 0m 10s\n",
            "\tTrain Loss: 5.457 | Train PPL: 234.323\n",
            "\t Val. Loss: 6.292 |  Val. PPL: 540.078\n",
            "Epoch: 100 | Time: 0m 10s\n",
            "\tTrain Loss: 5.430 | Train PPL: 228.167\n",
            "\t Val. Loss: 6.302 |  Val. PPL: 545.824\n"
          ],
          "name": "stdout"
        }
      ]
    },
    {
      "cell_type": "code",
      "metadata": {
        "id": "aRgLoiKYaegT",
        "colab": {
          "base_uri": "https://localhost:8080/",
          "height": 479
        },
        "outputId": "49768946-8bbd-469a-9862-ca27b0566343"
      },
      "source": [
        "#plot train and validation PPL logs\n",
        "\n",
        "fig = plt.figure(figsize=(10,7))\n",
        "\n",
        "y1 = tr['PPL']\n",
        "y2 = val['PPL']\n",
        "\n",
        "plt.plot(y1, \"-b\", label=\"Train perplexity\")\n",
        "plt.plot(y2, \"-r\", label=\"Validation perplexity\")\n",
        "plt.legend(loc=\"upper right\")\n",
        "plt.ylim(100, 950)\n",
        "plt.ylabel('Perplexity', fontsize=12)\n",
        "plt.xlabel('Epochs', fontsize=12)\n",
        "plt.title(\"Train and validation perplexity \\n GRU with attention (no pre-training) - Seeker post + non-empathetic response input\", fontsize = 14)\n",
        "\n",
        "fig.savefig(\"1b-ppl.pdf\")\n",
        "plt.show()"
      ],
      "execution_count": null,
      "outputs": [
        {
          "output_type": "display_data",
          "data": {
            "image/png": "[encoded data removed]",
            "text/plain": [
              "<Figure size 720x504 with 1 Axes>"
            ]
          },
          "metadata": {
            "tags": [],
            "needs_background": "light"
          }
        }
      ]
    },
    {
      "cell_type": "code",
      "metadata": {
        "id": "ix572WnaF2Gg",
        "colab": {
          "base_uri": "https://localhost:8080/"
        },
        "outputId": "04f79022-a169-4375-e76b-83b482edc504"
      },
      "source": [
        "model.load_state_dict(torch.load('drive/MyDrive/tut3-model-1c.pt'))\n",
        "\n",
        "test_loss_1b = evaluate(model, test_loader , criterion)\n",
        "\n",
        "print(f'| Test Loss: {test_loss_1b:.3f} | Test PPL: {math.exp(test_loss_1b):7.3f} |')"
      ],
      "execution_count": null,
      "outputs": [
        {
          "output_type": "stream",
          "text": [
            "| Test Loss: 6.108 | Test PPL: 449.457 |\n"
          ],
          "name": "stdout"
        }
      ]
    },
    {
      "cell_type": "code",
      "metadata": {
        "id": "w6WzonRrGJYo"
      },
      "source": [
        "#functions for human evaluation on test set\n",
        "\n",
        "def int_2_words( i_text , vocab ) :\n",
        "\n",
        "  text_list = []\n",
        "  for i_idx in i_text :\n",
        "    i_word =  vocab[i_idx] \n",
        "\n",
        "    if(i_word=='<pad>'):\n",
        "      continue\n",
        "\n",
        "    text_list.append( i_word )\n",
        "\n",
        "    if(i_word==\"END\"):\n",
        "      break\n",
        "\n",
        "  text=\" \".join(text_list)\n",
        "\n",
        "  return text\n",
        "\n",
        "def generate_sentence(model, iterator):\n",
        "    \n",
        "    model.eval()\n",
        "    \n",
        "    epoch_loss = 0\n",
        "\n",
        "    pred_trg_pairs = []\n",
        "\n",
        "    with torch.no_grad():\n",
        "    \n",
        "        for i, (src , trg) in enumerate(iterator):\n",
        "\n",
        "            #move to device\n",
        "            src , trg = src.to(device) , trg.to(device)\n",
        "            output = model(src, trg, 0) #turn off teacher forcing\n",
        "\n",
        "            #trg = [trg len, batch size]\n",
        "            #output = [trg len, batch size, output dim]\n",
        "\n",
        "            output_dim = output.shape[-1]\n",
        "            \n",
        "            output = output[:,1:]\n",
        "            trg = trg[:,1:]\n",
        "\n",
        "            output = output.detach().cpu().numpy()\n",
        "            trg = trg.detach().cpu().numpy()\n",
        "            pred= np.argmax( output , axis = -1 )\n",
        "\n",
        "            for i_pred , i_trg in zip( pred , trg  ):\n",
        "\n",
        "              trg_sen = int_2_words( i_trg , int_to_vocab_trg  )\n",
        "              pred_sen = int_2_words( i_pred , int_to_vocab_trg )\n",
        "\n",
        "              print( \"Target Sentence : {} \\n\".format( trg_sen )  )\n",
        "              print( \"Predicted Sentence : {} \\n\".format( pred_sen )  )\n",
        "\n",
        "            break"
      ],
      "execution_count": null,
      "outputs": []
    },
    {
      "cell_type": "code",
      "metadata": {
        "id": "mKL39ULGGOXF"
      },
      "source": [
        "#evaluate on test set\n",
        "generate_sentence(model, test_loader)"
      ],
      "execution_count": null,
      "outputs": []
    }
  ]
}