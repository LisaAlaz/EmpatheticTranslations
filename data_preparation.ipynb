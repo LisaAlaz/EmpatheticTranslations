{
  "nbformat": 4,
  "nbformat_minor": 0,
  "metadata": {
    "colab": {
      "name": "data_preparation.ipynb",
      "provenance": [],
      "collapsed_sections": []
    },
    "kernelspec": {
      "name": "python3",
      "display_name": "Python 3"
    },
    "language_info": {
      "name": "python"
    },
    "accelerator": "GPU"
  },
  "cells": [
    {
      "cell_type": "markdown",
      "metadata": {
        "id": "JuqhmYDv9cL_"
      },
      "source": [
        "# BUILDING A PARALLEL DATASET OF SEEKER'S POST, NON-EMPATHETIC AND EMPATHETIC RESPONSE:"
      ]
    },
    {
      "cell_type": "code",
      "metadata": {
        "id": "OuhasupvU-5d"
      },
      "source": [
        "#License for the original datasets:\n",
        "\n",
        "#BSD 3-Clause License\n",
        "\n",
        "#Copyright (c) 2020, Behavioral Data Science Group\n",
        "#All rights reserved.\n",
        "\n",
        "#Redistribution and use in source and binary forms, with or without\n",
        "#modification, are permitted provided that the following conditions are met:\n",
        "\n",
        "#1. Redistributions of source code must retain the above copyright notice, this\n",
        "#   list of conditions and the following disclaimer.\n",
        "\n",
        "#2. Redistributions in binary form must reproduce the above copyright notice,\n",
        "#   this list of conditions and the following disclaimer in the documentation\n",
        "#   and/or other materials provided with the distribution.\n",
        "\n",
        "#3. Neither the name of the copyright holder nor the names of its\n",
        "#   contributors may be used to endorse or promote products derived from\n",
        "#   this software without specific prior written permission.\n",
        "\n",
        "#THIS SOFTWARE IS PROVIDED BY THE COPYRIGHT HOLDERS AND CONTRIBUTORS \"AS IS\"\n",
        "#AND ANY EXPRESS OR IMPLIED WARRANTIES, INCLUDING, BUT NOT LIMITED TO, THE\n",
        "#IMPLIED WARRANTIES OF MERCHANTABILITY AND FITNESS FOR A PARTICULAR PURPOSE ARE\n",
        "#DISCLAIMED. IN NO EVENT SHALL THE COPYRIGHT HOLDER OR CONTRIBUTORS BE LIABLE\n",
        "#FOR ANY DIRECT, INDIRECT, INCIDENTAL, SPECIAL, EXEMPLARY, OR CONSEQUENTIAL\n",
        "#DAMAGES (INCLUDING, BUT NOT LIMITED TO, PROCUREMENT OF SUBSTITUTE GOODS OR\n",
        "#SERVICES; LOSS OF USE, DATA, OR PROFITS; OR BUSINESS INTERRUPTION) HOWEVER\n",
        "#CAUSED AND ON ANY THEORY OF LIABILITY, WHETHER IN CONTRACT, STRICT LIABILITY,\n",
        "#OR TORT (INCLUDING NEGLIGENCE OR OTHERWISE) ARISING IN ANY WAY OUT OF THE USE\n",
        "#OF THIS SOFTWARE, EVEN IF ADVISED OF THE POSSIBILITY OF SUCH DAMAGE."
      ],
      "execution_count": null,
      "outputs": []
    },
    {
      "cell_type": "code",
      "metadata": {
        "colab": {
          "base_uri": "https://localhost:8080/"
        },
        "id": "6f84MVSq97zf",
        "outputId": "ca2ecdb7-9d13-44d8-d2a2-4b3039cef25f"
      },
      "source": [
        "#mount Google Drive for easier file management\n",
        "from google.colab import drive\n",
        "drive.mount('/content/drive')"
      ],
      "execution_count": null,
      "outputs": [
        {
          "output_type": "stream",
          "text": [
            "Mounted at /content/drive\n"
          ],
          "name": "stdout"
        }
      ]
    },
    {
      "cell_type": "code",
      "metadata": {
        "id": "V0cXBHGlyJrg"
      },
      "source": [
        "#import statements\n",
        "import pandas as pd\n",
        "import string\n",
        "import re\n",
        "#remove limits to read all the text in the dataframe\n",
        "pd.set_option('max_colwidth', None)\n",
        "pd.set_option('max_rows', None)"
      ],
      "execution_count": null,
      "outputs": []
    },
    {
      "cell_type": "markdown",
      "metadata": {
        "id": "J-1TvN1a93e9"
      },
      "source": [
        "####Before running the following cells, make sure that you have downloaded the files 'emotional-reactions-reddit.csv', 'explorations-reddit.csv' and 'interpretations-reddit.csv' into the Google Drive accounted mounted to this notebook. "
      ]
    },
    {
      "cell_type": "code",
      "metadata": {
        "id": "yN6qGgLMyzI5"
      },
      "source": [
        "#emotional reactions\n",
        "\n",
        "#import csv into pandas dataframe\n",
        "emo_react_df = pd.read_csv('drive/MyDrive/emotional-reactions-reddit.csv') #change this path if necessary\n",
        "#rename rationales column\n",
        "emo_react_df = emo_react_df.rename(columns={'rationales':'rationales1'})\n",
        "\n",
        "#explorations\n",
        "\n",
        "explor_df = pd.read_csv('drive/MyDrive/explorations-reddit.csv') #change this path if necessary\n",
        "explor_df = explor_df.rename(columns={'rationales':'rationales2'})\n",
        "\n",
        "#interpretations\n",
        "\n",
        "interpret_df = pd.read_csv('drive/MyDrive/interpretations-reddit.csv') #change this path if necessary\n",
        "interpret_df = interpret_df.rename(columns={'rationales':'rationales3'})"
      ],
      "execution_count": null,
      "outputs": []
    },
    {
      "cell_type": "code",
      "metadata": {
        "id": "Kyg_3R2McwGX"
      },
      "source": [
        "#select only data points where the response was strongly empathetic (assigned a score of 2)\n",
        "high_emo_df = emo_react_df.loc[emo_react_df['level'] == 2]\n",
        "high_explor_df = explor_df.loc[explor_df['level'] == 2]\n",
        "high_interpret_df = interpret_df.loc[interpret_df['level'] == 2]"
      ],
      "execution_count": null,
      "outputs": []
    },
    {
      "cell_type": "code",
      "metadata": {
        "colab": {
          "base_uri": "https://localhost:8080/"
        },
        "id": "CvRfdVxfdT1o",
        "outputId": "3f7380b1-c8f5-48b6-a2b1-060df79c6c10"
      },
      "source": [
        "#create a concatenated dataframe with all the high-empathy datapoints and all the rationales\n",
        "concat_df = pd.concat([high_emo_df, high_explor_df, high_interpret_df]).drop_duplicates().reset_index(drop=True)\n",
        "len(concat_df)"
      ],
      "execution_count": null,
      "outputs": [
        {
          "output_type": "execute_result",
          "data": {
            "text/plain": [
              "1862"
            ]
          },
          "metadata": {
            "tags": []
          },
          "execution_count": 45
        }
      ]
    },
    {
      "cell_type": "code",
      "metadata": {
        "id": "SECo6Pl-RK8b"
      },
      "source": [
        "#replace NaN with 0 (easier to ignore them when subtracting strings)\n",
        "concat_df = concat_df.fillna(0)"
      ],
      "execution_count": null,
      "outputs": []
    },
    {
      "cell_type": "code",
      "metadata": {
        "id": "NKabSJj-5VFg"
      },
      "source": [
        "#add column to concat_df\n",
        "#for each index in concat_df:\n",
        "##for each rationale in rationales1, 2, 3 (if rationale not NaN):\n",
        "###no_empathy_response = re.sub(rationale, '', concat_df.loc['response_post'])\n",
        "###add no_empathy_response to new column\n",
        "\n",
        "\n",
        "concat_df['no_empathy_response'] = \"\"\n",
        "\n",
        "\n",
        "for i in range(0, len(concat_df)):\n",
        "        x = concat_df.loc[i, 'response_post']\n",
        "        if concat_df.loc[i, 'rationales1'] != 0:\n",
        "          z = re.sub(concat_df.loc[i, 'rationales1'], '', x)\n",
        "        if concat_df.loc[i, 'rationales2'] != 0:\n",
        "          z = re.sub(concat_df.loc[i, 'rationales2'], '', x)\n",
        "        if concat_df.loc[i, 'rationales3'] != 0:\n",
        "          z = re.sub(concat_df.loc[i, 'rationales3'], '', x)\n",
        "        concat_df.loc[i, 'no_empathy_response'] = z"
      ],
      "execution_count": null,
      "outputs": []
    },
    {
      "cell_type": "code",
      "metadata": {
        "colab": {
          "base_uri": "https://localhost:8080/"
        },
        "id": "7UimZJwc35xH",
        "outputId": "b4923844-45f7-42f6-8c3e-2e85c232a478"
      },
      "source": [
        "#If no_empathy_response is empty we drop the row and reset indexes\n",
        "concat_df = concat_df[concat_df.no_empathy_response != '']\n",
        "concat_df = concat_df.reset_index(drop=True)\n",
        "print(len(concat_df))"
      ],
      "execution_count": null,
      "outputs": [
        {
          "output_type": "stream",
          "text": [
            "1408\n"
          ],
          "name": "stdout"
        }
      ]
    },
    {
      "cell_type": "code",
      "metadata": {
        "id": "dquk8vDv7l-m"
      },
      "source": [
        "#now we only keep the seeker's post, the original (empathic) response, and the \n",
        "#modified response with the empathic sentence(s) removed.\n",
        "parallel_df = concat_df.drop(['sp_id',\t'rp_id', 'level', 'rationales1', 'rationales2', 'rationales3'], axis=1)"
      ],
      "execution_count": null,
      "outputs": []
    },
    {
      "cell_type": "code",
      "metadata": {
        "id": "3nR-z8O09ULG"
      },
      "source": [
        "#remove leftover punctuation and spaces if they appear at the beginning of a string\n",
        "\n",
        "#define punctuation\n",
        "punctuation = '''!()-[]{};:'\"\\,<>./?@#$%^&*_~'''\n",
        "\n",
        "\n",
        "for i in range(0, 10): #len(concat_df)\n",
        "     #inner loop repeats a few times to make sure we remove all punctuation and spaces from the beginning\n",
        "     j = 0\n",
        "     while j < 4:\n",
        "        parallel_df.loc[i, 'no_empathy_response'] = parallel_df.loc[i, 'no_empathy_response'][1:] if parallel_df.loc[i, 'no_empathy_response'][0] == ' ' else parallel_df.loc[i, 'no_empathy_response']   \n",
        "        parallel_df.loc[i, 'no_empathy_response'] = parallel_df.loc[i, 'no_empathy_response'][1:] if parallel_df.loc[i, 'no_empathy_response'][0] in punctuation else parallel_df.loc[i, 'no_empathy_response']\n",
        "        j += 1"
      ],
      "execution_count": null,
      "outputs": []
    },
    {
      "cell_type": "code",
      "metadata": {
        "id": "BGFINvHwHKsb"
      },
      "source": [
        "#for practicality we reorder and rename the columns\n",
        "\n",
        "parallel_df = parallel_df[['seeker_post', 'no_empathy_response', 'response_post']]\n",
        "parallel_df.rename(columns = {'no_empathy_response' : 'source', 'response_post' : 'target'}, inplace = True)"
      ],
      "execution_count": null,
      "outputs": []
    },
    {
      "cell_type": "code",
      "metadata": {
        "colab": {
          "base_uri": "https://localhost:8080/",
          "height": 697
        },
        "id": "jN-HJSy7MXQE",
        "outputId": "2cfe13ae-b356-4d8f-eaea-e86067da7370"
      },
      "source": [
        "#check final dataset\n",
        "parallel_df.head()"
      ],
      "execution_count": null,
      "outputs": [
        {
          "output_type": "execute_result",
          "data": {
            "text/html": [
              "<div>\n",
              "<style scoped>\n",
              "    .dataframe tbody tr th:only-of-type {\n",
              "        vertical-align: middle;\n",
              "    }\n",
              "\n",
              "    .dataframe tbody tr th {\n",
              "        vertical-align: top;\n",
              "    }\n",
              "\n",
              "    .dataframe thead th {\n",
              "        text-align: right;\n",
              "    }\n",
              "</style>\n",
              "<table border=\"1\" class=\"dataframe\">\n",
              "  <thead>\n",
              "    <tr style=\"text-align: right;\">\n",
              "      <th></th>\n",
              "      <th>seeker_post</th>\n",
              "      <th>source</th>\n",
              "      <th>target</th>\n",
              "    </tr>\n",
              "  </thead>\n",
              "  <tbody>\n",
              "    <tr>\n",
              "      <th>0</th>\n",
              "      <td>I've had a hard time going back to school. Going back to school has been difficult for me, It's been around five years since I've been in a class room and I ask the teachers and the people that I go to my classes to cut me some slack for being rusty but they tell me that it doesn't matter, and my step mom doesn't want me to use the computer because she doesn't want to share. Its lead me to skipping classes because I feel like theirs no use in going to school, it would be cool to know how you would handle this situation and if you can give me any advice.</td>\n",
              "      <td>but been in a similar situation after taking some time off of school. My best advice is to take the minimum amount of classes possible so you get too overwhelmed. For me essential to plan my assignments in advance, so that I can just do things one by one and not let it all get piled up cuz then I wanna die. Also, if you need a break, take one. School will always be there but good to take care of yourself too</td>\n",
              "      <td>sorry to hear that, but been in a similar situation after taking some time off of school. My best advice is to take the minimum amount of classes possible so you get too overwhelmed. For me essential to plan my assignments in advance, so that I can just do things one by one and not let it all get piled up cuz then I wanna die. Also, if you need a break, take one. School will always be there but good to take care of yourself too</td>\n",
              "    </tr>\n",
              "    <tr>\n",
              "      <th>1</th>\n",
              "      <td>I miss my mum. I'm just crying a lot today and.I'm really depressed because I miss my mum</td>\n",
              "      <td>I lost my mum too, two years ago.  but it'll get better for you, I promise.</td>\n",
              "      <td>I'm sorry, my friend. I lost my mum too, two years ago. I feel your pain but it'll get better for you, I promise.</td>\n",
              "    </tr>\n",
              "    <tr>\n",
              "      <th>2</th>\n",
              "      <td>Not going to kill myself but I really want to die. What is the point?? Everything is shit anyway?? I really didn't ask to be born and then my parents put this life responsibility on me. Anybody else feel like this?</td>\n",
              "      <td>omg lol I 100% blame my parents. After taking an AP Psychology course at my school, it kind of shifted my own perspective on my depression. I know I can't claim to be an expert after reading just one textbook, but even an idiot can realize that your behavior and who you are is just totally as a result of your parents. The genetic aspects aren't their fault of course, but they are perfect human specimens, so you can imagine what 17 years of always being wrong has done to my self esteem and thought process. Strangely, being cognizant of that fact doesn't change it much. Of course, I've directly told my parents I blame them for who I am, and as perfect specimens, they told me that I can't keep blaming them for everything. There's truth to that of course, but it's rather incredible that they can find the gall to abdicate themselves of all guilt and responsibility. I'd better just get on my hands and knees and obey their every whim, since they're the ones who work and pay for my existence, regardless of whether or not I can actually do jack shit about that  child labor laws, yo . Lol  I had to rant.</td>\n",
              "      <td>omg lol I 100% blame my parents. After taking an AP Psychology course at my school, it kind of shifted my own perspective on my depression. I know I can't claim to be an expert after reading just one textbook, but even an idiot can realize that your behavior and who you are is just totally as a result of your parents. The genetic aspects aren't their fault of course, but they are perfect human specimens, so you can imagine what 17 years of always being wrong has done to my self esteem and thought process. Strangely, being cognizant of that fact doesn't change it much. Of course, I've directly told my parents I blame them for who I am, and as perfect specimens, they told me that I can't keep blaming them for everything. There's truth to that of course, but it's rather incredible that they can find the gall to abdicate themselves of all guilt and responsibility. I'd better just get on my hands and knees and obey their every whim, since they're the ones who work and pay for my existence, regardless of whether or not I can actually do jack shit about that  child labor laws, yo . Lol sorry your post is just so relatable I had to rant.</td>\n",
              "    </tr>\n",
              "    <tr>\n",
              "      <th>3</th>\n",
              "      <td>Hang myself so much I've moved up to face cutting. There are times where I would like to smash a wine glad into my face, or fantasise about having my head smashed in. Today I started cutting my face.</td>\n",
              "      <td>Why the heck do we hate ourselves?! Man such as crappy lie we have bought from seriously the pit of hell. Nothing else could be so evil as to make us not believe we are worthy and deserving of a good life just as much as everyone else. Sorry to get weird there,  Anyway, I have one scar on my arm from one time that I tried that and there forever. It still makes me sad when I see it. . There will be a time in your future where you will not feel so much pain and will hopefully even feel better about yourself &amp;amp; the future you will be so thankful if you permanently scar your face.</td>\n",
              "      <td>Why the heck do we hate ourselves?! Man such as crappy lie we have bought from seriously the pit of hell. Nothing else could be so evil as to make us not believe we are worthy and deserving of a good life just as much as everyone else. Sorry to get weird there, it just makes me mad that anyone has to feel this way about themselves. Anyway, I have one scar on my arm from one time that I tried that and there forever. It still makes me sad when I see it. so sorry for what pain you are in. There will be a time in your future where you will not feel so much pain and will hopefully even feel better about yourself &amp;amp; the future you will be so thankful if you permanently scar your face.</td>\n",
              "    </tr>\n",
              "    <tr>\n",
              "      <th>4</th>\n",
              "      <td>Another twelve hour graveyard shift. And I forgot to take my meds.. It's gonna be a long night &amp;lt;/3</td>\n",
              "      <td>Hopefully it goes by quick.</td>\n",
              "      <td>Sorry to hear that. Hopefully it goes by quick.</td>\n",
              "    </tr>\n",
              "  </tbody>\n",
              "</table>\n",
              "</div>"
            ],
            "text/plain": [
              "                                                                                                                                                                                                                                                                                                                                                                                                                                                                                                                                                                       seeker_post  ...                                                                                                                                                                                                                                                                                                                                                                                                                                                                                                                                                                                                                                                                                                                                                                                                                                                                                                                                                                                                                                                                                                                                                                                       target\n",
              "0  I've had a hard time going back to school. Going back to school has been difficult for me, It's been around five years since I've been in a class room and I ask the teachers and the people that I go to my classes to cut me some slack for being rusty but they tell me that it doesn't matter, and my step mom doesn't want me to use the computer because she doesn't want to share. Its lead me to skipping classes because I feel like theirs no use in going to school, it would be cool to know how you would handle this situation and if you can give me any advice.  ...                                                                                                                                                                                                                                                                                                                                                                                                                                                                                                                                                                                                                                                                                                                                            sorry to hear that, but been in a similar situation after taking some time off of school. My best advice is to take the minimum amount of classes possible so you get too overwhelmed. For me essential to plan my assignments in advance, so that I can just do things one by one and not let it all get piled up cuz then I wanna die. Also, if you need a break, take one. School will always be there but good to take care of yourself too  \n",
              "1                                                                                                                                                                                                                                                                                                                                                                                                                                                                                        I miss my mum. I'm just crying a lot today and.I'm really depressed because I miss my mum  ...                                                                                                                                                                                                                                                                                                                                                                                                                                                                                                                                                                                                                                                                                                                                                                                                                                                                                                                                                                                                                                                                            I'm sorry, my friend. I lost my mum too, two years ago. I feel your pain but it'll get better for you, I promise.\n",
              "2                                                                                                                                                                                                                                                                                                                                                           Not going to kill myself but I really want to die. What is the point?? Everything is shit anyway?? I really didn't ask to be born and then my parents put this life responsibility on me. Anybody else feel like this?  ...  omg lol I 100% blame my parents. After taking an AP Psychology course at my school, it kind of shifted my own perspective on my depression. I know I can't claim to be an expert after reading just one textbook, but even an idiot can realize that your behavior and who you are is just totally as a result of your parents. The genetic aspects aren't their fault of course, but they are perfect human specimens, so you can imagine what 17 years of always being wrong has done to my self esteem and thought process. Strangely, being cognizant of that fact doesn't change it much. Of course, I've directly told my parents I blame them for who I am, and as perfect specimens, they told me that I can't keep blaming them for everything. There's truth to that of course, but it's rather incredible that they can find the gall to abdicate themselves of all guilt and responsibility. I'd better just get on my hands and knees and obey their every whim, since they're the ones who work and pay for my existence, regardless of whether or not I can actually do jack shit about that  child labor laws, yo . Lol sorry your post is just so relatable I had to rant.\n",
              "3                                                                                                                                                                                                                                                                                                                                                                          Hang myself so much I've moved up to face cutting. There are times where I would like to smash a wine glad into my face, or fantasise about having my head smashed in. Today I started cutting my face.  ...                                                                                                                                                                                                                                                                                                                                                                                                                                                                           Why the heck do we hate ourselves?! Man such as crappy lie we have bought from seriously the pit of hell. Nothing else could be so evil as to make us not believe we are worthy and deserving of a good life just as much as everyone else. Sorry to get weird there, it just makes me mad that anyone has to feel this way about themselves. Anyway, I have one scar on my arm from one time that I tried that and there forever. It still makes me sad when I see it. so sorry for what pain you are in. There will be a time in your future where you will not feel so much pain and will hopefully even feel better about yourself &amp; the future you will be so thankful if you permanently scar your face.\n",
              "4                                                                                                                                                                                                                                                                                                                                                                                                                                                                            Another twelve hour graveyard shift. And I forgot to take my meds.. It's gonna be a long night &lt;/3  ...                                                                                                                                                                                                                                                                                                                                                                                                                                                                                                                                                                                                                                                                                                                                                                                                                                                                                                                                                                                                                                                                                                                                              Sorry to hear that. Hopefully it goes by quick.\n",
              "\n",
              "[5 rows x 3 columns]"
            ]
          },
          "metadata": {
            "tags": []
          },
          "execution_count": 65
        }
      ]
    },
    {
      "cell_type": "code",
      "metadata": {
        "id": "hXV1ZuHrXEo1"
      },
      "source": [
        "#save the final dataset to Google Drive\n",
        "parallel_df.to_csv(r'drive/MyDrive/dataset.csv', index = False) #change this path if necessary"
      ],
      "execution_count": null,
      "outputs": []
    },
    {
      "cell_type": "code",
      "metadata": {
        "colab": {
          "base_uri": "https://localhost:8080/"
        },
        "id": "xYwOh_9lmIDv",
        "outputId": "fa1652e1-aa76-455c-83a5-c00194f6da24"
      },
      "source": [
        "import nltk\n",
        "nltk.download('punkt')"
      ],
      "execution_count": null,
      "outputs": [
        {
          "output_type": "stream",
          "text": [
            "[nltk_data] Downloading package punkt to /root/nltk_data...\n",
            "[nltk_data]   Unzipping tokenizers/punkt.zip.\n"
          ],
          "name": "stdout"
        },
        {
          "output_type": "execute_result",
          "data": {
            "text/plain": [
              "True"
            ]
          },
          "metadata": {
            "tags": []
          },
          "execution_count": 3
        }
      ]
    },
    {
      "cell_type": "code",
      "metadata": {
        "colab": {
          "base_uri": "https://localhost:8080/"
        },
        "id": "HPAw7rWZluC_",
        "outputId": "a920dd9b-868b-4bbc-ccb2-98efb1f41a45"
      },
      "source": [
        "#count unique tokens in corpus\n",
        "from nltk.tokenize import word_tokenize\n",
        "import csv\n",
        "\n",
        "tokens = []\n",
        "\n",
        "def get_data():\n",
        "    with open(\"drive/MyDrive/dataset.csv\", \"r\") as records:\n",
        "        for record in csv.reader(records):\n",
        "            yield record\n",
        "\n",
        "data = get_data()\n",
        "next(data)  # skip header\n",
        "\n",
        "for row in data:\n",
        "    for sent in row:\n",
        "        for token in word_tokenize(sent):\n",
        "            if token not in tokens:\n",
        "                tokens.append(token)\n",
        "len(tokens)"
      ],
      "execution_count": null,
      "outputs": [
        {
          "output_type": "execute_result",
          "data": {
            "text/plain": [
              "8410"
            ]
          },
          "metadata": {
            "tags": []
          },
          "execution_count": 11
        }
      ]
    }
  ]
}